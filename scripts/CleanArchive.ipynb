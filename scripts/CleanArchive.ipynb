{
 "cells": [
  {
   "cell_type": "markdown",
   "metadata": {
    "collapsed": true,
    "pycharm": {
     "name": "#%% md\n"
    }
   },
   "source": [
    "# Clean `archive.txt`\n",
    "A notebook for systematic fixes to `archive.txt`. Functions should not do anything if fixes are already applied.\n",
    "\n",
    "## Clean Urls\n",
    "A lot of archive urls include session ids or other issues that make analysis challenging. Let's fix it so I never have to think about it later."
   ]
  },
  {
   "cell_type": "code",
   "execution_count": 5,
   "outputs": [],
   "source": [
    "# load archive data\n",
    "with open('../data/archive.txt') as f:\n",
    "    archive = f.read()\n",
    "\n",
    "archive = archive.split('\\n\\n\\n')\n",
    "for index, game in enumerate(archive):\n",
    "    url = game.split('\\n')[0]\n",
    "    \n",
    "    # remove session id tags\n",
    "    url = url[:url.find('&sid')]\n",
    "    \n",
    "    # put everything back together\n",
    "    archive[index] = url + game[game.find('\\n'):]\n",
    "\n",
    "with open('../data/archive.txt', 'w') as f:\n",
    "    f.write('\\n\\n\\n'.join(archive))"
   ],
   "metadata": {
    "collapsed": false,
    "pycharm": {
     "name": "#%%\n",
     "is_executing": false
    }
   }
  }
 ],
 "metadata": {
  "kernelspec": {
   "display_name": "Python 3",
   "language": "python",
   "name": "python3"
  },
  "language_info": {
   "codemirror_mode": {
    "name": "ipython",
    "version": 2
   },
   "file_extension": ".py",
   "mimetype": "text/x-python",
   "name": "python",
   "nbconvert_exporter": "python",
   "pygments_lexer": "ipython2",
   "version": "2.7.6"
  },
  "pycharm": {
   "stem_cell": {
    "cell_type": "raw",
    "source": [],
    "metadata": {
     "collapsed": false
    }
   }
  }
 },
 "nbformat": 4,
 "nbformat_minor": 0
}