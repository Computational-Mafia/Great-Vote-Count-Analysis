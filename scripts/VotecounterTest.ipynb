{
 "cells": [
  {
   "cell_type": "markdown",
   "metadata": {},
   "source": [
    "# VotecounterTest\n",
    "A script for setting up and executing performance tests on votecounters."
   ]
  },
  {
   "cell_type": "markdown",
   "metadata": {},
   "source": [
    "## Dependencies"
   ]
  },
  {
   "cell_type": "code",
   "execution_count": 1,
   "metadata": {
    "pycharm": {
     "is_executing": false
    }
   },
   "outputs": [],
   "source": [
    "import json\n",
    "import time\n",
    "from VoteCount import VoteCount\n",
    "import VoteCounter\n",
    "from tqdm import tqdm\n",
    "import string\n",
    "\n",
    "# to help generate formatted output representations\n",
    "from IPython.core.display import display, HTML\n",
    "import markdown2 as md\n",
    "\n",
    "def html(markdown_string):\n",
    "    display(HTML(md.markdown(markdown_string)))\n",
    "    \n",
    "# for simplifying text to just numbers\n",
    "no_punctuation = str.maketrans(string.punctuation+string.ascii_letters, ' '*len(string.punctuation+string.ascii_letters))\n",
    "    \n",
    "# identify game archive and votecounter of interest\n",
    "archive = '../data/archive.txt'\n",
    "votecounter = VoteCounter"
   ]
  },
  {
   "cell_type": "markdown",
   "metadata": {},
   "source": [
    "## Helper Function(s)"
   ]
  },
  {
   "cell_type": "code",
   "execution_count": 2,
   "metadata": {
    "pycharm": {
     "is_executing": false
    }
   },
   "outputs": [],
   "source": [
    "def _relevantGameInfo(game):\n",
    "    link = game[:game.find('\\n')]\n",
    "    number = (link[link.find('&t=')+3:] if link.count('&')==1 \n",
    "                      else link[link.find('&t=')+3:link.rfind('&')])\n",
    "    title = game.split('\\n')[1]\n",
    "    title_number = [i for i in title.translate(no_punctuation).split() if i.isdigit()][0]\n",
    "    moderators = game.split('\\n')[2][len('Moderator: '):].split(', ')\n",
    "    slots, players, correct = [], [], None\n",
    "    for line in game[game.find('\\nPlayers\\n')+9:].split('\\n'):\n",
    "        line = line.split(', ')\n",
    "        players += line[0].split(' replaced ')\n",
    "        slots.append(line[0].split(' replaced ')) \n",
    "        if (line[2].lower().count('lynched') > 0 and\n",
    "            line[2].lower().count('day 1') > 0):\n",
    "            correct = slots[-1]\n",
    "    return slots, players, correct, number, transitions[title_number], moderators"
   ]
  },
  {
   "cell_type": "markdown",
   "metadata": {},
   "source": [
    "## VotecounterTest"
   ]
  },
  {
   "cell_type": "code",
   "execution_count": 146,
   "metadata": {},
   "outputs": [
    {
     "name": "stdout",
     "output_type": "stream",
     "text": [
      "0.9362416107382551 361.64498233795166\n"
     ]
    }
   ],
   "source": [
    "#parameters\n",
    "start_index = 0\n",
    "end_index = 0\n",
    "\n",
    "# open game archive, separate by game\n",
    "with open(archive, encoding='utf-8') as f:\n",
    "    games = f.read().split('\\n\\n\\n')  \n",
    "\n",
    "# open transitions archive, convert into dictionary of lists\n",
    "with open('../data/transitions.tsv') as f:\n",
    "    transitions = f.read()\n",
    "transitions = transitions.split('\\n')[3:]\n",
    "transitions = {line.split('\\t')[0]:line.strip().split('\\t')[1:] for line in transitions if len(line.strip().split('\\t')[1:]) > 0}\n",
    "\n",
    "# process votes in each game's posts until a lynch found\n",
    "# then store information about votecounter's performance\n",
    "vote_results, vote_success, transition_results, transition_success, t0, total = {}, 0, {}, 0, time.time(), 0\n",
    "end_index = end_index if end_index else len(games)  \n",
    "for game_index, game in enumerate(games[start_index:end_index]):\n",
    "    slots, players, correct, number, game_transitions, moderators = _relevantGameInfo(game)\n",
    "    votecount = VoteCount(slots, meta={'correct': correct})\n",
    "    votecounter = VoteCounter.VoteExtracter(players=players)\n",
    "\n",
    "    # collect gameposts associated with game number\n",
    "    with open('../data/posts/{}.jsonl'.format(number)) as f:\n",
    "        gameposts =  [json.loads(l) for l in f]\n",
    "        \n",
    "    tgame, transition_start, transition_end, transition_match, transition_url = time.time(), None, None, False, None\n",
    "    for post in gameposts:\n",
    "        # consider no more votes if voters have made a choice already\n",
    "        if not votecount.choice:\n",
    "\n",
    "            # ignore posts not made by players\n",
    "            if players.count(post['user']) == 0:\n",
    "                continue\n",
    "\n",
    "            # update votecount for each vote found by votecounter\n",
    "            # stop considering votes in post if votecount.choice\n",
    "            for voted in votecounter.fromPost(post):\n",
    "                votecount.update(post['user'], voted, post['number'])\n",
    "                if votecount.choice:\n",
    "                    vote_success += votecount.choice == correct\n",
    "                    break\n",
    "        \n",
    "        # keep scanning to find newest post by game mod after detectedhammer\n",
    "        elif not transition_start:\n",
    "            if moderators.count(post['user']) > 0:\n",
    "                transition_start = int(post['number'])\n",
    "                transition_url = post['pagelink']\n",
    "        \n",
    "        # keep scanning to find last successive post by mod after they end Day\n",
    "        elif not transition_end:\n",
    "            if moderators.count(post['user']) == 0:\n",
    "                transition_end = int(post['number'])\n",
    "                \n",
    "                # track match between inferred and transcribed transition post#\n",
    "                transition_match = int(game_transitions[0]) in list(range(transition_start, transition_end))\n",
    "                transition_success += transition_match\n",
    "        \n",
    "        # finish if votecount.choice, transition_start, and transition_end all populated\n",
    "        else:\n",
    "            break\n",
    "    \n",
    "    transition_results[number] = [list(range(transition_start, transition_end)), transition_url] if transition_start and transition_end else \"None\"\n",
    "    vote_results[number] = votecount\n",
    "    total += 1\n",
    "    if not transition_match:\n",
    "        if '\\nNotes: ' not in game.split('\\n\\n')[0]:\n",
    "            print(game.split('\\n\\n')[0])\n",
    "            print(game_index + start_index, number, vote_success, transition_success, total, votecount.choice == correct, transition_match, time.time()-tgame)\n",
    "    \n",
    "print(vote_success/float(end_index-start_index), time.time()-t0)"
   ]
  },
  {
   "cell_type": "markdown",
   "metadata": {},
   "source": [
    "## Analyze Results\n",
    "Will have to revise this to adapt to new variable names/codeflow."
   ]
  },
  {
   "cell_type": "code",
   "execution_count": 143,
   "metadata": {},
   "outputs": [
    {
     "data": {
      "text/html": [
       "<h1>71908</h1>\n"
      ],
      "text/plain": [
       "<IPython.core.display.HTML object>"
      ]
     },
     "metadata": {},
     "output_type": "display_data"
    },
    {
     "name": "stdout",
     "output_type": "stream",
     "text": [
      "https://forum.mafiascum.net/viewtopic.php?f=53&t=71908\n",
      "Mini Normal 1914\n",
      "Moderator: Fro99er, mhsmith0\n",
      "Current Update: Mafia Win\n",
      "\n",
      "Players\n",
      "LaLight, Town Odd-Night Rolecop, lynched day 2\n",
      "TwoFace, Vanilla Townie, killed night 4\n",
      "Cooperative Sheep, Town 2-shot Rolestopper, killed night 1\n",
      "Nachomamma8 replaced Mulch replaced Jordarrian, Vanilla Townie, lynched day 6\n",
      "I Am Innocent, Vanilla Townie, endgamed\n",
      "Vedith replaced Ingeel, Mafia Weak Doctor, killed night 3\n",
      "BTD6_maker replaced noseacaballo, Town 2-Shot Roleblocker, lynched day 3\n",
      "iDanyboy, Vanilla Townie, killed night 5\n",
      "MarioManiac4, Town Motion Detector, lynched day 4\n",
      "Dragnalus, Vanilla Townie, lynched day 1\n",
      "Syndesis, Mafia Goon, lynched day 5\n",
      "Alisae replaced TrueGent, Town Even-Night Rolecop, killed night 2\n",
      "Dunkerdoodles replaced mush, Mafia Goon, survived\n",
      "\n",
      "Vote Choice: ['Dragnalus']\n",
      "Vote Correct: ['Dragnalus']\n"
     ]
    },
    {
     "data": {
      "text/html": [
       "<h1>Post 1068</h1>\n"
      ],
      "text/plain": [
       "<IPython.core.display.HTML object>"
      ]
     },
     "metadata": {},
     "output_type": "display_data"
    },
    {
     "name": "stdout",
     "output_type": "stream",
     "text": [
      "Extracted Votes: []\n",
      "\n",
      "{'forum': '53', 'thread': '71908', 'pagelink': 'https://forum.mafiascum.net/viewtopic.php?f=53&t=71908&start=1050', 'number': '1068', 'timestamp': 'Sat Jun 03, 2017 11:04 am', 'user': 'Fro99er', 'content': '<div style=\"text-align: center\"><span class=\"noboldsig\"><span style=\"font-size: 300%; line-height: 116%;\"><span style=\"font-family: \\'Chiller\\';\"><span style=\"color:#000000 !important; background:#000000 !important; padding:0px 3px;\" title=\"This text is hidden to prevent spoilers; to reveal, highlight it with your cursor.\"><span style=\"color: #FFBF00\"><span class=\"nocolorsig\"><img src=\"http://i.imgur.com/cANdMfU.png\" alt=\"Image\"><br><br>A lynch has been achieved...<br><br> <img src=\"./images/smilies/icon_surprised2.gif\" alt=\":o\" title=\"Surprised\">  <img src=\"./images/smilies/icon_surprised2.gif\" alt=\":o\" title=\"Surprised\">  <img src=\"./images/smilies/icon_surprised2.gif\" alt=\":o\" title=\"Surprised\">  <img src=\"./images/smilies/icon_surprised2.gif\" alt=\":o\" title=\"Surprised\">  <img src=\"./images/smilies/icon_surprised2.gif\" alt=\":o\" title=\"Surprised\">  <img src=\"./images/smilies/icon_surprised2.gif\" alt=\":o\" title=\"Surprised\">  <img src=\"./images/smilies/icon_surprised2.gif\" alt=\":o\" title=\"Surprised\">  <img src=\"./images/smilies/icon_surprised2.gif\" alt=\":o\" title=\"Surprised\">  <img src=\"./images/smilies/icon_surprised2.gif\" alt=\":o\" title=\"Surprised\">  <img src=\"./images/smilies/icon_surprised2.gif\" alt=\":o\" title=\"Surprised\">  <img src=\"./images/smilies/icon_surprised2.gif\" alt=\":o\" title=\"Surprised\">  <img src=\"./images/smilies/icon_surprised2.gif\" alt=\":o\" title=\"Surprised\"><br><br>Dragnalus was a...</span></span></span><div style=\"margin:20px; margin-top:1px; margin-bottom:1px;\"><div class=\"quotetitle\"><b>Spoiler: Flip</b> <input type=\"button\" value=\"Show\" class=\"button2\" onclick=\"if (this.parentNode.parentNode.getElementsByTagName(\\'div\\')[1].getElementsByTagName(\\'div\\')[0].style.display != \\'\\') { this.parentNode.parentNode.getElementsByTagName(\\'div\\')[1].getElementsByTagName(\\'div\\')[0].style.display = \\'\\'; this.innerText = \\'\\'; this.value = \\'Hide\\'; } else { this.parentNode.parentNode.getElementsByTagName(\\'div\\')[1].getElementsByTagName(\\'div\\')[0].style.display = \\'none\\'; this.innerText = \\'\\'; this.value = \\'Show\\'; }\"></div><div class=\"quotecontent\"><div style=\"display: none;\"><span style=\"color: Green\"><span class=\"nocolorsig\">VANILLA TOWNIE</span></span></div></div></div></span></span></span></div><br><br><div style=\"text-align: center\"><span style=\"font-family: \\'Chiller\\';\"><span class=\"noboldsig\"><span style=\"font-size: 300%; line-height: 116%;\"><span style=\"color:#000000 !important; background:#000000 !important; padding:0px 3px;\" title=\"This text is hidden to prevent spoilers; to reveal, highlight it with your cursor.\"><span style=\"color: #FFBF00\"><span class=\"nocolorsig\">Day 1 has ended. A very Sunshine-y Night 1 begins and will end in <span class=\"countdown\"><span style=\"font-style:italic;\">(expired on 2017-06-05 09:15:00)</span></span>. Please submit any night actions via PM/PT.</span></span></span></span></span></span></div>'}\n",
      "\n"
     ]
    },
    {
     "data": {
      "text/html": [
       "<div style=\"text-align: center\"><span class=\"noboldsig\"><span style=\"font-size: 300%; line-height: 116%;\"><span style=\"font-family: 'Chiller';\"><span style=\"color:#000000 !important; background:#000000 !important; padding:0px 3px;\" title=\"This text is hidden to prevent spoilers; to reveal, highlight it with your cursor.\"><span style=\"color: #FFBF00\"><span class=\"nocolorsig\"><img src=\"http://i.imgur.com/cANdMfU.png\" alt=\"Image\"><br><br>A lynch has been achieved...<br><br> <img src=\"./images/smilies/icon_surprised2.gif\" alt=\":o\" title=\"Surprised\">  <img src=\"./images/smilies/icon_surprised2.gif\" alt=\":o\" title=\"Surprised\">  <img src=\"./images/smilies/icon_surprised2.gif\" alt=\":o\" title=\"Surprised\">  <img src=\"./images/smilies/icon_surprised2.gif\" alt=\":o\" title=\"Surprised\">  <img src=\"./images/smilies/icon_surprised2.gif\" alt=\":o\" title=\"Surprised\">  <img src=\"./images/smilies/icon_surprised2.gif\" alt=\":o\" title=\"Surprised\">  <img src=\"./images/smilies/icon_surprised2.gif\" alt=\":o\" title=\"Surprised\">  <img src=\"./images/smilies/icon_surprised2.gif\" alt=\":o\" title=\"Surprised\">  <img src=\"./images/smilies/icon_surprised2.gif\" alt=\":o\" title=\"Surprised\">  <img src=\"./images/smilies/icon_surprised2.gif\" alt=\":o\" title=\"Surprised\">  <img src=\"./images/smilies/icon_surprised2.gif\" alt=\":o\" title=\"Surprised\">  <img src=\"./images/smilies/icon_surprised2.gif\" alt=\":o\" title=\"Surprised\"><br><br>Dragnalus was a...</span></span></span><div style=\"margin:20px; margin-top:1px; margin-bottom:1px;\"><div class=\"quotetitle\"><b>Spoiler: Flip</b> <input type=\"button\" value=\"Show\" class=\"button2\" onclick=\"if (this.parentNode.parentNode.getElementsByTagName('div')[1].getElementsByTagName('div')[0].style.display != '') { this.parentNode.parentNode.getElementsByTagName('div')[1].getElementsByTagName('div')[0].style.display = ''; this.innerText = ''; this.value = 'Hide'; } else { this.parentNode.parentNode.getElementsByTagName('div')[1].getElementsByTagName('div')[0].style.display = 'none'; this.innerText = ''; this.value = 'Show'; }\"></div><div class=\"quotecontent\"><div style=\"display: none;\"><span style=\"color: Green\"><span class=\"nocolorsig\">VANILLA TOWNIE</span></span></div></div></div></span></span></span></div><br><br><div style=\"text-align: center\"><span style=\"font-family: 'Chiller';\"><span class=\"noboldsig\"><span style=\"font-size: 300%; line-height: 116%;\"><span style=\"color:#000000 !important; background:#000000 !important; padding:0px 3px;\" title=\"This text is hidden to prevent spoilers; to reveal, highlight it with your cursor.\"><span style=\"color: #FFBF00\"><span class=\"nocolorsig\">Day 1 has ended. A very Sunshine-y Night 1 begins and will end in <span class=\"countdown\"><span style=\"font-style:italic;\">(expired on 2017-06-05 09:15:00)</span></span>. Please submit any night actions via PM/PT.</span></span></span></span></span></span></div>"
      ],
      "text/plain": [
       "<IPython.core.display.HTML object>"
      ]
     },
     "metadata": {},
     "output_type": "display_data"
    },
    {
     "data": {
      "text/html": [
       "<h1>Phase Transitions</h1>\n"
      ],
      "text/plain": [
       "<IPython.core.display.HTML object>"
      ]
     },
     "metadata": {},
     "output_type": "display_data"
    },
    {
     "name": "stdout",
     "output_type": "stream",
     "text": [
      "True Transitions: ['1068', '1247', '2135', '2372', '2398', '2341', '-']\n",
      "[[1062], 'https://forum.mafiascum.net/viewtopic.php?f=53&t=71908&start=1050']\n"
     ]
    },
    {
     "data": {
      "text/html": [
       "<p><a href=\"https://forum.mafiascum.net/viewtopic.php?f=53&amp;t=71908&amp;start=1050\">[1062]</a></p>\n"
      ],
      "text/plain": [
       "<IPython.core.display.HTML object>"
      ]
     },
     "metadata": {},
     "output_type": "display_data"
    },
    {
     "name": "stdout",
     "output_type": "stream",
     "text": [
      "Final Vote Post# 929\n",
      "Transition Start: 1062\n",
      "Transition End: 1062\n",
      "Transition Match: False\n"
     ]
    },
    {
     "data": {
      "text/html": [
       "<h1>Current Votecount (Up to 1068)</h1>\n"
      ],
      "text/plain": [
       "<IPython.core.display.HTML object>"
      ]
     },
     "metadata": {},
     "output_type": "display_data"
    },
    {
     "name": "stdout",
     "output_type": "stream",
     "text": [
      "['I Am Innocent'] - 2\n",
      "['Syndesis']\n",
      "['BTD6_maker', 'noseacaballo']\n",
      "\n",
      "['Vedith', 'Ingeel'] - 1\n",
      "['Cooperative Sheep']\n",
      "\n",
      "['Dragnalus'] - 7\n",
      "['TwoFace']\n",
      "['iDanyboy']\n",
      "['Nachomamma8', 'Mulch', 'Jordarrian']\n",
      "['LaLight']\n",
      "['MarioManiac4']\n",
      "['Dunkerdoodles', 'mush']\n",
      "['Alisae', 'TrueGent']\n",
      "\n",
      "['Alisae', 'TrueGent'] - 2\n",
      "['Vedith', 'Ingeel']\n",
      "['I Am Innocent']\n",
      "\n",
      "Not Voting - 1\n",
      "['Dragnalus']\n",
      "\n"
     ]
    },
    {
     "data": {
      "text/html": [
       "<h1>Final Votecount</h1>\n"
      ],
      "text/plain": [
       "<IPython.core.display.HTML object>"
      ]
     },
     "metadata": {},
     "output_type": "display_data"
    },
    {
     "name": "stdout",
     "output_type": "stream",
     "text": [
      "['I Am Innocent'] - 2\n",
      "['Syndesis']\n",
      "['BTD6_maker', 'noseacaballo']\n",
      "\n",
      "['Vedith', 'Ingeel'] - 1\n",
      "['Cooperative Sheep']\n",
      "\n",
      "['Dragnalus'] - 7\n",
      "['TwoFace']\n",
      "['iDanyboy']\n",
      "['Nachomamma8', 'Mulch', 'Jordarrian']\n",
      "['LaLight']\n",
      "['MarioManiac4']\n",
      "['Dunkerdoodles', 'mush']\n",
      "['Alisae', 'TrueGent']\n",
      "\n",
      "['Alisae', 'TrueGent'] - 2\n",
      "['Vedith', 'Ingeel']\n",
      "['I Am Innocent']\n",
      "\n",
      "Not Voting - 1\n",
      "['Dragnalus']\n",
      "\n"
     ]
    },
    {
     "data": {
      "text/html": [
       "<h1>Vote Log</h1>\n"
      ],
      "text/plain": [
       "<IPython.core.display.HTML object>"
      ]
     },
     "metadata": {},
     "output_type": "display_data"
    },
    {
     "data": {
      "text/html": [
       "<p>Alisae voted Dragnalus in post <a href=\"https://forum.mafiascum.net/viewtopic.php?f=53&amp;t=71908&amp;start=925\">929</a> <br />\n",
       "mush voted Dragnalus in post <a href=\"https://forum.mafiascum.net/viewtopic.php?f=53&amp;t=71908&amp;start=900\">920</a> <br />\n",
       "MarioManiac4 voted Dragnalus in post <a href=\"https://forum.mafiascum.net/viewtopic.php?f=53&amp;t=71908&amp;start=875\">896</a> <br />\n",
       "BTD6_maker voted I Am Innocent in post <a href=\"https://forum.mafiascum.net/viewtopic.php?f=53&amp;t=71908&amp;start=850\">850</a> <br />\n",
       "LaLight voted Dragnalus in post <a href=\"https://forum.mafiascum.net/viewtopic.php?f=53&amp;t=71908&amp;start=825\">844</a> <br />\n",
       "Dragnalus voted UNVOTE in post <a href=\"https://forum.mafiascum.net/viewtopic.php?f=53&amp;t=71908&amp;start=825\">841</a> <br />\n",
       "Mulch voted Dragnalus in post <a href=\"https://forum.mafiascum.net/viewtopic.php?f=53&amp;t=71908&amp;start=725\">726</a> <br />\n",
       "MarioManiac4 voted LaLight in post <a href=\"https://forum.mafiascum.net/viewtopic.php?f=53&amp;t=71908&amp;start=675\">698</a> <br />\n",
       "LaLight voted Ingeel in post <a href=\"https://forum.mafiascum.net/viewtopic.php?f=53&amp;t=71908&amp;start=675\">694</a> <br />\n",
       "iDanyboy voted Dragnalus in post <a href=\"https://forum.mafiascum.net/viewtopic.php?f=53&amp;t=71908&amp;start=675\">683</a> <br />\n",
       "Mulch voted MarioManiac4 in post <a href=\"https://forum.mafiascum.net/viewtopic.php?f=53&amp;t=71908&amp;start=650\">662</a> <br />\n",
       "Mulch voted UNVOTE in post <a href=\"https://forum.mafiascum.net/viewtopic.php?f=53&amp;t=71908&amp;start=600\">615</a> <br />\n",
       "Mulch voted I Am Innocent in post <a href=\"https://forum.mafiascum.net/viewtopic.php?f=53&amp;t=71908&amp;start=600\">610</a> <br />\n",
       "I Am Innocent voted Alisae in post <a href=\"https://forum.mafiascum.net/viewtopic.php?f=53&amp;t=71908&amp;start=575\">598</a> <br />\n",
       "Alisae voted I Am Innocent in post <a href=\"https://forum.mafiascum.net/viewtopic.php?f=53&amp;t=71908&amp;start=575\">583</a> <br />\n",
       "I Am Innocent voted Ingeel in post <a href=\"https://forum.mafiascum.net/viewtopic.php?f=53&amp;t=71908&amp;start=575\">582</a> <br />\n",
       "Mulch voted MarioManiac4 in post <a href=\"https://forum.mafiascum.net/viewtopic.php?f=53&amp;t=71908&amp;start=550\">564</a> <br />\n",
       "Mulch voted Alisae in post <a href=\"https://forum.mafiascum.net/viewtopic.php?f=53&amp;t=71908&amp;start=550\">563</a> <br />\n",
       "Alisae voted UNVOTE in post <a href=\"https://forum.mafiascum.net/viewtopic.php?f=53&amp;t=71908&amp;start=550\">558</a> <br />\n",
       "Mulch voted MarioManiac4 in post <a href=\"https://forum.mafiascum.net/viewtopic.php?f=53&amp;t=71908&amp;start=500\">517</a> <br />\n",
       "Dragnalus voted MarioManiac4 in post <a href=\"https://forum.mafiascum.net/viewtopic.php?f=53&amp;t=71908&amp;start=500\">516</a> <br />\n",
       "Mulch voted MarioManiac4 in post <a href=\"https://forum.mafiascum.net/viewtopic.php?f=53&amp;t=71908&amp;start=475\">476</a> <br />\n",
       "Mulch voted MarioManiac4 in post <a href=\"https://forum.mafiascum.net/viewtopic.php?f=53&amp;t=71908&amp;start=475\">476</a> <br />\n",
       "Mulch voted MarioManiac4 in post <a href=\"https://forum.mafiascum.net/viewtopic.php?f=53&amp;t=71908&amp;start=475\">476</a> <br />\n",
       "Mulch voted MarioManiac4 in post <a href=\"https://forum.mafiascum.net/viewtopic.php?f=53&amp;t=71908&amp;start=450\">472</a> <br />\n",
       "Dragnalus voted LaLight in post <a href=\"https://forum.mafiascum.net/viewtopic.php?f=53&amp;t=71908&amp;start=450\">450</a> <br />\n",
       "Mulch voted MarioManiac4 in post <a href=\"https://forum.mafiascum.net/viewtopic.php?f=53&amp;t=71908&amp;start=400\">409</a> <br />\n",
       "Mulch voted UNVOTE in post <a href=\"https://forum.mafiascum.net/viewtopic.php?f=53&amp;t=71908&amp;start=400\">409</a> <br />\n",
       "mush voted LaLight in post <a href=\"https://forum.mafiascum.net/viewtopic.php?f=53&amp;t=71908&amp;start=400\">407</a> <br />\n",
       "mush voted LaLight in post <a href=\"https://forum.mafiascum.net/viewtopic.php?f=53&amp;t=71908&amp;start=400\">406</a> <br />\n",
       "MarioManiac4 voted iDanyboy in post <a href=\"https://forum.mafiascum.net/viewtopic.php?f=53&amp;t=71908&amp;start=350\">372</a> <br />\n",
       "MarioManiac4 voted LaLight in post <a href=\"https://forum.mafiascum.net/viewtopic.php?f=53&amp;t=71908&amp;start=350\">368</a> <br />\n",
       "Dragnalus voted mush in post <a href=\"https://forum.mafiascum.net/viewtopic.php?f=53&amp;t=71908&amp;start=325\">349</a> <br />\n",
       "LaLight voted Alisae in post <a href=\"https://forum.mafiascum.net/viewtopic.php?f=53&amp;t=71908&amp;start=325\">347</a> <br />\n",
       "Alisae voted MarioManiac4 in post <a href=\"https://forum.mafiascum.net/viewtopic.php?f=53&amp;t=71908&amp;start=325\">329</a> <br />\n",
       "Alisae voted UNVOTE in post <a href=\"https://forum.mafiascum.net/viewtopic.php?f=53&amp;t=71908&amp;start=275\">299</a> <br />\n",
       "Alisae voted TwoFace in post <a href=\"https://forum.mafiascum.net/viewtopic.php?f=53&amp;t=71908&amp;start=275\">280</a> <br />\n",
       "Mulch voted mush in post <a href=\"https://forum.mafiascum.net/viewtopic.php?f=53&amp;t=71908&amp;start=250\">267</a> <br />\n",
       "Mulch voted UNVOTE in post <a href=\"https://forum.mafiascum.net/viewtopic.php?f=53&amp;t=71908&amp;start=250\">261</a> <br />\n",
       "Mulch voted MarioManiac4 in post <a href=\"https://forum.mafiascum.net/viewtopic.php?f=53&amp;t=71908&amp;start=250\">251</a> <br />\n",
       "Mulch voted TwoFace in post <a href=\"https://forum.mafiascum.net/viewtopic.php?f=53&amp;t=71908&amp;start=225\">243</a> <br />\n",
       "mush voted Ingeel in post <a href=\"https://forum.mafiascum.net/viewtopic.php?f=53&amp;t=71908&amp;start=225\">237</a> <br />\n",
       "Mulch voted UNVOTE in post <a href=\"https://forum.mafiascum.net/viewtopic.php?f=53&amp;t=71908&amp;start=225\">234</a> <br />\n",
       "Dragnalus voted UNVOTE in post <a href=\"https://forum.mafiascum.net/viewtopic.php?f=53&amp;t=71908&amp;start=175\">191</a> <br />\n",
       "Dragnalus voted TwoFace in post <a href=\"https://forum.mafiascum.net/viewtopic.php?f=53&amp;t=71908&amp;start=150\">165</a> <br />\n",
       "iDanyboy voted Ingeel in post <a href=\"https://forum.mafiascum.net/viewtopic.php?f=53&amp;t=71908&amp;start=125\">148</a> <br />\n",
       "iDanyboy voted UNVOTE in post <a href=\"https://forum.mafiascum.net/viewtopic.php?f=53&amp;t=71908&amp;start=125\">148</a> <br />\n",
       "mush voted LaLight in post <a href=\"https://forum.mafiascum.net/viewtopic.php?f=53&amp;t=71908&amp;start=125\">137</a> <br />\n",
       "mush voted UNVOTE in post <a href=\"https://forum.mafiascum.net/viewtopic.php?f=53&amp;t=71908&amp;start=125\">137</a> <br />\n",
       "mush voted TrueGent in post <a href=\"https://forum.mafiascum.net/viewtopic.php?f=53&amp;t=71908&amp;start=100\">122</a> <br />\n",
       "TrueGent voted Dragnalus in post <a href=\"https://forum.mafiascum.net/viewtopic.php?f=53&amp;t=71908&amp;start=50\">73</a> <br />\n",
       "Jordarrian voted UNVOTE in post <a href=\"https://forum.mafiascum.net/viewtopic.php?f=53&amp;t=71908&amp;start=50\">69</a> <br />\n",
       "iDanyboy voted Dragnalus in post <a href=\"https://forum.mafiascum.net/viewtopic.php?f=53&amp;t=71908&amp;start=50\">61</a> <br />\n",
       "TwoFace voted Dragnalus in post <a href=\"https://forum.mafiascum.net/viewtopic.php?f=53&amp;t=71908&amp;start=25\">48</a> <br />\n",
       "MarioManiac4 voted Dragnalus in post <a href=\"https://forum.mafiascum.net/viewtopic.php?f=53&amp;t=71908&amp;start=25\">34</a> <br />\n",
       "MarioManiac4 voted LaLight in post <a href=\"https://forum.mafiascum.net/viewtopic.php?f=53&amp;t=71908&amp;start=25\">26</a> <br />\n",
       "Dragnalus voted UNVOTE in post <a href=\"https://forum.mafiascum.net/viewtopic.php?f=53&amp;t=71908&amp;start=0\">23</a> <br />\n",
       "Ingeel voted TrueGent in post <a href=\"https://forum.mafiascum.net/viewtopic.php?f=53&amp;t=71908&amp;start=0\">20</a> <br />\n",
       "Cooperative Sheep voted Ingeel in post <a href=\"https://forum.mafiascum.net/viewtopic.php?f=53&amp;t=71908&amp;start=0\">19</a> <br />\n",
       "TwoFace voted Ingeel in post <a href=\"https://forum.mafiascum.net/viewtopic.php?f=53&amp;t=71908&amp;start=0\">18</a> <br />\n",
       "I Am Innocent voted mush in post <a href=\"https://forum.mafiascum.net/viewtopic.php?f=53&amp;t=71908&amp;start=0\">16</a> <br />\n",
       "Dragnalus voted TwoFace in post <a href=\"https://forum.mafiascum.net/viewtopic.php?f=53&amp;t=71908&amp;start=0\">15</a> <br />\n",
       "iDanyboy voted Syndesis in post <a href=\"https://forum.mafiascum.net/viewtopic.php?f=53&amp;t=71908&amp;start=0\">14</a> <br />\n",
       "MarioManiac4 voted Ingeel in post <a href=\"https://forum.mafiascum.net/viewtopic.php?f=53&amp;t=71908&amp;start=0\">13</a> <br />\n",
       "LaLight voted Cooperative Sheep in post <a href=\"https://forum.mafiascum.net/viewtopic.php?f=53&amp;t=71908&amp;start=0\">12</a> <br />\n",
       "Jordarrian voted Ingeel in post <a href=\"https://forum.mafiascum.net/viewtopic.php?f=53&amp;t=71908&amp;start=0\">9</a> <br />\n",
       "Syndesis voted I Am Innocent in post <a href=\"https://forum.mafiascum.net/viewtopic.php?f=53&amp;t=71908&amp;start=0\">5</a></p>\n"
      ],
      "text/plain": [
       "<IPython.core.display.HTML object>"
      ]
     },
     "metadata": {},
     "output_type": "display_data"
    }
   ],
   "source": [
    "# parameters\n",
    "game_index = 287\n",
    "postnumber = 0\n",
    "day = 1\n",
    "day -= 1\n",
    "postnumber = str(postnumber)\n",
    "\n",
    "# open game archive, separate by game\n",
    "with open(archive, encoding='utf-8') as f:\n",
    "    games = f.read().split('\\n\\n\\n')  \n",
    "\n",
    "# generate votecounter w/ specified players\n",
    "game = games[game_index]\n",
    "slots, players, correct, number, game_transitions, moderators = _relevantGameInfo(game)\n",
    "if not int(postnumber):\n",
    "    postnumber = game_transitions[day]\n",
    "    \n",
    "html('# {}'.format(number))\n",
    "print(games[game_index])\n",
    "print()\n",
    "print('Vote Choice:', vote_results[number].choice)\n",
    "print('Vote Correct:', vote_results[number].meta['correct'])\n",
    "votecount = VoteCount(slots, meta={'correct': correct})\n",
    "votecounter = VoteCounter.VoteExtracter(players=players)\n",
    "\n",
    "# collect gameposts associated with game number\n",
    "with open('../data/posts/{}.jsonl'.format(number)) as f:\n",
    "    gameposts = [json.loads(l) for l in f]\n",
    "    \n",
    "# find and display selected post along with votecounter output for it\n",
    "html('# Post {}'.format(postnumber))\n",
    "post = next(item for item in gameposts if item[\"number\"] == postnumber)\n",
    "print('Extracted Votes:', list(votecounter.fromPost(post)))\n",
    "print()\n",
    "print(post)\n",
    "print()\n",
    "display(HTML(post['content']))\n",
    "    \n",
    "# display extracted and true phase transitions\n",
    "html('# Phase Transitions')\n",
    "print('True Transitions:', game_transitions)\n",
    "print(transition_results[number])\n",
    "html('[{}]({})'.format(*transition_results[number]))\n",
    "transition_start, transition_end, transition_match, final_vote = None, None, False, None\n",
    "for post in gameposts[:int(postnumber)+10]:\n",
    "\n",
    "    # consider no more votes if voters have made a choice already\n",
    "    if not votecount.choice:\n",
    "\n",
    "        # ignore posts not made by players\n",
    "        if players.count(post['user']) == 0:\n",
    "            continue\n",
    "\n",
    "        # update votecount for each vote found by votecounter\n",
    "        # stop considering votes in post if votecount.choice\n",
    "        for voted in votecounter.fromPost(post):\n",
    "            votecount.update(post['user'], voted, post['number'])\n",
    "            if votecount.choice:\n",
    "                print('Final Vote Post#', post['number'])\n",
    "                break\n",
    "\n",
    "    # keep scanning to find newest post by game mod after detectedhammer\n",
    "    elif not transition_start:\n",
    "        if moderators.count(post['user']) > 0:\n",
    "            transition_start = int(post['number'])\n",
    "            print('Transition Start:', transition_start)\n",
    "\n",
    "    # keep scanning to find last successive post by mod after they end Day\n",
    "    elif not transition_end:\n",
    "        if moderators.count(post['user']) == 0:\n",
    "            transition_end = int(post['number'])\n",
    "            print('Transition End:', transition_start)\n",
    "\n",
    "            # track match between inferred and transcribed transition post#\n",
    "            transition_match = int(game_transitions[0]) in list(range(transition_start, transition_end))\n",
    "            print('Transition Match:', transition_match)\n",
    "\n",
    "    # finish if votecount.choice, transition_start, and transition_end all populated\n",
    "    else:\n",
    "        break\n",
    "        \n",
    "# display votecount up to indicated post number\n",
    "html('# Current Votecount (Up to {})'.format(postnumber))\n",
    "current_votecount = votecount.todict()\n",
    "for each in current_votecount:\n",
    "    if current_votecount[each]:\n",
    "        print(each, '-', len(current_votecount[each]))\n",
    "        for voter in current_votecount[each]:\n",
    "            print(voter)\n",
    "        print()\n",
    "\n",
    "# display final votecount\n",
    "html('# Final Votecount')\n",
    "final_votecount = vote_results[number].todict()\n",
    "for each in final_votecount:\n",
    "    if final_votecount[each]:\n",
    "        print(each, '-', len(final_votecount[each]))\n",
    "        for voter in final_votecount[each]:\n",
    "            print(voter)\n",
    "        print()\n",
    "        \n",
    "# display final votelog\n",
    "html('# Vote Log')\n",
    "votelog = vote_results[number].votelog.copy()\n",
    "for index, each in enumerate(votelog):\n",
    "    each = each.split()\n",
    "    each[-1] = '[{}]({})'.format(each[-1], next(item for item in gameposts if item[\"number\"] == each[-1])['pagelink'])\n",
    "    votelog[index] = ' '.join(each)\n",
    "html('  \\n'.join(reversed(votelog)))"
   ]
  },
  {
   "cell_type": "code",
   "execution_count": 95,
   "metadata": {},
   "outputs": [
    {
     "data": {
      "text/html": [
       "<blockquote><div><cite>In <a href=\"http://www.mafiascum.net/forum/viewtopic.php?p=5733357#p5733357\" class=\"postlink\">post 1082</a>, bjc wrote:</cite>Do you think they noticed our distancing?</div></blockquote><br>Of course we did - we're actively discussing it. Duh.<br><br>@Pisskop - my case on you was unique and not a sheep of anyone else's case. My presented thoughts after the hammer were unique, and I started the conversation on all those points. Same with the case on SiX, I created that and started the conversation. I probably did a lot of other things too. Your mouth is writing checks your fanny can't cashew  <img src=\"./images/smilies/icon_lol2.gif\" alt=\":lol:\" title=\"Laughing\"> ."
      ],
      "text/plain": [
       "<IPython.core.display.HTML object>"
      ]
     },
     "metadata": {},
     "output_type": "display_data"
    }
   ],
   "source": [
    "display(HTML(gameposts[1089]['content']))"
   ]
  },
  {
   "cell_type": "code",
   "execution_count": null,
   "metadata": {},
   "outputs": [],
   "source": []
  }
 ],
 "metadata": {
  "kernelspec": {
   "display_name": "Python 3",
   "language": "python",
   "name": "python3"
  },
  "language_info": {
   "codemirror_mode": {
    "name": "ipython",
    "version": 3
   },
   "file_extension": ".py",
   "mimetype": "text/x-python",
   "name": "python",
   "nbconvert_exporter": "python",
   "pygments_lexer": "ipython3",
   "version": "3.7.4"
  },
  "pycharm": {
   "stem_cell": {
    "cell_type": "raw",
    "metadata": {
     "collapsed": false
    },
    "source": []
   }
  }
 },
 "nbformat": 4,
 "nbformat_minor": 4
}
