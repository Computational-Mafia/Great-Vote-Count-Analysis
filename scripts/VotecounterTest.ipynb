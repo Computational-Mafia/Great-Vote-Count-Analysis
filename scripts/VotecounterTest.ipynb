{
 "cells": [
  {
   "cell_type": "markdown",
   "metadata": {},
   "source": [
    "# VotecounterTest\n",
    "A script for setting up and executing performance tests on votecounters."
   ]
  },
  {
   "cell_type": "markdown",
   "metadata": {},
   "source": [
    "## Dependencies"
   ]
  },
  {
   "cell_type": "code",
   "execution_count": 1,
   "metadata": {
    "pycharm": {
     "is_executing": false
    }
   },
   "outputs": [],
   "source": [
    "import json\n",
    "import time\n",
    "import numpy as np\n",
    "from VoteCount import VoteCount\n",
    "import VoteCounter\n",
    "from tqdm import tqdm"
   ]
  },
  {
   "cell_type": "code",
   "execution_count": 2,
   "metadata": {
    "pycharm": {
     "is_executing": false
    }
   },
   "outputs": [],
   "source": [
    "archive = '../data/archive.txt'"
   ]
  },
  {
   "cell_type": "markdown",
   "metadata": {},
   "source": [
    "## Helper Function(s)"
   ]
  },
  {
   "cell_type": "code",
   "execution_count": 3,
   "metadata": {
    "pycharm": {
     "is_executing": false
    }
   },
   "outputs": [],
   "source": [
    "def _relevantGameInfo(game):\n",
    "    link = game[:game.find('\\n')]\n",
    "    number = (link[link.find('&t=')+3:] if link.count('&')==1 \n",
    "                      else link[link.find('&t=')+3:link.rfind('&')])\n",
    "    slots, players, correct = [], [], None\n",
    "    for line in game[game.find('\\nPlayers\\n')+9:].split('\\n'):\n",
    "        line = line.split(', ')\n",
    "        players += line[0].split(' replaced ')\n",
    "        slots.append(line[0].split(' replaced ')) \n",
    "        if (line[2].lower().count('lynched') > 0 and\n",
    "            line[2].lower().count('day 1') > 0):\n",
    "            correct = slots[-1]\n",
    "    return slots, players, correct, number"
   ]
  },
  {
   "cell_type": "markdown",
   "metadata": {},
   "source": [
    "## The VotecounterTest Class"
   ]
  },
  {
   "cell_type": "code",
   "execution_count": 4,
   "metadata": {
    "pycharm": {
     "is_executing": false
    }
   },
   "outputs": [],
   "source": [
    "class VotecounterTest:\n",
    "    \n",
    "    def __init__(self, archive, posts='posts.jl'):\n",
    "        # open game archive, separate by game\n",
    "        with open(archive) as f:\n",
    "            self.archive = f.read().split('\\n\\n\\n')\n",
    "        \n",
    "    def test(self, votecounter):\n",
    "        # process votes in each game's posts until a lynch found\n",
    "        # then store information about votecounter's performance\n",
    "        results, success, t0, total = {}, 0, time.time(), 0\n",
    "        for game in self.archive:\n",
    "            slots, players, correct, number = _relevantGameInfo(game)\n",
    "            #print(slots, players, correct, number)\n",
    "            votecount = VoteCount(slots, meta={'correct': correct})\n",
    "            votecounter = VoteCounter.VoteExtracter(players=players)\n",
    "            \n",
    "            # collect gameposts associated with game number\n",
    "            with open('../data/posts/{}.jsonl'.format(number)) as f:\n",
    "                gameposts = sorted([json.loads(l) for l in f],\n",
    "                                   key=lambda x: (int(x['thread']), int(x['number'])))\n",
    "            \n",
    "            for post in gameposts:\n",
    "                # done if voters have made a choice already\n",
    "                if votecount.choice:\n",
    "                    break\n",
    "                \n",
    "                # ignore posts not made by players\n",
    "                if players.count(post['user']) == 0:\n",
    "                    continue\n",
    "                \n",
    "                # update votecount for each vote found by votecounter\n",
    "                for voted in votecounter.fromPost(post):\n",
    "                    votecount.update(post['user'], voted)\n",
    "                    if votecount.choice:\n",
    "                        success += votecount.choice == correct\n",
    "                        break\n",
    "            results[number] = votecount\n",
    "            print(success, total)\n",
    "        \n",
    "        return results, success/float(len(self.archive)), time.time()-t0"
   ]
  },
  {
   "cell_type": "markdown",
   "metadata": {},
   "source": [
    "## Test"
   ]
  },
  {
   "cell_type": "code",
   "execution_count": 5,
   "metadata": {},
   "outputs": [
    {
     "name": "stdout",
     "output_type": "stream",
     "text": [
      "[['Beefster'], ['werewolf555', 'Hiraki'], ['Substrike22'], ['Antihero', 'Lateralus22', 'caelum'], ['boberz'], ['Mariyta'], ['brokenscraps', 'LordChronos'], ['AntB'], ['pappums rat', 'Mr Wright'], ['Ant_to_the_max'], ['Dekes'], ['Empking', 'Xtoxm', 'moose200x']] ['Beefster', 'werewolf555', 'Hiraki', 'Substrike22', 'Antihero', 'Lateralus22', 'caelum', 'boberz', 'Mariyta', 'brokenscraps', 'LordChronos', 'AntB', 'pappums rat', 'Mr Wright', 'Ant_to_the_max', 'Dekes', 'Empking', 'Xtoxm', 'moose200x'] ['Beefster'] 15787\n"
     ]
    },
    {
     "name": "stderr",
     "output_type": "stream",
     "text": [
      " 46%|███████████████████████████████████▋                                          | 909/1990 [00:03<00:04, 238.21it/s]\n"
     ]
    },
    {
     "name": "stdout",
     "output_type": "stream",
     "text": [
      "1.0\n",
      "[['singersigner'], ['Nachomamma8', 'ConfidAnon'], ['AGar'], ['Powerrox93'], ['Guderian'], ['Rhinox'], ['iamausername', 'sims5487'], ['Seraphim'], ['mothrax', 'Blood Queen'], ['Thor665'], ['Reckamonic'], ['Lateralus22', 'Carrotcake']] ['singersigner', 'Nachomamma8', 'ConfidAnon', 'AGar', 'Powerrox93', 'Guderian', 'Rhinox', 'iamausername', 'sims5487', 'Seraphim', 'mothrax', 'Blood Queen', 'Thor665', 'Reckamonic', 'Lateralus22', 'Carrotcake'] ['Guderian'] 15783\n"
     ]
    },
    {
     "name": "stderr",
     "output_type": "stream",
     "text": [
      " 32%|█████████████████████████▏                                                     | 607/1902 [00:07<00:16, 78.06it/s]\n"
     ]
    },
    {
     "name": "stdout",
     "output_type": "stream",
     "text": [
      "1.0\n",
      "[['EmpTyger', 'Nul'], ['Substrike22'], ['Llamarble', 'Pinewolf'], ['Amor'], ['Scott Brosius'], ['Internet Stranger'], ['themanhimself'], ['Guderian'], ['RobCapone'], ['Shattered Viewpoint'], ['chkflip', 'WeirdRa'], ['brokenscraps', 'Kingcheese']] ['EmpTyger', 'Nul', 'Substrike22', 'Llamarble', 'Pinewolf', 'Amor', 'Scott Brosius', 'Internet Stranger', 'themanhimself', 'Guderian', 'RobCapone', 'Shattered Viewpoint', 'chkflip', 'WeirdRa', 'brokenscraps', 'Kingcheese'] ['themanhimself'] 15828\n"
     ]
    },
    {
     "name": "stderr",
     "output_type": "stream",
     "text": [
      " 54%|██████████████████████████████████████████▎                                    | 727/1356 [01:04<07:35,  1.38it/s]"
     ]
    },
    {
     "name": "stdout",
     "output_type": "stream",
     "text": [
      "1.0\n",
      "[['PranaDevil', 'Trendall'], ['andrew94'], ['brokenscraps'], ['kikuchiyo'], ['Sundy'], ['Parama'], ['Zyrconium'], ['4computer'], ['nachomamma8', 'tylerjarvis'], ['havingfitz', 'Pinewolf'], ['Xtoxm', 'Looker', 'Lateralus22'], ['lewarcher82', 'ArielT']] ['PranaDevil', 'Trendall', 'andrew94', 'brokenscraps', 'kikuchiyo', 'Sundy', 'Parama', 'Zyrconium', '4computer', 'nachomamma8', 'tylerjarvis', 'havingfitz', 'Pinewolf', 'Xtoxm', 'Looker', 'Lateralus22', 'lewarcher82', 'ArielT'] ['4computer'] 15862\n"
     ]
    },
    {
     "name": "stderr",
     "output_type": "stream",
     "text": [
      "\n",
      "  0%|                                                                                         | 0/1464 [00:00<?, ?it/s]\n",
      "  3%|██▋                                                                            | 49/1464 [00:00<00:03, 462.27it/s]\n",
      "  5%|████▏                                                                          | 77/1464 [00:00<00:03, 386.73it/s]\n",
      "  9%|██████▊                                                                       | 127/1464 [00:00<00:03, 408.81it/s]\n",
      " 11%|████████▎                                                                     | 156/1464 [00:00<00:03, 363.40it/s]\n",
      " 13%|█████████▊                                                                    | 184/1464 [00:00<00:05, 254.80it/s]\n",
      " 14%|███████████                                                                   | 208/1464 [00:00<00:06, 185.72it/s]\n",
      " 16%|████████████▏                                                                 | 229/1464 [00:01<00:08, 152.56it/s]\n",
      " 17%|█████████████▏                                                                | 247/1464 [00:01<00:07, 159.23it/s]\n",
      " 18%|██████████████                                                                | 265/1464 [00:01<00:06, 189.49it/s]\n"
     ]
    },
    {
     "name": "stdout",
     "output_type": "stream",
     "text": [
      "1.0\n",
      "[['ortiz1193'], ['el simo'], ['ThAdmiral'], ['Furcolow'], ['Zdenek', 'Umbrage'], ['Baby Spice', 'chamber', 'Mitzef'], ['sorasgoof'], ['InflatablePie', 'Nicodemus'], ['Olinea'], ['Cyberbob'], ['Thirdkoopa'], ['Fugitive', 'TheLonging']] ['ortiz1193', 'el simo', 'ThAdmiral', 'Furcolow', 'Zdenek', 'Umbrage', 'Baby Spice', 'chamber', 'Mitzef', 'sorasgoof', 'InflatablePie', 'Nicodemus', 'Olinea', 'Cyberbob', 'Thirdkoopa', 'Fugitive', 'TheLonging'] ['Thirdkoopa'] 15883\n"
     ]
    },
    {
     "name": "stderr",
     "output_type": "stream",
     "text": [
      "\n",
      "  0%|                                                                                         | 0/1730 [00:00<?, ?it/s]\n",
      "  3%|██▌                                                                            | 55/1730 [00:00<00:03, 434.73it/s]\n",
      "  4%|███▏                                                                           | 69/1730 [00:00<00:14, 118.40it/s]\n",
      " 15%|████████████                                                                  | 267/1730 [00:00<00:09, 161.86it/s]\n",
      " 18%|█████████████▉                                                                | 309/1730 [00:01<00:13, 103.48it/s]\n",
      " 22%|█████████████████▎                                                            | 383/1730 [00:01<00:09, 136.99it/s]\n",
      " 24%|███████████████████                                                           | 422/1730 [00:01<00:09, 133.02it/s]\n",
      " 26%|████████████████████▍                                                         | 453/1730 [00:02<00:09, 136.73it/s]\n",
      " 30%|███████████████████████▎                                                      | 517/1730 [00:02<00:07, 169.42it/s]\n",
      " 32%|████████████████████████▋                                                     | 547/1730 [00:02<00:06, 189.33it/s]\n",
      " 36%|███████████████████████████▊                                                  | 617/1730 [00:02<00:04, 234.46it/s]\n",
      " 38%|█████████████████████████████▍                                                | 653/1730 [00:02<00:04, 248.06it/s]\n",
      " 40%|███████████████████████████████▎                                              | 695/1730 [00:02<00:03, 268.15it/s]\n",
      " 42%|████████████████████████████████▊                                             | 729/1730 [00:03<00:07, 137.23it/s]\n",
      " 44%|██████████████████████████████████                                            | 755/1730 [00:03<00:07, 130.91it/s]\n",
      " 48%|█████████████████████████████████████▍                                        | 829/1730 [00:03<00:05, 170.29it/s]\n",
      " 50%|██████████████████████████████████████▊                                       | 862/1730 [00:03<00:04, 194.29it/s]\n",
      " 52%|████████████████████████████████████████▎                                     | 894/1730 [00:04<00:06, 131.39it/s]\n",
      " 59%|█████████████████████████████████████████████▎                               | 1017/1730 [00:04<00:04, 175.57it/s]\n",
      " 61%|███████████████████████████████████████████████▏                             | 1059/1730 [00:04<00:03, 204.62it/s]\n",
      " 65%|██████████████████████████████████████████████████▎                          | 1129/1730 [00:04<00:02, 249.76it/s]\n",
      " 68%|████████████████████████████████████████████████████▏                        | 1172/1730 [00:05<00:05, 107.15it/s]\n",
      " 70%|█████████████████████████████████████████████████████▋                       | 1207/1730 [00:05<00:03, 132.92it/s]\n",
      " 72%|███████████████████████████████████████████████████████▊                      | 1238/1730 [00:06<00:05, 96.69it/s]\n",
      " 75%|█████████████████████████████████████████████████████████▋                   | 1295/1730 [00:06<00:03, 127.22it/s]\n",
      " 77%|███████████████████████████████████████████████████████████▊                  | 1326/1730 [00:06<00:04, 97.39it/s]\n",
      " 83%|███████████████████████████████████████████████████████████████▊             | 1435/1730 [00:06<00:02, 130.48it/s]"
     ]
    },
    {
     "name": "stdout",
     "output_type": "stream",
     "text": [
      "1.0\n",
      "[['RobCapone'], ['AGar'], ['Rain', 'Mute'], ['VP Baltar'], ['Empking', 'Guderian'], ['Jerbs'], ['LlamaGod'], ['Tasky'], ['GreyICE', 'RossWilliam'], ['Zdenek', 'Dizzle'], ['Locke Lamora', 'Vigilante Ventriloquist', 'Carrotcake'], ['Ellibereth'], ['pappums rat']] ['RobCapone', 'AGar', 'Rain', 'Mute', 'VP Baltar', 'Empking', 'Guderian', 'Jerbs', 'LlamaGod', 'Tasky', 'GreyICE', 'RossWilliam', 'Zdenek', 'Dizzle', 'Locke Lamora', 'Vigilante Ventriloquist', 'Carrotcake', 'Ellibereth', 'pappums rat'] ['Jerbs'] 15934\n"
     ]
    },
    {
     "name": "stderr",
     "output_type": "stream",
     "text": [
      "\n",
      "\n",
      " 54%|██████████████████████████████████████████▎                                    | 727/1356 [01:20<07:35,  1.38it/s]\n",
      "\n",
      "  1%|▋                                                                               | 13/1502 [00:08<17:01,  1.46it/s]\n",
      " 83%|███████████████████████████████████████████████████████████████▊             | 1435/1730 [00:24<00:02, 130.48it/s]\n",
      "\n",
      "  1%|▋                                                                             | 14/1502 [00:17<1:18:33,  3.17s/it]\n",
      "\n",
      "  1%|▉                                                                             | 17/1502 [00:26<1:17:17,  3.12s/it]\n",
      "\n",
      "  1%|▉                                                                             | 18/1502 [00:35<2:01:14,  4.90s/it]\n",
      "\n",
      "  2%|█▌                                                                            | 29/1502 [00:45<1:30:23,  3.68s/it]\n",
      "\n",
      "  2%|█▌                                                                            | 30/1502 [00:54<2:09:12,  5.27s/it]\n",
      "\n",
      "  5%|███▉                                                                          | 75/1502 [01:03<1:29:05,  3.75s/it]\n",
      "\n",
      "  5%|███▉                                                                          | 76/1502 [01:12<2:06:12,  5.31s/it]\n",
      "\n",
      " 10%|███████▎                                                                     | 143/1502 [01:21<1:25:07,  3.76s/it]\n",
      "\n",
      " 10%|███████▍                                                                     | 144/1502 [01:30<2:00:59,  5.35s/it]\n",
      "\n",
      " 11%|████████▎                                                                    | 163/1502 [01:39<1:26:38,  3.88s/it]\n",
      "\n",
      " 11%|████████▍                                                                    | 164/1502 [01:47<2:00:10,  5.39s/it]\n",
      "\n",
      " 12%|████████▉                                                                    | 175/1502 [01:56<1:28:48,  4.02s/it]\n",
      "\n",
      " 12%|█████████                                                                    | 176/1502 [02:05<2:00:46,  5.47s/it]\n",
      "\n",
      " 12%|█████████▌                                                                   | 187/1502 [02:14<1:29:11,  4.07s/it]\n",
      "\n",
      " 13%|█████████▋                                                                   | 188/1502 [02:23<2:00:31,  5.50s/it]\n",
      "\n",
      " 14%|██████████▌                                                                  | 205/1502 [02:32<1:26:40,  4.01s/it]\n",
      "\n",
      " 14%|██████████▌                                                                  | 206/1502 [02:41<1:58:04,  5.47s/it]\n",
      "\n",
      " 14%|██████████▊                                                                  | 211/1502 [02:50<1:33:47,  4.36s/it]\n",
      "\n",
      " 14%|██████████▊                                                                  | 212/1502 [02:59<2:03:17,  5.73s/it]\n",
      "\n",
      " 14%|███████████                                                                  | 215/1502 [03:08<1:45:18,  4.91s/it]\n",
      "\n",
      " 14%|███████████                                                                  | 216/1502 [03:17<2:12:20,  6.17s/it]\n",
      "\n",
      " 15%|███████████▍                                                                 | 223/1502 [03:26<1:40:27,  4.71s/it]\n",
      "\n",
      " 15%|███████████▍                                                                 | 224/1502 [03:35<2:08:42,  6.04s/it]\n",
      "\n",
      " 16%|████████████▎                                                                | 241/1502 [03:44<1:32:15,  4.39s/it]\n",
      "\n",
      " 16%|████████████▍                                                                | 242/1502 [03:53<2:01:38,  5.79s/it]\n",
      "\n",
      " 16%|████████████▍                                                                | 243/1502 [04:02<2:21:31,  6.74s/it]\n",
      "\n",
      " 16%|████████████▌                                                                | 244/1502 [04:11<2:35:03,  7.40s/it]\n",
      "\n",
      " 20%|███████████████▋                                                             | 305/1502 [04:20<1:44:10,  5.22s/it]\n",
      "\n",
      " 20%|███████████████▋                                                             | 306/1502 [04:29<2:08:38,  6.45s/it]\n",
      "\n",
      " 21%|███████████████▉                                                             | 311/1502 [04:39<1:40:38,  5.07s/it]\n",
      "\n",
      " 21%|███████████████▉                                                             | 312/1502 [04:48<2:04:08,  6.26s/it]\n",
      "\n",
      " 21%|████████████████▍                                                            | 321/1502 [04:57<1:32:09,  4.68s/it]\n",
      "\n",
      " 21%|████████████████▌                                                            | 322/1502 [05:06<1:57:31,  5.98s/it]\n",
      "\n",
      " 23%|█████████████████▊                                                           | 347/1502 [05:15<1:22:36,  4.29s/it]\n",
      "\n",
      " 23%|█████████████████▊                                                           | 348/1502 [05:24<1:49:49,  5.71s/it]\n",
      "\n",
      " 24%|██████████████████▌                                                          | 363/1502 [05:33<1:19:16,  4.18s/it]\n",
      "\n",
      " 24%|██████████████████▋                                                          | 364/1502 [05:42<1:46:27,  5.61s/it]\n",
      "\n",
      " 25%|███████████████████                                                          | 371/1502 [05:51<1:21:21,  4.32s/it]\n",
      "\n",
      " 25%|███████████████████                                                          | 372/1502 [05:59<1:46:27,  5.65s/it]"
     ]
    },
    {
     "ename": "KeyboardInterrupt",
     "evalue": "",
     "output_type": "error",
     "traceback": [
      "\u001b[1;31m---------------------------------------------------------------------------\u001b[0m",
      "\u001b[1;31mKeyboardInterrupt\u001b[0m                         Traceback (most recent call last)",
      "\u001b[1;32m<ipython-input-5-0de0981aa9ce>\u001b[0m in \u001b[0;36m<module>\u001b[1;34m\u001b[0m\n\u001b[1;32m----> 1\u001b[1;33m \u001b[0msuccessrate\u001b[0m\u001b[1;33m,\u001b[0m \u001b[0mtime\u001b[0m \u001b[1;33m=\u001b[0m \u001b[0mVotecounterTest\u001b[0m\u001b[1;33m(\u001b[0m\u001b[0marchive\u001b[0m\u001b[1;33m)\u001b[0m\u001b[1;33m.\u001b[0m\u001b[0mtest\u001b[0m\u001b[1;33m(\u001b[0m\u001b[0mVoteCounter\u001b[0m\u001b[1;33m)\u001b[0m\u001b[1;33m\u001b[0m\u001b[1;33m\u001b[0m\u001b[0m\n\u001b[0m",
      "\u001b[1;32m<ipython-input-4-76d8fb70c824>\u001b[0m in \u001b[0;36mtest\u001b[1;34m(self, votecounter)\u001b[0m\n\u001b[0;32m     31\u001b[0m \u001b[1;33m\u001b[0m\u001b[0m\n\u001b[0;32m     32\u001b[0m                 \u001b[1;31m# update votecount for each vote found by votecounter\u001b[0m\u001b[1;33m\u001b[0m\u001b[1;33m\u001b[0m\u001b[1;33m\u001b[0m\u001b[0m\n\u001b[1;32m---> 33\u001b[1;33m                 \u001b[1;32mfor\u001b[0m \u001b[0mvoted\u001b[0m \u001b[1;32min\u001b[0m \u001b[0mvotecounter\u001b[0m\u001b[1;33m.\u001b[0m\u001b[0mfromPost\u001b[0m\u001b[1;33m(\u001b[0m\u001b[0mpost\u001b[0m\u001b[1;33m)\u001b[0m\u001b[1;33m:\u001b[0m\u001b[1;33m\u001b[0m\u001b[1;33m\u001b[0m\u001b[0m\n\u001b[0m\u001b[0;32m     34\u001b[0m                     \u001b[0mvotecount\u001b[0m\u001b[1;33m.\u001b[0m\u001b[0mupdate\u001b[0m\u001b[1;33m(\u001b[0m\u001b[0mpost\u001b[0m\u001b[1;33m[\u001b[0m\u001b[1;34m'user'\u001b[0m\u001b[1;33m]\u001b[0m\u001b[1;33m,\u001b[0m \u001b[0mvoted\u001b[0m\u001b[1;33m)\u001b[0m\u001b[1;33m\u001b[0m\u001b[1;33m\u001b[0m\u001b[0m\n\u001b[0;32m     35\u001b[0m                     \u001b[1;32mif\u001b[0m \u001b[0mvotecount\u001b[0m\u001b[1;33m.\u001b[0m\u001b[0mchoice\u001b[0m\u001b[1;33m:\u001b[0m\u001b[1;33m\u001b[0m\u001b[1;33m\u001b[0m\u001b[0m\n",
      "\u001b[1;32m~\\Great-Vote-Count-Analysis\\scripts\\VoteCounter.py\u001b[0m in \u001b[0;36mfromPost\u001b[1;34m(self, post)\u001b[0m\n\u001b[0;32m    287\u001b[0m                            if ed.eval(''.join([each[0] for each in\n\u001b[0;32m    288\u001b[0m                                 englishdivides(p)[0][1:3]]).lower(),\n\u001b[1;32m--> 289\u001b[1;33m                                       lowvote) <= 0]\n\u001b[0m\u001b[0;32m    290\u001b[0m             \u001b[1;32mif\u001b[0m \u001b[0mlen\u001b[0m\u001b[1;33m(\u001b[0m\u001b[0macromatches\u001b[0m\u001b[1;33m)\u001b[0m \u001b[1;33m==\u001b[0m \u001b[1;36m1\u001b[0m\u001b[1;33m:\u001b[0m\u001b[1;33m\u001b[0m\u001b[1;33m\u001b[0m\u001b[0m\n\u001b[0;32m    291\u001b[0m                 \u001b[1;32myield\u001b[0m \u001b[0macromatches\u001b[0m\u001b[1;33m[\u001b[0m\u001b[1;36m0\u001b[0m\u001b[1;33m]\u001b[0m\u001b[1;33m\u001b[0m\u001b[1;33m\u001b[0m\u001b[0m\n",
      "\u001b[1;32m~\\Great-Vote-Count-Analysis\\scripts\\VoteCounter.py\u001b[0m in \u001b[0;36m<listcomp>\u001b[1;34m(.0)\u001b[0m\n\u001b[0;32m    289\u001b[0m                                       lowvote) <= 0]\n\u001b[0;32m    290\u001b[0m             \u001b[1;32mif\u001b[0m \u001b[0mlen\u001b[0m\u001b[1;33m(\u001b[0m\u001b[0macromatches\u001b[0m\u001b[1;33m)\u001b[0m \u001b[1;33m==\u001b[0m \u001b[1;36m1\u001b[0m\u001b[1;33m:\u001b[0m\u001b[1;33m\u001b[0m\u001b[1;33m\u001b[0m\u001b[0m\n\u001b[1;32m--> 291\u001b[1;33m                 \u001b[1;32myield\u001b[0m \u001b[0macromatches\u001b[0m\u001b[1;33m[\u001b[0m\u001b[1;36m0\u001b[0m\u001b[1;33m]\u001b[0m\u001b[1;33m\u001b[0m\u001b[1;33m\u001b[0m\u001b[0m\n\u001b[0m\u001b[0;32m    292\u001b[0m                 \u001b[1;32mcontinue\u001b[0m\u001b[1;33m\u001b[0m\u001b[1;33m\u001b[0m\u001b[0m\n\u001b[0;32m    293\u001b[0m \u001b[1;33m\u001b[0m\u001b[0m\n",
      "\u001b[1;32m~\\Great-Vote-Count-Analysis\\scripts\\VoteCounter.py\u001b[0m in \u001b[0;36menglishdivides\u001b[1;34m(playername)\u001b[0m\n\u001b[0;32m     68\u001b[0m                     \u001b[0mpasses\u001b[0m\u001b[1;33m[\u001b[0m\u001b[1;33m-\u001b[0m\u001b[1;36m1\u001b[0m\u001b[1;33m]\u001b[0m\u001b[1;33m.\u001b[0m\u001b[0mappend\u001b[0m\u001b[1;33m(\u001b[0m\u001b[0mp\u001b[0m \u001b[1;33m+\u001b[0m \u001b[1;33m[\u001b[0m\u001b[0msubstring\u001b[0m\u001b[1;33m]\u001b[0m\u001b[1;33m)\u001b[0m\u001b[1;33m\u001b[0m\u001b[1;33m\u001b[0m\u001b[0m\n\u001b[0;32m     69\u001b[0m \u001b[1;33m\u001b[0m\u001b[0m\n\u001b[1;32m---> 70\u001b[1;33m                     \u001b[1;32mif\u001b[0m \u001b[0mlen\u001b[0m\u001b[1;33m(\u001b[0m\u001b[1;34m''\u001b[0m\u001b[1;33m.\u001b[0m\u001b[0mjoin\u001b[0m\u001b[1;33m(\u001b[0m\u001b[0mp\u001b[0m \u001b[1;33m+\u001b[0m \u001b[1;33m[\u001b[0m\u001b[0msubstring\u001b[0m\u001b[1;33m]\u001b[0m\u001b[1;33m)\u001b[0m\u001b[1;33m)\u001b[0m \u001b[1;33m==\u001b[0m \u001b[0mlen\u001b[0m\u001b[1;33m(\u001b[0m\u001b[0mstring\u001b[0m\u001b[1;33m)\u001b[0m\u001b[1;33m:\u001b[0m\u001b[1;33m\u001b[0m\u001b[1;33m\u001b[0m\u001b[0m\n\u001b[0m\u001b[0;32m     71\u001b[0m                         \u001b[0mfulldivides\u001b[0m\u001b[1;33m.\u001b[0m\u001b[0mappend\u001b[0m\u001b[1;33m(\u001b[0m\u001b[0mp\u001b[0m \u001b[1;33m+\u001b[0m \u001b[1;33m[\u001b[0m\u001b[0msubstring\u001b[0m\u001b[1;33m]\u001b[0m\u001b[1;33m)\u001b[0m\u001b[1;33m\u001b[0m\u001b[1;33m\u001b[0m\u001b[0m\n\u001b[0;32m     72\u001b[0m     \u001b[1;32mreturn\u001b[0m \u001b[0mfulldivides\u001b[0m\u001b[1;33m\u001b[0m\u001b[1;33m\u001b[0m\u001b[0m\n",
      "\u001b[1;32mC:\\ProgramData\\Anaconda3\\lib\\site-packages\\spellchecker\\spellchecker.py\u001b[0m in \u001b[0;36munknown\u001b[1;34m(self, words)\u001b[0m\n\u001b[0;32m    209\u001b[0m             \u001b[1;32mif\u001b[0m \u001b[0mself\u001b[0m\u001b[1;33m.\u001b[0m\u001b[0m_check_if_should_check\u001b[0m\u001b[1;33m(\u001b[0m\u001b[0mw\u001b[0m\u001b[1;33m)\u001b[0m\u001b[1;33m\u001b[0m\u001b[1;33m\u001b[0m\u001b[0m\n\u001b[0;32m    210\u001b[0m         ]\n\u001b[1;32m--> 211\u001b[1;33m         \u001b[1;32mreturn\u001b[0m \u001b[0mset\u001b[0m\u001b[1;33m(\u001b[0m\u001b[0mw\u001b[0m \u001b[1;32mfor\u001b[0m \u001b[0mw\u001b[0m \u001b[1;32min\u001b[0m \u001b[0mtmp\u001b[0m \u001b[1;32mif\u001b[0m \u001b[0mw\u001b[0m \u001b[1;32mnot\u001b[0m \u001b[1;32min\u001b[0m \u001b[0mself\u001b[0m\u001b[1;33m.\u001b[0m\u001b[0m_word_frequency\u001b[0m\u001b[1;33m.\u001b[0m\u001b[0mdictionary\u001b[0m\u001b[1;33m)\u001b[0m\u001b[1;33m\u001b[0m\u001b[1;33m\u001b[0m\u001b[0m\n\u001b[0m\u001b[0;32m    212\u001b[0m \u001b[1;33m\u001b[0m\u001b[0m\n\u001b[0;32m    213\u001b[0m     \u001b[1;32mdef\u001b[0m \u001b[0medit_distance_1\u001b[0m\u001b[1;33m(\u001b[0m\u001b[0mself\u001b[0m\u001b[1;33m,\u001b[0m \u001b[0mword\u001b[0m\u001b[1;33m)\u001b[0m\u001b[1;33m:\u001b[0m\u001b[1;33m\u001b[0m\u001b[1;33m\u001b[0m\u001b[0m\n",
      "\u001b[1;32mC:\\ProgramData\\Anaconda3\\lib\\site-packages\\spellchecker\\spellchecker.py\u001b[0m in \u001b[0;36m<genexpr>\u001b[1;34m(.0)\u001b[0m\n\u001b[0;32m    209\u001b[0m             \u001b[1;32mif\u001b[0m \u001b[0mself\u001b[0m\u001b[1;33m.\u001b[0m\u001b[0m_check_if_should_check\u001b[0m\u001b[1;33m(\u001b[0m\u001b[0mw\u001b[0m\u001b[1;33m)\u001b[0m\u001b[1;33m\u001b[0m\u001b[1;33m\u001b[0m\u001b[0m\n\u001b[0;32m    210\u001b[0m         ]\n\u001b[1;32m--> 211\u001b[1;33m         \u001b[1;32mreturn\u001b[0m \u001b[0mset\u001b[0m\u001b[1;33m(\u001b[0m\u001b[0mw\u001b[0m \u001b[1;32mfor\u001b[0m \u001b[0mw\u001b[0m \u001b[1;32min\u001b[0m \u001b[0mtmp\u001b[0m \u001b[1;32mif\u001b[0m \u001b[0mw\u001b[0m \u001b[1;32mnot\u001b[0m \u001b[1;32min\u001b[0m \u001b[0mself\u001b[0m\u001b[1;33m.\u001b[0m\u001b[0m_word_frequency\u001b[0m\u001b[1;33m.\u001b[0m\u001b[0mdictionary\u001b[0m\u001b[1;33m)\u001b[0m\u001b[1;33m\u001b[0m\u001b[1;33m\u001b[0m\u001b[0m\n\u001b[0m\u001b[0;32m    212\u001b[0m \u001b[1;33m\u001b[0m\u001b[0m\n\u001b[0;32m    213\u001b[0m     \u001b[1;32mdef\u001b[0m \u001b[0medit_distance_1\u001b[0m\u001b[1;33m(\u001b[0m\u001b[0mself\u001b[0m\u001b[1;33m,\u001b[0m \u001b[0mword\u001b[0m\u001b[1;33m)\u001b[0m\u001b[1;33m:\u001b[0m\u001b[1;33m\u001b[0m\u001b[1;33m\u001b[0m\u001b[0m\n",
      "\u001b[1;32mC:\\ProgramData\\Anaconda3\\lib\\site-packages\\spellchecker\\spellchecker.py\u001b[0m in \u001b[0;36mdictionary\u001b[1;34m(self)\u001b[0m\n\u001b[0;32m    332\u001b[0m             \u001b[0mNote\u001b[0m\u001b[1;33m:\u001b[0m\u001b[1;33m\u001b[0m\u001b[1;33m\u001b[0m\u001b[0m\n\u001b[0;32m    333\u001b[0m                 Not settable \"\"\"\n\u001b[1;32m--> 334\u001b[1;33m         \u001b[1;32mreturn\u001b[0m \u001b[0mself\u001b[0m\u001b[1;33m.\u001b[0m\u001b[0m_dictionary\u001b[0m\u001b[1;33m\u001b[0m\u001b[1;33m\u001b[0m\u001b[0m\n\u001b[0m\u001b[0;32m    335\u001b[0m \u001b[1;33m\u001b[0m\u001b[0m\n\u001b[0;32m    336\u001b[0m     \u001b[1;33m@\u001b[0m\u001b[0mproperty\u001b[0m\u001b[1;33m\u001b[0m\u001b[1;33m\u001b[0m\u001b[0m\n",
      "\u001b[1;31mKeyboardInterrupt\u001b[0m: "
     ]
    }
   ],
   "source": [
    "results, successrate, time = VotecounterTest(archive).test(VoteCounter)"
   ]
  },
  {
   "cell_type": "code",
   "execution_count": null,
   "metadata": {},
   "outputs": [],
   "source": []
  }
 ],
 "metadata": {
  "kernelspec": {
   "display_name": "Python 3",
   "language": "python",
   "name": "python3"
  },
  "language_info": {
   "codemirror_mode": {
    "name": "ipython",
    "version": 3
   },
   "file_extension": ".py",
   "mimetype": "text/x-python",
   "name": "python",
   "nbconvert_exporter": "python",
   "pygments_lexer": "ipython3",
   "version": "3.7.4"
  },
  "pycharm": {
   "stem_cell": {
    "cell_type": "raw",
    "metadata": {
     "collapsed": false
    },
    "source": []
   }
  }
 },
 "nbformat": 4,
 "nbformat_minor": 4
}
