{
 "cells": [
  {
   "cell_type": "markdown",
   "metadata": {},
   "source": [
    "# VotecounterTest\n",
    "A script for setting up and executing performance tests on votecounters."
   ]
  },
  {
   "cell_type": "markdown",
   "metadata": {},
   "source": [
    "## Dependencies"
   ]
  },
  {
   "cell_type": "code",
   "execution_count": 1,
   "metadata": {},
   "outputs": [],
   "source": [
    "import json\n",
    "import time\n",
    "from VoteCount import VoteCount\n",
    "import VoteCounter\n",
    "from tqdm import tqdm\n",
    "import string\n",
    "from copy import deepcopy\n",
    "\n",
    "# to help generate formatted output rnepresentations\n",
    "from IPython.core.display import display, HTML\n",
    "import markdown2 as md\n",
    "\n",
    "def html(markdown_string):\n",
    "    display(HTML(md.markdown(markdown_string)))\n",
    "    \n",
    "# for simplifying text to just numbers\n",
    "no_punctuation = str.maketrans(string.punctuation+string.ascii_letters, ' '*len(string.punctuation+string.ascii_letters))\n",
    "    \n",
    "# identify game archive and votecounter of interest\n",
    "archive = '../data/archive.txt'\n",
    "votecounter = VoteCounter"
   ]
  },
  {
   "cell_type": "markdown",
   "metadata": {},
   "source": [
    "## Helper Function(s)"
   ]
  },
  {
   "cell_type": "code",
   "execution_count": 2,
   "metadata": {},
   "outputs": [],
   "source": [
    "def _relevantGameInfo(game):\n",
    "    \n",
    "    # link\n",
    "    link = game[:game.find('\\n')]\n",
    "    \n",
    "    # thread number\n",
    "    number = (link[link.find('&t=')+3:] if link.count('&')==1 \n",
    "                      else link[link.find('&t=')+3:link.rfind('&')])\n",
    "\n",
    "    # special events\n",
    "    events, notes = {}, game[:game.find('\\n\\n')].split('\\n')[-1]\n",
    "    for note in notes.split('; '):\n",
    "        if ' on post ' in note:\n",
    "            postnumber = note.split(' on post ')[1]\n",
    "            if postnumber in events:\n",
    "                events[postnumber].append(note.split(' on post')[0])\n",
    "            else:\n",
    "                events[postnumber] = [note.split(' on post')[0]]\n",
    "    \n",
    "    # game title and number\n",
    "    title = game.split('\\n')[1]\n",
    "    title_number = [i for i in title.translate(no_punctuation).split() if i.isdigit()][0]\n",
    "    \n",
    "    # moderator(s)\n",
    "    moderators = game.split('\\n')[2][len('Moderator: '):].split(', ')\n",
    "    \n",
    "    # living slots/players for each Day\n",
    "    slots, players, fates, lynched = [], [], [], {}\n",
    "    for line in game[game.find('\\nPlayers\\n')+9:].split('\\n'):\n",
    "        line = line.split(', ')\n",
    "        \n",
    "        # build list of players and slots\n",
    "        players += line[0].split(' replaced ')\n",
    "        slots.append(line[0].split(' replaced ')) \n",
    "        \n",
    "        # extract last phase slot's vote helped decide Day\n",
    "        # it's the phase they died, minus one if they were day-killed (not lynched)\n",
    "        if 'survived' in line[-1].lower() or 'endgamed' in line[-1].lower():\n",
    "            fates.append(float('inf'))\n",
    "        else:\n",
    "            phase = int(line[-1][line[-1].rfind(' ')+1:])\n",
    "            #fate_modifier = 'killed day' in line[-1][:line[-1].rfind(' ')].lower() \n",
    "            fates.append(max(0, phase))\n",
    "        \n",
    "        # sort any detected lynches into `lynched` array\n",
    "        if 'lynched' in line[-1].lower():\n",
    "            lynched[phase] = slots[-1]\n",
    "\n",
    "    return slots, players, fates, lynched, number, transitions[title_number], moderators, events"
   ]
  },
  {
   "cell_type": "markdown",
   "metadata": {},
   "source": [
    "## VotecounterTest"
   ]
  },
  {
   "cell_type": "code",
   "execution_count": 9,
   "metadata": {},
   "outputs": [
    {
     "name": "stdout",
     "output_type": "stream",
     "text": [
      "1\n",
      "https://forum.mafiascum.net/viewtopic.php?f=53&t=15934\n",
      "Game 1105: A Mafia Invasion!\n",
      "Moderator: Zachrulez\n",
      "Current Update: Town Win\n",
      "Notes: AGar killed on post 283; Zdenek killed on post 490\n",
      "\n",
      "Players\n",
      "RobCapone, Mafia 2-Shot Rolecop, lynched Day 3\n",
      "AGar, Town Mason, killed Day 1\n",
      "Rain replaced Mute, Town Neighbor, survived\n",
      "VP Baltar, Town Vanilla, killed Night 1\n",
      "Empking replaced Guderian, Town 2-Shot Day Viglante, survived\n",
      "Jerbs, Mafia Goon, lynched Day 1\n",
      "LlamaGod, Town Vanilla, survived\n",
      "Tasky, Town Vanilla, killed Night 2\n",
      "GreyICE replaced RossWilliam, Town Vanilla, survived\n",
      "Zdenek replaced Dizzle, Mafia Goon, killed Day 2\n",
      "Locke Lamora replaced Vigilante Ventriloquist replaced Carrotcake, Town Neighbor, lynched Day 2\n",
      "Ellibereth, Town Vanilla, survived\n",
      "pappums rat, Town Vanilla, survived\n",
      "5 15934 1 1 1 True True 0.14200139045715332\n",
      "\n",
      "---\n",
      "\n",
      "1\n",
      "https://forum.mafiascum.net/viewtopic.php?f=53&t=16959\n",
      "Game 1146: Don't Get Slapped in the Face by a Fish Mafia\n",
      "Moderator: chesskid3\n",
      "Current Update: Town Win\n",
      "Notes: Empking killed on post 234\n",
      "\n",
      "Players\n",
      "gandalf5166, Town Vanilla, survived\n",
      "RedCoyote, Town One-Shot Roleblocker, survived\n",
      "AurorusVox, Mafia Roleblocker, lynched Day 3\n",
      "hitogoroshi replaced Shift, Town Vanilla, lynched Day 1\n",
      "VasudeVa, Town Vanilla, survived\n",
      "Empking, Town Vanilla, killed Day 1\n",
      "tarsonisocelot, Town Gunsmith, killed Night 1\n",
      "CooLDoG, Town Vanilla, survived\n",
      "bvoigt, Mafia Goon, lynched Day 4\n",
      "Amrun replaced qax42, Town Vanilla, survived\n",
      "GreyICE replaced Otolia, Town One-shot Day Vigilante, killed Night 2\n",
      "DarthYoshi, Mafia Goon, lynched Day 2\n",
      "Ranmaru replaced gorilla, Town Vanilla, survived\n",
      "19 16959 2 2 2 True True 0.2965047359466553\n",
      "\n",
      "---\n",
      "\n",
      "1\n",
      "https://forum.mafiascum.net/viewtopic.php?f=53&t=17143\n",
      "Game 1147: Royal Mafia at the Round Table\n",
      "Moderator: neil1113\n",
      "Current Update: Mafia Win\n",
      "Notes: ender241 killed on post 420\n",
      "\n",
      "Players\n",
      "Twistedspoon, Mafia Roleblocker, lynched Day 4\n",
      "Juls, Town Mason, killed Night 1\n",
      "Duplicity replaced Oso, Town Vanilla, killed Night 5\n",
      "Rhinox, Town Vanilla, killed Night 3\n",
      "Necessary Evil, Mafia Goon, lynched Day 2\n",
      "Locke Lamora replaced Erratus Apathos, Town Vanilla, lynched Day 6\n",
      "Prosaurus, Town Vanilla, endgamed Day 6\n",
      "Quilford replaced Klazam, Town Mason, killed Night 4\n",
      "Me=Weird, Town Vanilla, lynched Day 1\n",
      "Maxous, Town Vanilla, lynched Day 3\n",
      "farside22, Mafia Goon, survived\n",
      "Javert, Town One-Shot Vigilante, killed Night 2\n",
      "ender241, Town One-Shot Cop, killed Day 1\n",
      "20 17143 3 3 3 True True 0.2364966869354248\n",
      "\n",
      "---\n",
      "\n",
      "1\n",
      "https://forum.mafiascum.net/viewtopic.php?f=53&t=25003\n",
      "Game 1410: Mafia in the Unknown\n",
      "Moderator: Quilford\n",
      "Current Update: Town Win\n",
      "Notes: Norlkaz killed on post 159; havingfitz killed on post 703; votecount reset on post 703\n",
      "\n",
      "Players\n",
      "Cheery Dog, Vanilla Townie, killed Night 1\n",
      "Edosurist, Town Non-Consecutive Jailkeeper, killed Night 3\n",
      "Konowa replaced UVApe, Vanilla Townie, lynched Day 2\n",
      "CooLDoG, Town Gunsmith, killed Night 4\n",
      "captaineddie replaced Boshka replaced absta101, Mafia Goon, lynched Day 5\n",
      "Revenus, Town Neighborizer, survived\n",
      "havingfitz replaced Shepherd Book, Mafia Goon, killed Day 3\n",
      "I Am Innocent replaced Chevre, Vanilla Townie, lynched Day 1\n",
      "Zhero, Vanilla Townie, survived\n",
      "Norlkaz replaced jeromus, Vanilla Townie, killed Day 1\n",
      "roflcopter, Third Party Non-Consecutive Day Serial Killer, lynched Day 4\n",
      "DrippingGoofball replaced iamausername, Vanilla Townie, killed Night 2\n",
      "RestFermata, Mafia Bulletproof, lynched Day 3\n",
      "93 25003 4 3 4 True False 0.10350179672241211\n",
      "\n",
      "---\n",
      "\n",
      "1\n",
      "https://forum.mafiascum.net/viewtopic.php?f=53&t=58383\n",
      "Mini 1589: The Train of Death\n",
      "Moderator: Aronis\n",
      "Current Update: Mafia Win\n",
      "Notes: votecount reset on post 82; xfdagentx42 killed on post 82\n",
      "\n",
      "Players\n",
      "SleepyKrew replaced Fusion, Town Vanilla, endgamed day 5\n",
      "Espressojet, Mafia Goon, lynched day 1\n",
      "TheNoggyOne, Town Vanilla, lynched day 3\n",
      "Konowa, Town Cop, killed night 3\n",
      "Peabody replaced Kid A, Town Neighbor, lynched day 2\n",
      "implosion, Town Vanilla, lynched day 5\n",
      "xfdagentx42, Mafia Goon, killed day 1\n",
      "Junpei replaced Chevlon replaced roflcopter, Town Vanilla, killed night 4\n",
      "Wolfy, Town Vanilla, lynched day 4\n",
      "RedCoyote, Town Neighbor, endgamed day 5\n",
      "Clusk92, Town Jailkeeper, killed night 1\n",
      "Natirasha, Mafia Rolecop, survived\n",
      "bjc, Town One-Shot Dayvig, killed night 2\n",
      "158 58383 4 3 5 False False 0.08050227165222168\n",
      "\n",
      "---\n",
      "\n",
      "1\n",
      "https://forum.mafiascum.net/viewtopic.php?f=53&t=60920\n",
      "Mini 1651: One Flew Over The Monkey's Nest\n",
      "Moderator: MonkeyMan576\n",
      "Current Update: Mafia Win\n",
      "Notes: D1 no majority; oddmusic killed on post 501; Taly killed on post 864\n",
      "\n",
      "Players\n",
      "Boonskiies replaced Aeronaut, Vanilla Townie, endgamed day 3\n",
      "Bellaphant replaced InsidiousLemons, Vanilla Townie, lynched day 3\n",
      "eektor, Vanilla Townie, endgamed day 3\n",
      "TheDudeAbides, Mafia Goon, survived\n",
      "Elyse, Mafia Godfather, survived\n",
      "toolenduso, Mafia Goon, survived\n",
      "Metalcyanide, Vanilla Townie, endgamed day 3\n",
      "Aquanim, Vanilla Townie, endgamed day 3\n",
      "oddmusic, Vanilla Townie, killed day 1\n",
      "RadiantCowbells, Town Cop, killed night 1\n",
      "mykonian, Vanilla Townie, lynched day 2\n",
      "pisskop, Town One-Shot Day Vigilante, killed night 2\n",
      "Taly, Town Roleblocker, modkilled day 1\n",
      "177 60920 4 3 6 False False 1.049482822418213\n",
      "\n",
      "---\n",
      "\n",
      "1\n",
      "https://forum.mafiascum.net/viewtopic.php?f=53&t=67181\n",
      "Mini Normal 1809\n",
      "Moderator: Dierfire\n",
      "Current Update: Town Win\n",
      "Notes: Robbnva killed on post 747\n",
      "\n",
      "Players\n",
      "Robbnva, Town Jailkeeper, modkilled day 1\n",
      "Elyse, Mafia Ascetic Roleblocker, lynched day 5\n",
      "MathBlade replaced BlankFace, Mafia Goon, lynched day 6\n",
      "cmitc1, Town Weak Neighborizer, killed night 2\n",
      "Vedith, Vanilla Town, lynched day 1\n",
      "Nachomamma8 replaced Wingback replaced Seraphim replaced Wake88, Vanilla Town, survived\n",
      "Grendel, Town 1-Shot Vigilante, killed night 3\n",
      "Hoopla, Vanilla Town, lynched day 3\n",
      "Expedience replaced BBmolla, Vanilla Town, killed night 5\n",
      "Killthestory replaced House, Vanilla Town, killed night 4\n",
      "Masquerade, Mafia Goon, lynched day 2\n",
      "Egg, Vanilla Town, survived\n",
      "ChaosOmega, Vanilla Town, killed night 1\n",
      "242 67181 5 4 7 True True 0.3175015449523926\n",
      "\n",
      "---\n",
      "\n",
      "1\n",
      "https://forum.mafiascum.net/viewtopic.php?f=53&t=68153\n",
      "Mini Normal 1827 - No Flavor Mafia\n",
      "Moderator: Dunnstral\n",
      "Current Update: Mafia Win\n",
      "Notes: light_ganski killed on post 784\n",
      "\n",
      "Players\n",
      "xyzzy, Vanilla Town, lynched day 1\n",
      "Transcend, Mafia Goon, survived\n",
      "light_ganski, Mafia Goon, killed day 1\n",
      "massive, Vanilla Town, killed night 1\n",
      "RachMarie replaced Seraphim replaced Jordarrian, Vanilla Townie, endgamed\n",
      "Killthestory, Town Bodyguard, killed night 2\n",
      "BlackStar, Town One-Shot Day Vigilante, endgamed\n",
      "Creature, Town One-Shot Vigilante, lynched day 5\n",
      "Expedience replaced Skelda, Vanilla Town, lynched day 2\n",
      "Vedith, Mafia Goon, lynched day 3\n",
      "Titus replaced Blitzkrieg replaced pistachi0n, Vanilla Town, lynched day 4\n",
      "Io, Vanilla Town, killed night 4\n",
      "Naomi-Tan, Town Neapolitan, killed night 3\n",
      "249 68153 6 5 8 True True 0.44500064849853516\n",
      "\n",
      "---\n",
      "\n",
      "0.75 0.625 8 8.031519889831543\n"
     ]
    }
   ],
   "source": [
    "#parameters\n",
    "start_index = 0\n",
    "end_index = 0\n",
    "\n",
    "# open game archive, separate by game\n",
    "with open(archive, encoding='utf-8') as f:\n",
    "    games = f.read().split('\\n\\n\\n')  \n",
    "\n",
    "# open transitions archive, convert into dictionary of lists\n",
    "with open('../data/transitions.tsv') as f:\n",
    "    transitions = f.read()\n",
    "transitions = transitions.split('\\n')[3:]\n",
    "transitions = {line.split('\\t')[0]:line.strip().split('\\t')[1:] for line in transitions if len(line.strip().split('\\t')[1:]) > 0}\n",
    "\n",
    "# process votes in each game's posts until a lynch found\n",
    "# then store information about votecounter's performance\n",
    "vote_results, vote_success, transition_results, transition_success, t0, total = {}, 0, {}, 0, time.time(), 0\n",
    "end_index = end_index if end_index else len(games)  \n",
    "for game_index, game in enumerate(games[start_index:end_index]):\n",
    "    \n",
    "    # temporarily only consider games where... (MODIFIABLE)\n",
    "    if 'killed day 1' not in game.lower():\n",
    "        continue\n",
    "    \n",
    "    # extract relevant information about this game\n",
    "    slots, players, fates, lynched, number, game_transitions, moderators, events = _relevantGameInfo(game)\n",
    "    with open('../data/posts/{}.jsonl'.format(number)) as f:\n",
    "        gameposts =  [json.loads(l) for l in f]\n",
    "        \n",
    "    # prepare to collect data for this game\n",
    "    transition_results[number] = []\n",
    "    vote_results[number] = []\n",
    "    \n",
    "    #for day in range(1, len(game_transitions)):\n",
    "    for day in [1]:\n",
    "        \n",
    "        # we'll remove this later; don't scan games that don't have this many games\n",
    "        if len(game_transitions) < day+1:\n",
    "            continue\n",
    "    \n",
    "        # identify day-specific information and set up voteextractor and votecount for them\n",
    "        correct = lynched[day] if day in lynched else None\n",
    "        start_point = 0 if day == 1 else int(game_transitions[day-2])\n",
    "        relevant_slots = [slot for slot_index, slot in enumerate(slots) if fates[slot_index] >= day]\n",
    "        relevant_players = []\n",
    "        for slot in relevant_slots:\n",
    "            relevant_players += slot\n",
    "        votecount = VoteCount(relevant_slots, meta={'correct': correct})\n",
    "        votecounter = VoteCounter.VoteExtracter(players=relevant_players)\n",
    "\n",
    "        tphase, transition_start, transition_end, transition_match, transition_url = time.time(), None, None, False, None\n",
    "        for post in gameposts[start_point:]:\n",
    "            \n",
    "            # prioritize any events associated with post\n",
    "            if post['number'] in events:\n",
    "                post_events = events[post['number']]\n",
    "                for event in post_events:\n",
    "                    sparevc = deepcopy(votecount)\n",
    "\n",
    "                    # if event is a daykill, remove the player from votecount and voteextractor\n",
    "                    if 'killed' == event.split(' ')[1]:\n",
    "                        \n",
    "                        # update relevant slots and players and make new votecounter\n",
    "                        killed_player = event.split(' ')[0]\n",
    "                        killed_slot = next(s for s in relevant_slots if s.count(killed_player) > 0)\n",
    "                        del relevant_slots[relevant_slots.index(killed_slot)]\n",
    "                        relevant_players = []\n",
    "                        for slot in relevant_slots:\n",
    "                            relevant_players += slot\n",
    "                        votecounter = VoteCounter.VoteExtracter(players=relevant_players)\n",
    "                        votecount.killplayer(killed_player, post['number'])\n",
    "\n",
    "            # consider no more votes if voters have made a choice already\n",
    "            elif not votecount.choice:\n",
    "\n",
    "                # ignore posts not made by players\n",
    "                if relevant_players.count(post['user']) == 0:\n",
    "                    continue\n",
    "\n",
    "                # update votecount for each vote found by votecounter\n",
    "                # stop considering votes in post if votecount.choice\n",
    "                for voted in votecounter.fromPost(post):\n",
    "                    votecount.update(post['user'], voted, post['number'])\n",
    "                    if votecount.choice:\n",
    "                        vote_success += votecount.choice == correct\n",
    "                        break\n",
    "\n",
    "            # keep scanning to find newest post by game mod after detectedhammer\n",
    "            elif not transition_start:\n",
    "                if moderators.count(post['user']) > 0:\n",
    "                    transition_start = int(post['number'])\n",
    "                    transition_url = post['pagelink']\n",
    "\n",
    "            # keep scanning to find last successive post by mod after they end Day\n",
    "            elif not transition_end:\n",
    "                if moderators.count(post['user']) == 0:\n",
    "                    transition_end = int(post['number'])\n",
    "\n",
    "                    # track match between inferred and transcribed transition post#\n",
    "                    transition_match = int(game_transitions[day-1]) in list(range(transition_start, transition_end))\n",
    "                    transition_success += transition_match\n",
    "\n",
    "            # finish if votecount.choice, transition_start, and transition_end all populated\n",
    "            else:\n",
    "                break\n",
    "\n",
    "        transition_results[number].append([list(range(transition_start, transition_end)), transition_url] if transition_start and transition_end else \"None\")\n",
    "        vote_results[number].append(votecount)\n",
    "        total += 1\n",
    "        #if not (votecount.choice == correct and transition_match):\n",
    "        print(day)\n",
    "        print(game)\n",
    "        #print(game.split('\\n\\n')[0])\n",
    "        print(f'{game_index + start_index} {number} {vote_success} {transition_success} {total} {votecount.choice == correct} {transition_match} {time.time()-tphase}')\n",
    "        print('\\n---\\n')\n",
    "\n",
    "print(f'{vote_success/total} {transition_success/total} {total} {time.time()-t0}')"
   ]
  },
  {
   "cell_type": "code",
   "execution_count": 4,
   "metadata": {},
   "outputs": [
    {
     "data": {
      "text/html": [
       "<div style=\"text-align: center\"><span style=\"font-style: italic\"><span style=\"color: #FF0000\"><span class=\"nocolorsig\">Oddmusic was enjoying his newfound freedom, but he didn't see the shadowy figure lurking up behind him.  <br><br>\"I've come across reliable information you've been trying to hurt our cause.\"  Said the shadowy figure.<br><br>\"No! No!  I'm on your side!\"  oddmusic said franticly.<br><br>But the shadowy figure didn't believe him, and shot oddmusic dead.</span></span></span><br><br>Oddmusic was a <span style=\"color: #008000\"><span class=\"nocolorsig\"><span class=\"noboldsig\">vanilla townie</span>.</span></span></div>"
      ],
      "text/plain": [
       "<IPython.core.display.HTML object>"
      ]
     },
     "metadata": {},
     "output_type": "display_data"
    }
   ],
   "source": [
    "display(HTML(post['content']))"
   ]
  },
  {
   "cell_type": "code",
   "execution_count": 8,
   "metadata": {},
   "outputs": [
    {
     "name": "stdout",
     "output_type": "stream",
     "text": [
      "['Boonskiies', 'Aeronaut'] - 1\n",
      "['Aquanim']\n",
      "\n",
      "['oddmusic'] - 4\n",
      "['eektor']\n",
      "['pisskop']\n",
      "['Boonskiies', 'Aeronaut']\n",
      "['RadiantCowbells']\n",
      "\n",
      "['RadiantCowbells'] - 2\n",
      "['oddmusic']\n",
      "['Metalcyanide']\n",
      "\n",
      "['mykonian'] - 1\n",
      "['Taly']\n",
      "\n",
      "['Taly'] - 3\n",
      "['Elyse']\n",
      "['mykonian']\n",
      "['Bellaphant', 'InsidiousLemons']\n",
      "\n",
      "Not Voting - 2\n",
      "['TheDudeAbides']\n",
      "['toolenduso']\n",
      "\n"
     ]
    }
   ],
   "source": [
    "current_votecount = sparevc.todict()\n",
    "for each in current_votecount:\n",
    "    if current_votecount[each]:\n",
    "        print(each, '-', len(current_votecount[each]))\n",
    "        for voter in current_votecount[each]:\n",
    "            print(voter)\n",
    "        print()"
   ]
  },
  {
   "cell_type": "code",
   "execution_count": 7,
   "metadata": {},
   "outputs": [
    {
     "name": "stdout",
     "output_type": "stream",
     "text": [
      "['Boonskiies', 'Aeronaut'] - 1\n",
      "['Aquanim']\n",
      "\n",
      "['RadiantCowbells'] - 1\n",
      "['Metalcyanide']\n",
      "\n",
      "['mykonian'] - 1\n",
      "['Taly']\n",
      "\n",
      "['Taly'] - 3\n",
      "['Elyse']\n",
      "['mykonian']\n",
      "['Bellaphant', 'InsidiousLemons']\n",
      "\n",
      "Not Voting - 6\n",
      "['TheDudeAbides']\n",
      "['toolenduso']\n",
      "['Boonskiies', 'Aeronaut']\n",
      "['eektor']\n",
      "['RadiantCowbells']\n",
      "['pisskop']\n",
      "\n"
     ]
    }
   ],
   "source": [
    "current_votecount = votecount.todict()\n",
    "for each in current_votecount:\n",
    "    if current_votecount[each]:\n",
    "        print(each, '-', len(current_votecount[each]))\n",
    "        for voter in current_votecount[each]:\n",
    "            print(voter)\n",
    "        print()"
   ]
  },
  {
   "cell_type": "code",
   "execution_count": 12,
   "metadata": {},
   "outputs": [
    {
     "data": {
      "text/plain": [
       "[[7],\n",
       " [],\n",
       " [],\n",
       " [],\n",
       " [],\n",
       " [],\n",
       " [],\n",
       " [],\n",
       " [8, 6],\n",
       " [11],\n",
       " [],\n",
       " [4, 9, 1],\n",
       " [3, 5, 0, 2, 8, 10],\n",
       " []]"
      ]
     },
     "execution_count": 12,
     "metadata": {},
     "output_type": "execute_result"
    }
   ],
   "source": [
    "votecount.votesByVoted"
   ]
  },
  {
   "cell_type": "code",
   "execution_count": 25,
   "metadata": {},
   "outputs": [
    {
     "data": {
      "text/plain": [
       "[[7],\n",
       " [],\n",
       " [],\n",
       " [],\n",
       " [],\n",
       " [],\n",
       " [],\n",
       " [],\n",
       " [2, 11, 0, 9],\n",
       " [8, 6],\n",
       " [12],\n",
       " [],\n",
       " [4, 10, 1],\n",
       " [3, 5],\n",
       " []]"
      ]
     },
     "execution_count": 25,
     "metadata": {},
     "output_type": "execute_result"
    }
   ],
   "source": [
    "sparevc.votesByVoted"
   ]
  },
  {
   "cell_type": "code",
   "execution_count": 24,
   "metadata": {},
   "outputs": [
    {
     "data": {
      "text/plain": [
       "[8, 12, 8, 13, 12, 13, 9, 0, 9, 8, 12, 8, 10]"
      ]
     },
     "execution_count": 24,
     "metadata": {},
     "output_type": "execute_result"
    }
   ],
   "source": [
    "sparevc.votesByVoter"
   ]
  },
  {
   "cell_type": "code",
   "execution_count": 22,
   "metadata": {},
   "outputs": [
    {
     "data": {
      "text/plain": [
       "['oddmusic']"
      ]
     },
     "execution_count": 22,
     "metadata": {},
     "output_type": "execute_result"
    }
   ],
   "source": [
    "sparevc.slots[8]"
   ]
  },
  {
   "cell_type": "markdown",
   "metadata": {},
   "source": [
    "## Analyze Results\n",
    "Will have to revise this to adapt to new variable names/codeflow."
   ]
  },
  {
   "cell_type": "code",
   "execution_count": 4,
   "metadata": {},
   "outputs": [
    {
     "data": {
      "text/html": [
       "<h1>60920</h1>\n"
      ],
      "text/plain": [
       "<IPython.core.display.HTML object>"
      ]
     },
     "metadata": {},
     "output_type": "display_data"
    },
    {
     "name": "stdout",
     "output_type": "stream",
     "text": [
      "https://forum.mafiascum.net/viewtopic.php?f=53&t=60920\n",
      "Mini 1651: One Flew Over The Monkey's Nest\n",
      "Moderator: MonkeyMan576\n",
      "Current Update: Mafia Win\n",
      "Notes: D1 no majority; oddmusic killed on post 501; Taly killed on post 864\n",
      "\n",
      "Players\n",
      "Boonskiies replaced Aeronaut, Vanilla Townie, endgamed day 3\n",
      "Bellaphant replaced InsidiousLemons, Vanilla Townie, lynched day 3\n",
      "eektor, Vanilla Townie, endgamed day 3\n",
      "TheDudeAbides, Mafia Goon, survived\n",
      "Elyse, Mafia Godfather, survived\n",
      "toolenduso, Mafia Goon, survived\n",
      "Metalcyanide, Vanilla Townie, endgamed day 3\n",
      "Aquanim, Vanilla Townie, endgamed day 3\n",
      "oddmusic, Vanilla Townie, killed day 1\n",
      "RadiantCowbells, Town Cop, killed night 1\n",
      "mykonian, Vanilla Townie, lynched day 2\n",
      "pisskop, Town One-Shot Day Vigilante, killed night 2\n",
      "Taly, Town Roleblocker, modkilled day 1\n",
      "\n"
     ]
    },
    {
     "ename": "IndexError",
     "evalue": "list index out of range",
     "output_type": "error",
     "traceback": [
      "\u001b[1;31m---------------------------------------------------------------------------\u001b[0m",
      "\u001b[1;31mIndexError\u001b[0m                                Traceback (most recent call last)",
      "\u001b[1;32m<ipython-input-4-264537b30974>\u001b[0m in \u001b[0;36m<module>\u001b[1;34m\u001b[0m\n\u001b[0;32m     26\u001b[0m \u001b[0mprint\u001b[0m\u001b[1;33m(\u001b[0m\u001b[0mgames\u001b[0m\u001b[1;33m[\u001b[0m\u001b[0mgame_index\u001b[0m\u001b[1;33m]\u001b[0m\u001b[1;33m)\u001b[0m\u001b[1;33m\u001b[0m\u001b[1;33m\u001b[0m\u001b[0m\n\u001b[0;32m     27\u001b[0m \u001b[0mprint\u001b[0m\u001b[1;33m(\u001b[0m\u001b[1;33m)\u001b[0m\u001b[1;33m\u001b[0m\u001b[1;33m\u001b[0m\u001b[0m\n\u001b[1;32m---> 28\u001b[1;33m \u001b[0mprint\u001b[0m\u001b[1;33m(\u001b[0m\u001b[1;34m'Vote Choice:'\u001b[0m\u001b[1;33m,\u001b[0m \u001b[0mvote_results\u001b[0m\u001b[1;33m[\u001b[0m\u001b[0mnumber\u001b[0m\u001b[1;33m]\u001b[0m\u001b[1;33m[\u001b[0m\u001b[0mday\u001b[0m\u001b[1;33m-\u001b[0m\u001b[1;36m1\u001b[0m\u001b[1;33m]\u001b[0m\u001b[1;33m.\u001b[0m\u001b[0mchoice\u001b[0m\u001b[1;33m)\u001b[0m\u001b[1;33m\u001b[0m\u001b[1;33m\u001b[0m\u001b[0m\n\u001b[0m\u001b[0;32m     29\u001b[0m \u001b[0mprint\u001b[0m\u001b[1;33m(\u001b[0m\u001b[1;34m'Vote Correct:'\u001b[0m\u001b[1;33m,\u001b[0m \u001b[0mvote_results\u001b[0m\u001b[1;33m[\u001b[0m\u001b[0mnumber\u001b[0m\u001b[1;33m]\u001b[0m\u001b[1;33m[\u001b[0m\u001b[0mday\u001b[0m\u001b[1;33m-\u001b[0m\u001b[1;36m1\u001b[0m\u001b[1;33m]\u001b[0m\u001b[1;33m.\u001b[0m\u001b[0mmeta\u001b[0m\u001b[1;33m[\u001b[0m\u001b[1;34m'correct'\u001b[0m\u001b[1;33m]\u001b[0m\u001b[1;33m)\u001b[0m\u001b[1;33m\u001b[0m\u001b[1;33m\u001b[0m\u001b[0m\n\u001b[0;32m     30\u001b[0m \u001b[1;33m\u001b[0m\u001b[0m\n",
      "\u001b[1;31mIndexError\u001b[0m: list index out of range"
     ]
    }
   ],
   "source": [
    "# parameters\n",
    "game_index = 177\n",
    "postnumber = 0\n",
    "day = 1\n",
    "postnumber = str(postnumber)\n",
    "\n",
    "# open game archive, separate by game\n",
    "with open(archive, encoding='utf-8') as f:\n",
    "    games = f.read().split('\\n\\n\\n')  \n",
    "\n",
    "# generate votecounter w/ specified players\n",
    "game = games[game_index]\n",
    "slots, players, fates, lynched, number, game_transitions, moderators, events = _relevantGameInfo(game)\n",
    "\n",
    "# temporary DAY 2fix for until i run every day at once\n",
    "#if vote_results[number][0]:\n",
    "#    vote_results[number] = [None, None, vote_results[number][0]]\n",
    "#    transition_results[number] = [None, None, transition_results[number][0]]\n",
    "\n",
    "correct = lynched[day] if day in lynched else None\n",
    "start_point = 0 if day == 1 else int(game_transitions[day-2])\n",
    "if not int(postnumber):\n",
    "    postnumber = game_transitions[day-1]\n",
    "    \n",
    "html('# {}'.format(number))\n",
    "print(games[game_index])\n",
    "print()\n",
    "print('Vote Choice:', vote_results[number][day-1].choice)\n",
    "print('Vote Correct:', vote_results[number][day-1].meta['correct'])\n",
    "\n",
    "# relevant information and votecounter generation\n",
    "relevant_slots = [slot for slot_index, slot in enumerate(slots) if fates[slot_index] >= day]\n",
    "relevant_players = []\n",
    "for slot in relevant_slots:\n",
    "    relevant_players += slot\n",
    "votecount = VoteCount(relevant_slots, meta={'correct': correct})\n",
    "votecounter = VoteCounter.VoteExtracter(players=relevant_players)\n",
    "\n",
    "# collect gameposts associated with game number\n",
    "with open('../data/posts/{}.jsonl'.format(number)) as f:\n",
    "    gameposts = [json.loads(l) for l in f]\n",
    "    \n",
    "# find and display selected post along with votecounter output for it\n",
    "html('# Post {}'.format(postnumber))\n",
    "post = next(item for item in gameposts if item[\"number\"] == postnumber)\n",
    "print('Extracted Votes:', list(votecounter.fromPost(post)))\n",
    "print()\n",
    "print(post)\n",
    "print()\n",
    "display(HTML(post['content']))\n",
    "    \n",
    "# display extracted and true phase transitions\n",
    "html('# Phase Transitions')\n",
    "print('True Transitions:', game_transitions)\n",
    "print(transition_results[number][day-1])\n",
    "html('[{}]({})'.format(*transition_results[number][day-1]))\n",
    "transition_start, transition_end, transition_match, final_vote = None, None, False, None\n",
    "for post in gameposts[start_point:int(postnumber)]:\n",
    "    \n",
    "    # prioritize any events associated with post\n",
    "    if post['number'] in events:\n",
    "        post_events = events[post['number']]\n",
    "        for event in post_events:\n",
    "            print(event)\n",
    "\n",
    "            # if event is a daykill, remove the player from votecount and voteextractor\n",
    "            if 'killed' == event.split(' ')[1]:\n",
    "\n",
    "                # update relevant slots and players and make new votecounter\n",
    "                killed_player = event.split(' ')[0]\n",
    "                killed_slot = next(s for s in relevant_slots if s.count(killed_player) > 0)\n",
    "                del relevant_slots[relevant_slots.index(killed_slot)]\n",
    "                relevant_players = []\n",
    "                for slot in relevant_slots:\n",
    "                    relevant_players += slot\n",
    "                votecounter = VoteCounter.VoteExtracter(players=relevant_players)\n",
    "                votecount.killplayer(killed_player, post['number'])\n",
    "                        \n",
    "    # consider no more votes if voters have made a choice already\n",
    "    elif not votecount.choice:\n",
    "\n",
    "        # ignore posts not made by players\n",
    "        if relevant_players.count(post['user']) == 0:\n",
    "            continue\n",
    "\n",
    "        # update votecount for each vote found by votecounter\n",
    "        # stop considering votes in post if votecount.choice\n",
    "        for voted in votecounter.fromPost(post):\n",
    "            votecount.update(post['user'], voted, post['number'])\n",
    "            if votecount.choice:\n",
    "                print('Final Vote Post#', post['number'])\n",
    "                break\n",
    "\n",
    "    # keep scanning to find newest post by game mod after detectedhammer\n",
    "    elif not transition_start:\n",
    "        if moderators.count(post['user']) > 0:\n",
    "            transition_start = int(post['number'])\n",
    "            print('Transition Start:', transition_start)\n",
    "\n",
    "    # keep scanning to find last successive post by mod after they end Day\n",
    "    elif not transition_end:\n",
    "        if moderators.count(post['user']) == 0:\n",
    "            transition_end = int(post['number'])\n",
    "            print('Transition End:', transition_start)\n",
    "\n",
    "            # track match between inferred and transcribed transition post#\n",
    "            transition_match = int(game_transitions[0]) in list(range(transition_start, transition_end))\n",
    "            print('Transition Match:', transition_match)\n",
    "\n",
    "    # finish if votecount.choice, transition_start, and transition_end all populated\n",
    "    else:\n",
    "        break\n",
    "        \n",
    "# display votecount up to indicated post number\n",
    "html('# Current Votecount (Up to {})'.format(postnumber))\n",
    "current_votecount = votecount.todict()\n",
    "for each in current_votecount:\n",
    "    if current_votecount[each]:\n",
    "        print(each, '-', len(current_votecount[each]))\n",
    "        for voter in current_votecount[each]:\n",
    "            print(voter)\n",
    "        print()\n",
    "\n",
    "# display final votecount\n",
    "html('# Final Votecount')\n",
    "final_votecount = vote_results[number][day-1].todict()\n",
    "for each in final_votecount:\n",
    "    if final_votecount[each]:\n",
    "        print(each, '-', len(final_votecount[each]))\n",
    "        for voter in final_votecount[each]:\n",
    "            print(voter)\n",
    "        print()\n",
    "        \n",
    "# display final votelog\n",
    "html('# Vote Log')\n",
    "votelog = vote_results[number][day-1].votelog.copy()\n",
    "for index, each in enumerate(votelog):\n",
    "    each = each.split()\n",
    "    each[-1] = '[{}]({})'.format(each[-1], next(item for item in gameposts if item[\"number\"] == each[-1])['pagelink'])\n",
    "    votelog[index] = ' '.join(each)\n",
    "html('  \\n'.join(reversed(votelog)))"
   ]
  },
  {
   "cell_type": "code",
   "execution_count": 38,
   "metadata": {},
   "outputs": [
    {
     "data": {
      "text/plain": [
       "[['Boonskiies', 'Aeronaut'],\n",
       " ['Bellaphant', 'InsidiousLemons'],\n",
       " ['eektor'],\n",
       " ['TheDudeAbides'],\n",
       " ['Elyse'],\n",
       " ['toolenduso'],\n",
       " ['Metalcyanide'],\n",
       " ['Aquanim'],\n",
       " ['oddmusic'],\n",
       " ['RadiantCowbells'],\n",
       " ['mykonian'],\n",
       " ['pisskop'],\n",
       " ['Taly']]"
      ]
     },
     "execution_count": 38,
     "metadata": {},
     "output_type": "execute_result"
    }
   ],
   "source": [
    "relevant_slots"
   ]
  },
  {
   "cell_type": "code",
   "execution_count": 27,
   "metadata": {},
   "outputs": [
    {
     "name": "stdout",
     "output_type": "stream",
     "text": [
      "[\"oddmusic\"] killed\n"
     ]
    }
   ],
   "source": [
    "for event in post_events:\n",
    "    print(event)"
   ]
  },
  {
   "cell_type": "code",
   "execution_count": 35,
   "metadata": {},
   "outputs": [
    {
     "data": {
      "text/plain": [
       "[['Boonskiies', 'Aeronaut'],\n",
       " ['Bellaphant', 'InsidiousLemons'],\n",
       " ['eektor'],\n",
       " ['TheDudeAbides'],\n",
       " ['Elyse'],\n",
       " ['toolenduso'],\n",
       " ['Metalcyanide'],\n",
       " ['Aquanim'],\n",
       " ['RadiantCowbells'],\n",
       " ['mykonian'],\n",
       " ['pisskop'],\n",
       " ['Taly']]"
      ]
     },
     "execution_count": 35,
     "metadata": {},
     "output_type": "execute_result"
    }
   ],
   "source": [
    "votecount.slots"
   ]
  },
  {
   "cell_type": "code",
   "execution_count": 29,
   "metadata": {},
   "outputs": [
    {
     "ename": "StopIteration",
     "evalue": "",
     "output_type": "error",
     "traceback": [
      "\u001b[1;31m---------------------------------------------------------------------------\u001b[0m",
      "\u001b[1;31mStopIteration\u001b[0m                             Traceback (most recent call last)",
      "\u001b[1;32m<ipython-input-29-bf1a787d2ada>\u001b[0m in \u001b[0;36m<module>\u001b[1;34m\u001b[0m\n\u001b[1;32m----> 1\u001b[1;33m \u001b[0mvotecount\u001b[0m\u001b[1;33m.\u001b[0m\u001b[0mkillplayer\u001b[0m\u001b[1;33m(\u001b[0m\u001b[1;33m[\u001b[0m\u001b[1;34m'Taly'\u001b[0m\u001b[1;33m]\u001b[0m\u001b[1;33m)\u001b[0m\u001b[1;33m\u001b[0m\u001b[1;33m\u001b[0m\u001b[0m\n\u001b[0m",
      "\u001b[1;32m~\\Great-Vote-Count-Analysis\\scripts\\VoteCount.py\u001b[0m in \u001b[0;36mkillplayer\u001b[1;34m(self, killed, postnumber)\u001b[0m\n\u001b[0;32m     58\u001b[0m \u001b[1;33m\u001b[0m\u001b[0m\n\u001b[0;32m     59\u001b[0m         \u001b[1;31m# get killedslot\u001b[0m\u001b[1;33m\u001b[0m\u001b[1;33m\u001b[0m\u001b[1;33m\u001b[0m\u001b[0m\n\u001b[1;32m---> 60\u001b[1;33m         \u001b[0mkilledslot\u001b[0m \u001b[1;33m=\u001b[0m \u001b[0mnext\u001b[0m\u001b[1;33m(\u001b[0m\u001b[0mself\u001b[0m\u001b[1;33m.\u001b[0m\u001b[0mslots\u001b[0m\u001b[1;33m.\u001b[0m\u001b[0mindex\u001b[0m\u001b[1;33m(\u001b[0m\u001b[0ms\u001b[0m\u001b[1;33m)\u001b[0m \u001b[1;32mfor\u001b[0m \u001b[0ms\u001b[0m \u001b[1;32min\u001b[0m \u001b[0mself\u001b[0m\u001b[1;33m.\u001b[0m\u001b[0mslots\u001b[0m \u001b[1;32mif\u001b[0m \u001b[0ms\u001b[0m\u001b[1;33m.\u001b[0m\u001b[0mcount\u001b[0m\u001b[1;33m(\u001b[0m\u001b[0mkilled\u001b[0m\u001b[1;33m)\u001b[0m \u001b[1;33m>\u001b[0m \u001b[1;36m0\u001b[0m\u001b[1;33m)\u001b[0m\u001b[1;33m\u001b[0m\u001b[1;33m\u001b[0m\u001b[0m\n\u001b[0m\u001b[0;32m     61\u001b[0m \u001b[1;33m\u001b[0m\u001b[0m\n\u001b[0;32m     62\u001b[0m         \u001b[1;31m# collect slots voting killed slot and reset their votes\u001b[0m\u001b[1;33m\u001b[0m\u001b[1;33m\u001b[0m\u001b[1;33m\u001b[0m\u001b[0m\n",
      "\u001b[1;31mStopIteration\u001b[0m: "
     ]
    }
   ],
   "source": [
    "votecount.killplayer(['Taly'])"
   ]
  },
  {
   "cell_type": "code",
   "execution_count": 39,
   "metadata": {},
   "outputs": [
    {
     "data": {
      "text/html": [
       "<h1>Current Votecount (Up to 1268)</h1>\n"
      ],
      "text/plain": [
       "<IPython.core.display.HTML object>"
      ]
     },
     "metadata": {},
     "output_type": "display_data"
    },
    {
     "name": "stdout",
     "output_type": "stream",
     "text": [
      "['Boonskiies', 'Aeronaut'] - 1\n",
      "['Aquanim']\n",
      "\n",
      "['oddmusic'] - 4\n",
      "['eektor']\n",
      "['pisskop']\n",
      "['Boonskiies', 'Aeronaut']\n",
      "['RadiantCowbells']\n",
      "\n",
      "['RadiantCowbells'] - 2\n",
      "['oddmusic']\n",
      "['Metalcyanide']\n",
      "\n",
      "['mykonian'] - 1\n",
      "['Taly']\n",
      "\n",
      "['Taly'] - 3\n",
      "['Elyse']\n",
      "['mykonian']\n",
      "['Bellaphant', 'InsidiousLemons']\n",
      "\n",
      "Not Voting - 2\n",
      "['TheDudeAbides']\n",
      "['toolenduso']\n",
      "\n"
     ]
    }
   ],
   "source": [
    "html('# Current Votecount (Up to {})'.format(postnumber))\n",
    "current_votecount = votecount.todict()\n",
    "for each in current_votecount:\n",
    "    if current_votecount[each]:\n",
    "        print(each, '-', len(current_votecount[each]))\n",
    "        for voter in current_votecount[each]:\n",
    "            print(voter)\n",
    "        print()"
   ]
  },
  {
   "cell_type": "code",
   "execution_count": null,
   "metadata": {},
   "outputs": [],
   "source": []
  }
 ],
 "metadata": {
  "kernelspec": {
   "display_name": "Python 3",
   "language": "python",
   "name": "python3"
  },
  "language_info": {
   "codemirror_mode": {
    "name": "ipython",
    "version": 3
   },
   "file_extension": ".py",
   "mimetype": "text/x-python",
   "name": "python",
   "nbconvert_exporter": "python",
   "pygments_lexer": "ipython3",
   "version": "3.7.4"
  },
  "pycharm": {
   "stem_cell": {
    "cell_type": "raw",
    "metadata": {
     "collapsed": false
    },
    "source": []
   }
  }
 },
 "nbformat": 4,
 "nbformat_minor": 4
}
