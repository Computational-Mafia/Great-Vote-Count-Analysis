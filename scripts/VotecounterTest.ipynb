{
 "cells": [
  {
   "cell_type": "markdown",
   "metadata": {},
   "source": [
    "# VotecounterTest\n",
    "A script for setting up and executing performance tests on votecounters."
   ]
  },
  {
   "cell_type": "markdown",
   "metadata": {},
   "source": [
    "## Dependencies"
   ]
  },
  {
   "cell_type": "code",
   "execution_count": 1,
   "metadata": {
    "pycharm": {
     "is_executing": false
    }
   },
   "outputs": [],
   "source": [
    "import json\n",
    "import time\n",
    "import numpy as np\n",
    "from VoteCount import VoteCount\n",
    "import VoteCounter\n",
    "from tqdm import tqdm"
   ]
  },
  {
   "cell_type": "markdown",
   "metadata": {},
   "source": [
    "## Helper Function(s)"
   ]
  },
  {
   "cell_type": "code",
   "execution_count": 2,
   "metadata": {
    "pycharm": {
     "is_executing": false
    }
   },
   "outputs": [],
   "source": [
    "def _relevantGameInfo(game):\n",
    "    link = game[:game.find('\\n')]\n",
    "    number = (link[link.find('&t=')+3:] if link.count('&')==1 \n",
    "                      else link[link.find('&t=')+3:link.rfind('&')])\n",
    "    slots, players, correct = [], [], None\n",
    "    for line in game[game.find('\\nPlayers\\n')+9:].split('\\n'):\n",
    "        line = line.split(', ')\n",
    "        players += line[0].split(' replaced ')\n",
    "        slots.append(line[0].split(' replaced ')) \n",
    "        if (line[2].lower().count('lynched') > 0 and\n",
    "            line[2].lower().count('day 1') > 0):\n",
    "            correct = slots[-1]\n",
    "    return slots, players, correct, number"
   ]
  },
  {
   "cell_type": "markdown",
   "metadata": {},
   "source": [
    "## VotecounterTest\n",
    "### Define Parameters\n",
    "We should be able to play with these to select particular outputs in `VoteCounterTest` for analysis."
   ]
  },
  {
   "cell_type": "code",
   "execution_count": 3,
   "metadata": {},
   "outputs": [],
   "source": [
    "archive = '../data/archive.txt'\n",
    "votecounter = VoteCounter\n",
    "start_index = 0\n",
    "end_index = 1"
   ]
  },
  {
   "cell_type": "markdown",
   "metadata": {},
   "source": [
    "### Process Threads\n",
    "Scan through each game, extract a vote sequence, and try to predict lynch with it."
   ]
  },
  {
   "cell_type": "code",
   "execution_count": 18,
   "metadata": {},
   "outputs": [
    {
     "name": "stdout",
     "output_type": "stream",
     "text": [
      "1 1 0.3880000114440918\n"
     ]
    },
    {
     "data": {
      "text/plain": [
       "({'15787': <VoteCount.VoteCount at 0x2343297ce08>}, 1.0, 0.4790000915527344)"
      ]
     },
     "execution_count": 18,
     "metadata": {},
     "output_type": "execute_result"
    }
   ],
   "source": [
    "# open game archive, separate by game\n",
    "with open(archive) as f:\n",
    "    games = f.read().split('\\n\\n\\n')  \n",
    "    \n",
    "# process votes in each game's posts until a lynch found\n",
    "# then store information about votecounter's performance\n",
    "results, success, t0, total = {}, 0, time.time(), 0\n",
    "end_index = end_index if end_index else len(games)  \n",
    "for game in games[start_index:end_index]:\n",
    "    slots, players, correct, number = _relevantGameInfo(game)\n",
    "    #print(slots, players, correct, number)\n",
    "    votecount = VoteCount(slots, meta={'correct': correct})\n",
    "    votecounter = VoteCounter.VoteExtracter(players=players)\n",
    "\n",
    "    # collect gameposts associated with game number\n",
    "    with open('../data/posts/{}.jsonl'.format(number)) as f:\n",
    "        gameposts = sorted([json.loads(l) for l in f],\n",
    "                           key=lambda x: (int(x['thread']), int(x['number'])))\n",
    "\n",
    "    tgame = time.time()\n",
    "    for post in gameposts:\n",
    "        # done if voters have made a choice already\n",
    "        if votecount.choice:\n",
    "            break\n",
    "\n",
    "        # ignore posts not made by players\n",
    "        if players.count(post['user']) == 0:\n",
    "            continue\n",
    "\n",
    "        # update votecount for each vote found by votecounter\n",
    "        for voted in votecounter.fromPost(post):\n",
    "            votecount.update(post['user'], voted, post['number'])\n",
    "            if votecount.choice:\n",
    "                success += votecount.choice == correct\n",
    "                break\n",
    "    results[number] = votecount\n",
    "    total += 1\n",
    "    print(success, total, time.time()-tgame)\n",
    "    \n",
    "results, success/float(end_index-start_index), time.time()-t0"
   ]
  },
  {
   "cell_type": "markdown",
   "metadata": {},
   "source": [
    "## Analyze Results"
   ]
  },
  {
   "cell_type": "code",
   "execution_count": 20,
   "metadata": {},
   "outputs": [
    {
     "data": {
      "text/plain": [
       "['Dekes voted Mariyta in post 14',\n",
       " 'Dekes voted Mariyta in post 14',\n",
       " 'Mr Wright voted Ant_to_the_max in post 15',\n",
       " 'Mr Wright voted Ant_to_the_max in post 15',\n",
       " 'AntB voted Mr Wright in post 16',\n",
       " 'AntB voted Mr Wright in post 16',\n",
       " 'Substrike22 voted moose200x in post 17',\n",
       " 'Substrike22 voted moose200x in post 17',\n",
       " 'Ant_to_the_max voted AntB in post 18',\n",
       " 'Ant_to_the_max voted AntB in post 18',\n",
       " 'Hiraki voted Mariyta in post 20',\n",
       " 'Hiraki voted Mariyta in post 20',\n",
       " 'boberz voted Hiraki in post 21',\n",
       " 'boberz voted Hiraki in post 21',\n",
       " 'LordChronos voted moose200x in post 32',\n",
       " 'LordChronos voted moose200x in post 32',\n",
       " 'Hiraki voted Empking in post 36',\n",
       " 'Hiraki voted moose200x in post 36',\n",
       " 'Hiraki voted Empking in post 36',\n",
       " 'Hiraki voted moose200x in post 36',\n",
       " 'Mariyta voted boberz in post 37',\n",
       " 'Mariyta voted boberz in post 37',\n",
       " 'AntB voted Empking in post 51',\n",
       " 'AntB voted Empking in post 51',\n",
       " 'AntB voted moose200x in post 62',\n",
       " 'AntB voted moose200x in post 62',\n",
       " 'Beefster voted boberz in post 69',\n",
       " 'Beefster voted boberz in post 69',\n",
       " 'boberz voted moose200x in post 78',\n",
       " 'boberz voted moose200x in post 78',\n",
       " 'Lateralus22 voted Beefster in post 98',\n",
       " 'Lateralus22 voted Beefster in post 98',\n",
       " 'boberz voted Empking in post 126',\n",
       " 'boberz voted Hiraki in post 126',\n",
       " 'boberz voted Empking in post 126',\n",
       " 'boberz voted Hiraki in post 126',\n",
       " 'LordChronos voted Beefster in post 148',\n",
       " 'LordChronos voted Beefster in post 148',\n",
       " 'Ant_to_the_max voted Empking in post 150',\n",
       " 'Ant_to_the_max voted Beefster in post 150',\n",
       " 'Ant_to_the_max voted Empking in post 150',\n",
       " 'Ant_to_the_max voted Beefster in post 150',\n",
       " 'AntB voted Empking in post 153',\n",
       " 'AntB voted Empking in post 153',\n",
       " 'Mariyta voted Empking in post 155',\n",
       " 'Mariyta voted LordChronos in post 155',\n",
       " 'Mariyta voted Empking in post 155',\n",
       " 'Mariyta voted LordChronos in post 155',\n",
       " 'Substrike22 voted Empking in post 165',\n",
       " 'Substrike22 voted Dekes in post 165',\n",
       " 'Substrike22 voted Empking in post 165',\n",
       " 'Substrike22 voted Dekes in post 165',\n",
       " 'Lateralus22 voted Empking in post 166',\n",
       " 'Lateralus22 voted Substrike22 in post 166',\n",
       " 'Lateralus22 voted Empking in post 166',\n",
       " 'Lateralus22 voted Substrike22 in post 166',\n",
       " 'Dekes voted Substrike22 in post 178',\n",
       " 'Dekes voted Substrike22 in post 178',\n",
       " 'Substrike22 voted Empking in post 186',\n",
       " 'Substrike22 voted moose200x in post 186',\n",
       " 'Substrike22 voted Empking in post 186',\n",
       " 'Substrike22 voted moose200x in post 186',\n",
       " 'AntB voted moose200x in post 194',\n",
       " 'AntB voted moose200x in post 194',\n",
       " 'Mariyta voted Empking in post 223',\n",
       " 'Mariyta voted Beefster in post 223',\n",
       " 'Mariyta voted Empking in post 223',\n",
       " 'Mariyta voted Beefster in post 223',\n",
       " 'Beefster voted brokenscraps in post 229',\n",
       " 'Beefster voted brokenscraps in post 229',\n",
       " 'Dekes voted Beefster in post 234',\n",
       " 'Dekes voted Beefster in post 234',\n",
       " 'werewolf555 voted Beefster in post 252',\n",
       " 'werewolf555 voted Beefster in post 252',\n",
       " 'boberz voted Hiraki in post 262',\n",
       " 'boberz voted Hiraki in post 262',\n",
       " 'Dekes voted werewolf555 in post 264',\n",
       " 'Dekes voted werewolf555 in post 264',\n",
       " 'Dekes voted moose200x in post 266',\n",
       " 'Dekes voted moose200x in post 266',\n",
       " 'Dekes voted werewolf555 in post 268',\n",
       " 'Dekes voted werewolf555 in post 268',\n",
       " 'AntB voted Empking in post 315',\n",
       " 'AntB voted Empking in post 315',\n",
       " 'Beefster voted AntB in post 336',\n",
       " 'Beefster voted AntB in post 336',\n",
       " 'boberz voted moose200x in post 349',\n",
       " 'boberz voted moose200x in post 349',\n",
       " 'AntB voted moose200x in post 353',\n",
       " 'AntB voted moose200x in post 353',\n",
       " 'pappums rat voted Lateralus22 in post 374',\n",
       " 'pappums rat voted Lateralus22 in post 374',\n",
       " 'boberz voted werewolf555 in post 377',\n",
       " 'boberz voted werewolf555 in post 377',\n",
       " 'moose200x voted werewolf555 in post 383',\n",
       " 'moose200x voted werewolf555 in post 383',\n",
       " 'Lateralus22 voted Empking in post 385',\n",
       " 'Lateralus22 voted werewolf555 in post 385',\n",
       " 'Lateralus22 voted Empking in post 385',\n",
       " 'Lateralus22 voted werewolf555 in post 385',\n",
       " 'Beefster voted Empking in post 388',\n",
       " 'Beefster voted boberz in post 388',\n",
       " 'Beefster voted Empking in post 388',\n",
       " 'Beefster voted boberz in post 388',\n",
       " 'AntB voted Empking in post 391',\n",
       " 'AntB voted Beefster in post 391',\n",
       " 'AntB voted Empking in post 391',\n",
       " 'AntB voted Beefster in post 391',\n",
       " 'Beefster voted Empking in post 394',\n",
       " 'Beefster voted AntB in post 394',\n",
       " 'Beefster voted Empking in post 394',\n",
       " 'Beefster voted AntB in post 394',\n",
       " 'Beefster voted Empking in post 401',\n",
       " 'Beefster voted boberz in post 401',\n",
       " 'Beefster voted Empking in post 401',\n",
       " 'Beefster voted boberz in post 401',\n",
       " 'pappums rat voted moose200x in post 414',\n",
       " 'pappums rat voted moose200x in post 414',\n",
       " 'Beefster voted Empking in post 416',\n",
       " 'Beefster voted werewolf555 in post 416',\n",
       " 'Beefster voted Empking in post 416',\n",
       " 'Beefster voted werewolf555 in post 416',\n",
       " 'Substrike22 voted Empking in post 454',\n",
       " 'Substrike22 voted Beefster in post 454',\n",
       " 'Substrike22 voted Empking in post 454',\n",
       " 'Substrike22 voted Beefster in post 454',\n",
       " 'boberz voted Beefster in post 460']"
      ]
     },
     "execution_count": 20,
     "metadata": {},
     "output_type": "execute_result"
    }
   ],
   "source": [
    "results['15787'].votelog"
   ]
  },
  {
   "cell_type": "code",
   "execution_count": null,
   "metadata": {},
   "outputs": [],
   "source": []
  }
 ],
 "metadata": {
  "kernelspec": {
   "display_name": "Python 3",
   "language": "python",
   "name": "python3"
  },
  "language_info": {
   "codemirror_mode": {
    "name": "ipython",
    "version": 3
   },
   "file_extension": ".py",
   "mimetype": "text/x-python",
   "name": "python",
   "nbconvert_exporter": "python",
   "pygments_lexer": "ipython3",
   "version": "3.7.4"
  },
  "pycharm": {
   "stem_cell": {
    "cell_type": "raw",
    "metadata": {
     "collapsed": false
    },
    "source": []
   }
  }
 },
 "nbformat": 4,
 "nbformat_minor": 4
}
