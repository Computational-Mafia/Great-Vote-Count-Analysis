{
 "cells": [
  {
   "cell_type": "markdown",
   "metadata": {},
   "source": [
    "# VotecounterTest\n",
    "A script for setting up and executing performance tests on votecounters."
   ]
  },
  {
   "cell_type": "markdown",
   "metadata": {},
   "source": [
    "## Dependencies"
   ]
  },
  {
   "cell_type": "code",
   "execution_count": 1,
   "metadata": {
    "pycharm": {
     "is_executing": false
    }
   },
   "outputs": [],
   "source": [
    "import json\n",
    "import time\n",
    "import numpy as np\n",
    "from VoteCount import VoteCount\n",
    "import VoteCounter\n",
    "from tqdm import tqdm"
   ]
  },
  {
   "cell_type": "code",
   "execution_count": 2,
   "metadata": {
    "pycharm": {
     "is_executing": false
    }
   },
   "outputs": [],
   "source": [
    "archive = '../data/archive.txt'"
   ]
  },
  {
   "cell_type": "markdown",
   "metadata": {},
   "source": [
    "## Helper Function(s)"
   ]
  },
  {
   "cell_type": "code",
   "execution_count": 3,
   "metadata": {
    "pycharm": {
     "is_executing": false
    }
   },
   "outputs": [],
   "source": [
    "def _relevantGameInfo(game):\n",
    "    link = game[:game.find('\\n')]\n",
    "    number = (link[link.find('&t=')+3:] if link.count('&')==1 \n",
    "                      else link[link.find('&t=')+3:link.rfind('&')])\n",
    "    slots, players, correct = [], [], None\n",
    "    for line in game[game.find('\\nPlayers\\n')+9:].split('\\n'):\n",
    "        line = line.split(', ')\n",
    "        players += line[0].split(' replaced ')\n",
    "        slots.append(line[0].split(' replaced ')) \n",
    "        if (line[2].lower().count('lynched') > 0 and\n",
    "            line[2].lower().count('day 1') > 0):\n",
    "            correct = slots[-1]\n",
    "    return slots, players, correct, number"
   ]
  },
  {
   "cell_type": "markdown",
   "metadata": {},
   "source": [
    "## The VotecounterTest Class"
   ]
  },
  {
   "cell_type": "code",
   "execution_count": 4,
   "metadata": {
    "pycharm": {
     "is_executing": false
    }
   },
   "outputs": [],
   "source": [
    "class VotecounterTest:\n",
    "    \n",
    "    def __init__(self, archive, posts='posts.jl'):\n",
    "        # open game archive, separate by game\n",
    "        with open(archive) as f:\n",
    "            self.archive = f.read().split('\\n\\n\\n')\n",
    "        \n",
    "    def test(self, votecounter):\n",
    "        # process votes in each game's posts until a lynch found\n",
    "        # then store information about votecounter's performance\n",
    "        results, success, t0, total = {}, 0, time.time(), 0\n",
    "        for game in self.archive:\n",
    "            slots, players, correct, number = _relevantGameInfo(game)\n",
    "            #print(slots, players, correct, number)\n",
    "            votecount = VoteCount(slots, meta={'correct': correct})\n",
    "            votecounter = VoteCounter.VoteExtracter(players=players)\n",
    "            \n",
    "            # collect gameposts associated with game number\n",
    "            with open('../data/posts/{}.jsonl'.format(number)) as f:\n",
    "                gameposts = sorted([json.loads(l) for l in f],\n",
    "                                   key=lambda x: (int(x['thread']), int(x['number'])))\n",
    "            \n",
    "            for post in gameposts:\n",
    "                # done if voters have made a choice already\n",
    "                if votecount.choice:\n",
    "                    break\n",
    "                \n",
    "                # ignore posts not made by players\n",
    "                if players.count(post['user']) == 0:\n",
    "                    continue\n",
    "                \n",
    "                # update votecount for each vote found by votecounter\n",
    "                for voted in votecounter.fromPost(post):\n",
    "                    votecount.update(post['user'], voted)\n",
    "                    if votecount.choice:\n",
    "                        success += votecount.choice == correct\n",
    "                        break\n",
    "            results[number] = votecount\n",
    "            print(success, total)\n",
    "        \n",
    "        return results, success/float(len(self.archive)), time.time()-t0"
   ]
  },
  {
   "cell_type": "markdown",
   "metadata": {},
   "source": [
    "## Test"
   ]
  },
  {
   "cell_type": "code",
   "execution_count": null,
   "metadata": {},
   "outputs": [],
   "source": [
    "results, successrate, time = VotecounterTest(archive).test(VoteCounter)"
   ]
  },
  {
   "cell_type": "code",
   "execution_count": null,
   "metadata": {},
   "outputs": [],
   "source": []
  }
 ],
 "metadata": {
  "kernelspec": {
   "display_name": "Python 3",
   "language": "python",
   "name": "python3"
  },
  "language_info": {
   "codemirror_mode": {
    "name": "ipython",
    "version": 3
   },
   "file_extension": ".py",
   "mimetype": "text/x-python",
   "name": "python",
   "nbconvert_exporter": "python",
   "pygments_lexer": "ipython3",
   "version": "3.7.4"
  },
  "pycharm": {
   "stem_cell": {
    "cell_type": "raw",
    "metadata": {
     "collapsed": false
    },
    "source": []
   }
  }
 },
 "nbformat": 4,
 "nbformat_minor": 4
}
