{
 "cells": [
  {
   "cell_type": "markdown",
   "metadata": {},
   "source": [
    "# VotecounterTest\n",
    "A script for setting up and executing performance tests on votecounters."
   ]
  },
  {
   "cell_type": "markdown",
   "metadata": {},
   "source": [
    "## Dependencies"
   ]
  },
  {
   "cell_type": "code",
   "execution_count": 14,
   "metadata": {},
   "outputs": [],
   "source": [
    "import json\n",
    "import time\n",
    "from VoteCount import VoteCount\n",
    "import VoteCounter\n",
    "from tqdm import tqdm\n",
    "import string\n",
    "\n",
    "# to help generate formatted output rnepresentations\n",
    "from IPython.core.display import display, HTML\n",
    "import markdown2 as md\n",
    "\n",
    "def html(markdown_string):\n",
    "    display(HTML(md.markdown(markdown_string)))\n",
    "    \n",
    "# for simplifying text to just numbers\n",
    "no_punctuation = str.maketrans(string.punctuation+string.ascii_letters, ' '*len(string.punctuation+string.ascii_letters))\n",
    "    \n",
    "# identify game archive and votecounter of interest\n",
    "archive = '../data/archive.txt'\n",
    "votecounter = VoteCounter"
   ]
  },
  {
   "cell_type": "markdown",
   "metadata": {},
   "source": [
    "## Helper Function(s)"
   ]
  },
  {
   "cell_type": "code",
   "execution_count": 20,
   "metadata": {},
   "outputs": [],
   "source": [
    "def _relevantGameInfo(game):\n",
    "    \n",
    "    # link\n",
    "    link = game[:game.find('\\n')]\n",
    "    \n",
    "    # thread number\n",
    "    number = (link[link.find('&t=')+3:] if link.count('&')==1 \n",
    "                      else link[link.find('&t=')+3:link.rfind('&')])\n",
    "\n",
    "    # special events\n",
    "    events, notes = {}, game[:game.find('\\n\\n')].split('\\n')[-1]\n",
    "    for note in notes.split('; '):\n",
    "        if ' on post ' in note:\n",
    "            postnumber = note.split(' on post')[1]\n",
    "            if postnumber in events:\n",
    "                events[postnumber].append(note.split(' on post')[0])\n",
    "            else:\n",
    "                events[postnumber] = [note.split(' on post')[0]]\n",
    "    \n",
    "    # game title and number\n",
    "    title = game.split('\\n')[1]\n",
    "    title_number = [i for i in title.translate(no_punctuation).split() if i.isdigit()][0]\n",
    "    \n",
    "    # moderator(s)\n",
    "    moderators = game.split('\\n')[2][len('Moderator: '):].split(', ')\n",
    "    \n",
    "    # living slots/players for each Day\n",
    "    slots, players, fates, lynched = [], [], [], {}\n",
    "    for line in game[game.find('\\nPlayers\\n')+9:].split('\\n'):\n",
    "        line = line.split(', ')\n",
    "        \n",
    "        # build list of players and slots\n",
    "        players += line[0].split(' replaced ')\n",
    "        slots.append(line[0].split(' replaced ')) \n",
    "        \n",
    "        # extract last phase slot's vote helped decide Day\n",
    "        # it's the phase they died, minus one if they were day-killed (not lynched)\n",
    "        if 'survived' in line[-1].lower() or 'endgamed' in line[-1].lower():\n",
    "            fates.append(float('inf'))\n",
    "        else:\n",
    "            phase = int(line[-1][line[-1].rfind(' ')+1:])\n",
    "            #fate_modifier = 'killed day' in line[-1][:line[-1].rfind(' ')].lower() \n",
    "            fates.append(max(0, phase))\n",
    "        \n",
    "        # sort any detected lynches into `lynched` array\n",
    "        if 'lynched' in line[-1].lower():\n",
    "            lynched[phase] = slots[-1]\n",
    "\n",
    "    return slots, players, fates, lynched, number, transitions[title_number], moderators, events"
   ]
  },
  {
   "cell_type": "markdown",
   "metadata": {},
   "source": [
    "## VotecounterTest"
   ]
  },
  {
   "cell_type": "code",
   "execution_count": 21,
   "metadata": {},
   "outputs": [
    {
     "name": "stdout",
     "output_type": "stream",
     "text": "1\nhttps://forum.mafiascum.net/viewtopic.php?f=53&t=15934\nGame 1105: A Mafia Invasion!\nModerator: Zachrulez\nCurrent Update: Town Win\nNotes: [\"AGar\"] killed on post 283; [\"Zdenek\", \"Dizzle\"] killed on post 490\n\nPlayers\nRobCapone, Mafia 2-Shot Rolecop, lynched Day 3\nAGar, Town Mason, killed Day 1\nRain replaced Mute, Town Neighbor, survived\nVP Baltar, Town Vanilla, killed Night 1\nEmpking replaced Guderian, Town 2-Shot Day Viglante, survived\nJerbs, Mafia Goon, lynched Day 1\nLlamaGod, Town Vanilla, survived\nTasky, Town Vanilla, killed Night 2\nGreyICE replaced RossWilliam, Town Vanilla, survived\nZdenek replaced Dizzle, Mafia Goon, killed Day 2\nLocke Lamora replaced Vigilante Ventriloquist replaced Carrotcake, Town Neighbor, lynched Day 2\nEllibereth, Town Vanilla, survived\npappums rat, Town Vanilla, survived\n5 15934 1 1 1 True True 0.13849997520446777\n\n---\n\n1\nhttps://forum.mafiascum.net/viewtopic.php?f=53&t=16959\nGame 1146: Don't Get Slapped in the Face by a Fish Mafia\nModerator: chesskid3\nCurrent Update: Town Win\nNotes: [\"Empking\"] killed on post 234\n\nPlayers\ngandalf5166, Town Vanilla, survived\nRedCoyote, Town One-Shot Roleblocker, survived\nAurorusVox, Mafia Roleblocker, lynched Day 3\nhitogoroshi replaced Shift, Town Vanilla, lynched Day 1\nVasudeVa, Town Vanilla, survived\nEmpking, Town Vanilla, killed Day 1\ntarsonisocelot, Town Gunsmith, killed Night 1\nCooLDoG, Town Vanilla, survived\nbvoigt, Mafia Goon, lynched Day 4\nAmrun replaced qax42, Town Vanilla, survived\nGreyICE replaced Otolia, Town One-shot Day Vigilante, killed Night 2\nDarthYoshi, Mafia Goon, lynched Day 2\nRanmaru replaced gorilla, Town Vanilla, survived\n19 16959 2 2 2 True True 0.28899693489074707\n\n---\n\n1\nhttps://forum.mafiascum.net/viewtopic.php?f=53&t=17143\nGame 1147: Royal Mafia at the Round Table\nModerator: neil1113\nCurrent Update: Mafia Win\nNotes: [\"ender241\"] killed on post 420\n\nPlayers\nTwistedspoon, Mafia Roleblocker, lynched Day 4\nJuls, Town Mason, killed Night 1\nDuplicity replaced Oso, Town Vanilla, killed Night 5\nRhinox, Town Vanilla, killed Night 3\nNecessary Evil, Mafia Goon, lynched Day 2\nLocke Lamora replaced Erratus Apathos, Town Vanilla, lynched Day 6\nProsaurus, Town Vanilla, endgamed Day 6\nQuilford replaced Klazam, Town Mason, killed Night 4\nMe=Weird, Town Vanilla, lynched Day 1\nMaxous, Town Vanilla, lynched Day 3\nfarside22, Mafia Goon, survived\nJavert, Town One-Shot Vigilante, killed Night 2\nender241, Town One-Shot Cop, killed Day 1\n20 17143 3 3 3 True True 0.2644977569580078\n\n---\n\n1\nhttps://forum.mafiascum.net/viewtopic.php?f=53&t=25003\nGame 1410: Mafia in the Unknown\nModerator: Quilford\nCurrent Update: Town Win\nNotes: [\"Norlkaz\", \"jeromus\"] killed on post 159; [\"havingfitz\", \"Shepherd Book\"] killed on post 703; votecount reset on post 703\n\nPlayers\nCheery Dog, Vanilla Townie, killed Night 1\nEdosurist, Town Non-Consecutive Jailkeeper, killed Night 3\nKonowa replaced UVApe, Vanilla Townie, lynched Day 2\nCooLDoG, Town Gunsmith, killed Night 4\ncaptaineddie replaced Boshka replaced absta101, Mafia Goon, lynched Day 5\nRevenus, Town Neighborizer, survived\nhavingfitz replaced Shepherd Book, Mafia Goon, killed Day 3\nI Am Innocent replaced Chevre, Vanilla Townie, lynched Day 1\nZhero, Vanilla Townie, survived\nNorlkaz replaced jeromus, Vanilla Townie, killed Day 1\nroflcopter, Third Party Non-Consecutive Day Serial Killer, lynched Day 4\nDrippingGoofball replaced iamausername, Vanilla Townie, killed Night 2\nRestFermata, Mafia Bulletproof, lynched Day 3\n93 25003 4 3 4 True False 0.10999894142150879\n\n---\n\n1\nhttps://forum.mafiascum.net/viewtopic.php?f=53&t=58383\nMini 1589: The Train of Death\nModerator: Aronis\nCurrent Update: Mafia Win\nNotes: votecount reset on post 82; [\"xfdagentx42\"] killed on post 82\n\nPlayers\nSleepyKrew replaced Fusion, Town Vanilla, endgamed day 5\nEspressojet, Mafia Goon, lynched day 1\nTheNoggyOne, Town Vanilla, lynched day 3\nKonowa, Town Cop, killed night 3\nPeabody replaced Kid A, Town Neighbor, lynched day 2\nimplosion, Town Vanilla, lynched day 5\nxfdagentx42, Mafia Goon, killed day 1\nJunpei replaced Chevlon replaced roflcopter, Town Vanilla, killed night 4\nWolfy, Town Vanilla, lynched day 4\nRedCoyote, Town Neighbor, endgamed day 5\nClusk92, Town Jailkeeper, killed night 1\nNatirasha, Mafia Rolecop, survived\nbjc, Town One-Shot Dayvig, killed night 2\n158 58383 4 3 5 False False 0.046000003814697266\n\n---\n\n1\nhttps://forum.mafiascum.net/viewtopic.php?f=53&t=60920\nMini 1651: One Flew Over The Monkey's Nest\nModerator: MonkeyMan576\nCurrent Update: Mafia Win\nNotes: D1 no majority; [\"oddmusic\"] killed on post 501; [\"Taly\"] killed on post 864\n\nPlayers\nBoonskiies replaced Aeronaut, Vanilla Townie, endgamed day 3\nBellaphant replaced InsidiousLemons, Vanilla Townie, lynched day 3\neektor, Vanilla Townie, endgamed day 3\nTheDudeAbides, Mafia Goon, survived\nElyse, Mafia Godfather, survived\ntoolenduso, Mafia Goon, survived\nMetalcyanide, Vanilla Townie, endgamed day 3\nAquanim, Vanilla Townie, endgamed day 3\noddmusic, Vanilla Townie, killed day 1\nRadiantCowbells, Town Cop, killed night 1\nmykonian, Vanilla Townie, lynched day 2\npisskop, Town One-Shot Day Vigilante, killed night 2\nTaly, Town Roleblocker, modkilled day 1\n177 60920 4 3 6 False False 0.6464998722076416\n\n---\n\n1\nhttps://forum.mafiascum.net/viewtopic.php?f=53&t=67181\nMini Normal 1809\nModerator: Dierfire\nCurrent Update: Town Win\nNotes: [\"Robbnva\"] killed on post 747\n\nPlayers\nRobbnva, Town Jailkeeper, modkilled day 1\nElyse, Mafia Ascetic Roleblocker, lynched day 5\nMathBlade replaced BlankFace, Mafia Goon, lynched day 6\ncmitc1, Town Weak Neighborizer, killed night 2\nVedith, Vanilla Town, lynched day 1\nNachomamma8 replaced Wingback replaced Seraphim replaced Wake88, Vanilla Town, survived\nGrendel, Town 1-Shot Vigilante, killed night 3\nHoopla, Vanilla Town, lynched day 3\nExpedience replaced BBmolla, Vanilla Town, killed night 5\nKillthestory replaced House, Vanilla Town, killed night 4\nMasquerade, Mafia Goon, lynched day 2\nEgg, Vanilla Town, survived\nChaosOmega, Vanilla Town, killed night 1\n242 67181 5 4 7 True True 0.32550597190856934\n\n---\n\n1\nhttps://forum.mafiascum.net/viewtopic.php?f=53&t=68153\nMini Normal 1827 - No Flavor Mafia\nModerator: Dunnstral\nCurrent Update: Mafia Win\nNotes: [\"light_ganski\"] killed on post 784\n\nPlayers\nxyzzy, Vanilla Town, lynched day 1\nTranscend, Mafia Goon, survived\nlight_ganski, Mafia Goon, killed day 1\nmassive, Vanilla Town, killed night 1\nRachMarie replaced Seraphim replaced Jordarrian, Vanilla Townie, endgamed\nKillthestory, Town Bodyguard, killed night 2\nBlackStar, Town One-Shot Day Vigilante, endgamed\nCreature, Town One-Shot Vigilante, lynched day 5\nExpedience replaced Skelda, Vanilla Town, lynched day 2\nVedith, Mafia Goon, lynched day 3\nTitus replaced Blitzkrieg replaced pistachi0n, Vanilla Town, lynched day 4\nIo, Vanilla Town, killed night 4\nNaomi-Tan, Town Neapolitan, killed night 3\n249 68153 6 5 8 True True 0.4279940128326416\n\n---\n\n0.75 0.625 8 8.558998346328735\n"
    }
   ],
   "source": [
    "#parameters\n",
    "start_index = 0\n",
    "end_index = 0\n",
    "\n",
    "# open game archive, separate by game\n",
    "with open(archive, encoding='utf-8') as f:\n",
    "    games = f.read().split('\\n\\n\\n')  \n",
    "\n",
    "# open transitions archive, convert into dictionary of lists\n",
    "with open('../data/transitions.tsv') as f:\n",
    "    transitions = f.read()\n",
    "transitions = transitions.split('\\n')[3:]\n",
    "transitions = {line.split('\\t')[0]:line.strip().split('\\t')[1:] for line in transitions if len(line.strip().split('\\t')[1:]) > 0}\n",
    "\n",
    "# process votes in each game's posts until a lynch found\n",
    "# then store information about votecounter's performance\n",
    "vote_results, vote_success, transition_results, transition_success, t0, total = {}, 0, {}, 0, time.time(), 0\n",
    "end_index = end_index if end_index else len(games)  \n",
    "for game_index, game in enumerate(games[start_index:end_index]):\n",
    "    \n",
    "    # temporarily only consider games where... (MODIFIABLE)\n",
    "    if 'killed day 1' not in game.lower():\n",
    "        continue\n",
    "    \n",
    "    # extract relevant information about this game\n",
    "    slots, players, fates, lynched, number, game_transitions, moderators, events = _relevantGameInfo(game)\n",
    "    with open('../data/posts/{}.jsonl'.format(number)) as f:\n",
    "        gameposts =  [json.loads(l) for l in f]\n",
    "        \n",
    "    # prepare to collect data for this game\n",
    "    transition_results[number] = []\n",
    "    vote_results[number] = []\n",
    "    \n",
    "    #for day in range(1, len(game_transitions)):\n",
    "    for day in [1]:\n",
    "        \n",
    "        # we'll remove this later; don't scan games that don't have this many games\n",
    "        if len(game_transitions) < day+1:\n",
    "            continue\n",
    "    \n",
    "        # identify day-specific information and set up voteextractor and votecount for them\n",
    "        correct = lynched[day] if day in lynched else None\n",
    "        start_point = 0 if day == 1 else int(game_transitions[day-2])\n",
    "        relevant_slots = [slot for slot_index, slot in enumerate(slots) if fates[slot_index] >= day]\n",
    "        relevant_players = []\n",
    "        for slot in relevant_slots:\n",
    "            relevant_players += slot\n",
    "        votecount = VoteCount(relevant_slots, meta={'correct': correct})\n",
    "        votecounter = VoteCounter.VoteExtracter(players=relevant_players)\n",
    "\n",
    "        tphase, transition_start, transition_end, transition_match, transition_url = time.time(), None, None, False, None\n",
    "        for post in gameposts[start_point:]:\n",
    "            # prioritize any events associated with post\n",
    "            if post['number'] in events:\n",
    "                post_events = events[post['number']]\n",
    "                for event in post_events:\n",
    "\n",
    "                    # if event is a daykill, remove the player from votecount and voteextractor\n",
    "                    if 'killed' == event.split(' ')[1]:\n",
    "                        \n",
    "                        # update relevant slots and players and make new votecounter\n",
    "                        killed_slot = json.loads(event.split(' ')[0])\n",
    "                        del relevant_slots[relevant_slots.index(killed_slot)]\n",
    "                        for slot in relevant_slots:\n",
    "                            relevant_players += slot\n",
    "                        votecounter = VoteCounter.VoteExtracter(players=relevant_players)\n",
    "                        votecount.killplayer(killed_slot, post['number'])\n",
    "\n",
    "            # consider no more votes if voters have made a choice already\n",
    "            elif not votecount.choice:\n",
    "\n",
    "                # ignore posts not made by players\n",
    "                if relevant_players.count(post['user']) == 0:\n",
    "                    continue\n",
    "\n",
    "                # update votecount for each vote found by votecounter\n",
    "                # stop considering votes in post if votecount.choice\n",
    "                for voted in votecounter.fromPost(post):\n",
    "                    votecount.update(post['user'], voted, post['number'])\n",
    "                    if votecount.choice:\n",
    "                        vote_success += votecount.choice == correct\n",
    "                        break\n",
    "\n",
    "            # keep scanning to find newest post by game mod after detectedhammer\n",
    "            elif not transition_start:\n",
    "                if moderators.count(post['user']) > 0:\n",
    "                    transition_start = int(post['number'])\n",
    "                    transition_url = post['pagelink']\n",
    "\n",
    "            # keep scanning to find last successive post by mod after they end Day\n",
    "            elif not transition_end:\n",
    "                if moderators.count(post['user']) == 0:\n",
    "                    transition_end = int(post['number'])\n",
    "\n",
    "                    # track match between inferred and transcribed transition post#\n",
    "                    transition_match = int(game_transitions[day-1]) in list(range(transition_start, transition_end))\n",
    "                    transition_success += transition_match\n",
    "\n",
    "            # finish if votecount.choice, transition_start, and transition_end all populated\n",
    "            else:\n",
    "                break\n",
    "\n",
    "        transition_results[number].append([list(range(transition_start, transition_end)), transition_url] if transition_start and transition_end else \"None\")\n",
    "        vote_results[number].append(votecount)\n",
    "        total += 1\n",
    "        #if not (votecount.choice == correct and transition_match):\n",
    "        print(day)\n",
    "        print(game)\n",
    "        #print(game.split('\\n\\n')[0])\n",
    "        print(f'{game_index + start_index} {number} {vote_success} {transition_success} {total} {votecount.choice == correct} {transition_match} {time.time()-tphase}')\n",
    "        print('\\n---\\n')\n",
    "\n",
    "print(f'{vote_success/total} {transition_success/total} {total} {time.time()-t0}')"
   ]
  },
  {
   "cell_type": "markdown",
   "metadata": {},
   "source": [
    "## Analyze Results\n",
    "Will have to revise this to adapt to new variable names/codeflow."
   ]
  },
  {
   "cell_type": "code",
   "execution_count": 80,
   "metadata": {},
   "outputs": [
    {
     "data": {
      "text/html": [
       "<h1>69502</h1>\n"
      ],
      "text/plain": [
       "<IPython.core.display.HTML object>"
      ]
     },
     "metadata": {},
     "output_type": "display_data"
    },
    {
     "name": "stdout",
     "output_type": "stream",
     "text": [
      "https://forum.mafiascum.net/viewtopic.php?f=53&t=69502\n",
      "Mini 1861: Musical Mafia\n",
      "Moderator: Gamma Emerald, mhsmith0\n",
      "Current Update: Town Win\n",
      "\n",
      "Players\n",
      "Io, Vanilla Townie, lynched day 1\n",
      "Dierfire replaced Elhabe21, Vanilla Townie, survived\n",
      "HellloooNewman, Town Odd-Night Cop, killed night 1\n",
      "Blackvoid replaced MiniDeathStar, Vanilla Townie, killed night 3\n",
      "Kairal, Vanilla Townie, survived\n",
      "Flubbernugget, Mafia Goon, lynched day 5\n",
      "I Am Innocent, Vanilla Townie, survived\n",
      "Secret Agent Jin, Vanilla Townie, lynched day 2\n",
      "Naomi-Tan ShadowStep replaced Cloudkicker, Vanilla Townie, survived\n",
      "-Grey-, Town Jailkeeper, killed night 2\n",
      "culted, Mafia Goon, lynched day 4\n",
      "massive, Town Even-Night Cop, killed night 4\n",
      "Aj The Epic, Mafia Role Cop, lynched day 3\n",
      "\n",
      "Vote Choice: ['culted']\n",
      "Vote Correct: ['Aj The Epic']\n"
     ]
    },
    {
     "data": {
      "text/html": [
       "<h1>Post 1807</h1>\n"
      ],
      "text/plain": [
       "<IPython.core.display.HTML object>"
      ]
     },
     "metadata": {},
     "output_type": "display_data"
    },
    {
     "name": "stdout",
     "output_type": "stream",
     "text": [
      "Extracted Votes: []\n",
      "\n",
      "{'forum': '53', 'thread': '69502', 'pagelink': 'https://forum.mafiascum.net/viewtopic.php?f=53&t=69502&start=1800', 'number': '1807', 'timestamp': 'Sat Jan 14, 2017 2:58 pm', 'user': 'mhsmith0', 'content': 'AJ The Epic was lynched!  He was<br><br><div style=\"margin:20px; margin-top:1px; margin-bottom:1px;\"><div class=\"quotetitle\"><b>Spoiler: </b> <input type=\"button\" value=\"Show\" class=\"button2\" onclick=\"if (this.parentNode.parentNode.getElementsByTagName(\\'div\\')[1].getElementsByTagName(\\'div\\')[0].style.display != \\'\\') { this.parentNode.parentNode.getElementsByTagName(\\'div\\')[1].getElementsByTagName(\\'div\\')[0].style.display = \\'\\'; this.innerText = \\'\\'; this.value = \\'Hide\\'; } else { this.parentNode.parentNode.getElementsByTagName(\\'div\\')[1].getElementsByTagName(\\'div\\')[0].style.display = \\'none\\'; this.innerText = \\'\\'; this.value = \\'Show\\'; }\"></div><div class=\"quotecontent\"><div style=\"display: none;\"><span class=\"noboldsig\"><span style=\"color: red\"><span class=\"nocolorsig\">Mafia Role Cop</span></span></span></div></div></div><br><br><span class=\"noboldsig\"><span style=\"color: #FFAA00\"><span class=\"nocolorsig\">Night three deadline is Tuesday January 17, 12 PM PST. <span class=\"countdown\"><span style=\"font-style:italic;\">(expired on 2017-01-17 13:00:00)</span></span><br></span></span></span><br><br>Remember to PM me and Gamma Emerald all intended night actions.'}\n",
      "\n"
     ]
    },
    {
     "data": {
      "text/html": [
       "AJ The Epic was lynched!  He was<br><br><div style=\"margin:20px; margin-top:1px; margin-bottom:1px;\"><div class=\"quotetitle\"><b>Spoiler: </b> <input type=\"button\" value=\"Show\" class=\"button2\" onclick=\"if (this.parentNode.parentNode.getElementsByTagName('div')[1].getElementsByTagName('div')[0].style.display != '') { this.parentNode.parentNode.getElementsByTagName('div')[1].getElementsByTagName('div')[0].style.display = ''; this.innerText = ''; this.value = 'Hide'; } else { this.parentNode.parentNode.getElementsByTagName('div')[1].getElementsByTagName('div')[0].style.display = 'none'; this.innerText = ''; this.value = 'Show'; }\"></div><div class=\"quotecontent\"><div style=\"display: none;\"><span class=\"noboldsig\"><span style=\"color: red\"><span class=\"nocolorsig\">Mafia Role Cop</span></span></span></div></div></div><br><br><span class=\"noboldsig\"><span style=\"color: #FFAA00\"><span class=\"nocolorsig\">Night three deadline is Tuesday January 17, 12 PM PST. <span class=\"countdown\"><span style=\"font-style:italic;\">(expired on 2017-01-17 13:00:00)</span></span><br></span></span></span><br><br>Remember to PM me and Gamma Emerald all intended night actions."
      ],
      "text/plain": [
       "<IPython.core.display.HTML object>"
      ]
     },
     "metadata": {},
     "output_type": "display_data"
    },
    {
     "data": {
      "text/html": [
       "<h1>Phase Transitions</h1>\n"
      ],
      "text/plain": [
       "<IPython.core.display.HTML object>"
      ]
     },
     "metadata": {},
     "output_type": "display_data"
    },
    {
     "name": "stdout",
     "output_type": "stream",
     "text": [
      "True Transitions: ['868', '961', '1807', '1959', '1985', '-']\n",
      "[[1958, 1959, 1960], 'https://forum.mafiascum.net/viewtopic.php?f=53&t=69502&start=1950']\n"
     ]
    },
    {
     "data": {
      "text/html": [
       "<p><a href=\"https://forum.mafiascum.net/viewtopic.php?f=53&amp;t=69502&amp;start=1950\">[1958, 1959, 1960]</a></p>\n"
      ],
      "text/plain": [
       "<IPython.core.display.HTML object>"
      ]
     },
     "metadata": {},
     "output_type": "display_data"
    },
    {
     "data": {
      "text/html": [
       "<h1>Current Votecount (Up to 1807)</h1>\n"
      ],
      "text/plain": [
       "<IPython.core.display.HTML object>"
      ]
     },
     "metadata": {},
     "output_type": "display_data"
    },
    {
     "name": "stdout",
     "output_type": "stream",
     "text": [
      "['Kairal'] - 3\n",
      "['culted']\n",
      "['Aj The Epic']\n",
      "['Flubbernugget']\n",
      "\n",
      "['Aj The Epic'] - 3\n",
      "['Kairal']\n",
      "['I Am Innocent']\n",
      "['Dierfire', 'Elhabe21']\n",
      "\n",
      "Not Voting - 3\n",
      "['Blackvoid', 'MiniDeathStar']\n",
      "['Naomi-Tan ShadowStep', 'Cloudkicker']\n",
      "['massive']\n",
      "\n"
     ]
    },
    {
     "data": {
      "text/html": [
       "<h1>Final Votecount</h1>\n"
      ],
      "text/plain": [
       "<IPython.core.display.HTML object>"
      ]
     },
     "metadata": {},
     "output_type": "display_data"
    },
    {
     "name": "stdout",
     "output_type": "stream",
     "text": [
      "['Kairal'] - 1\n",
      "['Aj The Epic']\n",
      "\n",
      "['culted'] - 5\n",
      "['I Am Innocent']\n",
      "['Dierfire', 'Elhabe21']\n",
      "['Flubbernugget']\n",
      "['Kairal']\n",
      "['culted']\n",
      "\n",
      "Not Voting - 3\n",
      "['Blackvoid', 'MiniDeathStar']\n",
      "['Naomi-Tan ShadowStep', 'Cloudkicker']\n",
      "['massive']\n",
      "\n"
     ]
    },
    {
     "data": {
      "text/html": [
       "<h1>Vote Log</h1>\n"
      ],
      "text/plain": [
       "<IPython.core.display.HTML object>"
      ]
     },
     "metadata": {},
     "output_type": "display_data"
    },
    {
     "data": {
      "text/html": [
       "<p>culted voted culted in post <a href=\"https://forum.mafiascum.net/viewtopic.php?f=53&amp;t=69502&amp;start=1850\">1861</a> <br />\n",
       "Kairal voted culted in post <a href=\"https://forum.mafiascum.net/viewtopic.php?f=53&amp;t=69502&amp;start=1850\">1859</a> <br />\n",
       "Flubbernugget voted culted in post <a href=\"https://forum.mafiascum.net/viewtopic.php?f=53&amp;t=69502&amp;start=1825\">1847</a> <br />\n",
       "culted voted Flubbernugget in post <a href=\"https://forum.mafiascum.net/viewtopic.php?f=53&amp;t=69502&amp;start=1825\">1832</a> <br />\n",
       "Kairal voted Flubbernugget in post <a href=\"https://forum.mafiascum.net/viewtopic.php?f=53&amp;t=69502&amp;start=1825\">1827</a> <br />\n",
       "Dierfire voted culted in post <a href=\"https://forum.mafiascum.net/viewtopic.php?f=53&amp;t=69502&amp;start=1800\">1816</a> <br />\n",
       "I Am Innocent voted culted in post <a href=\"https://forum.mafiascum.net/viewtopic.php?f=53&amp;t=69502&amp;start=1800\">1810</a> <br />\n",
       "Dierfire voted Aj The Epic in post <a href=\"https://forum.mafiascum.net/viewtopic.php?f=53&amp;t=69502&amp;start=1800\">1801</a> <br />\n",
       "Dierfire voted Flubbernugget in post <a href=\"https://forum.mafiascum.net/viewtopic.php?f=53&amp;t=69502&amp;start=1750\">1773</a> <br />\n",
       "I Am Innocent voted Aj The Epic in post <a href=\"https://forum.mafiascum.net/viewtopic.php?f=53&amp;t=69502&amp;start=1725\">1734</a> <br />\n",
       "I Am Innocent voted UNVOTE in post <a href=\"https://forum.mafiascum.net/viewtopic.php?f=53&amp;t=69502&amp;start=1725\">1734</a> <br />\n",
       "Kairal voted Aj The Epic in post <a href=\"https://forum.mafiascum.net/viewtopic.php?f=53&amp;t=69502&amp;start=1725\">1729</a> <br />\n",
       "Kairal voted culted in post <a href=\"https://forum.mafiascum.net/viewtopic.php?f=53&amp;t=69502&amp;start=1700\">1703</a> <br />\n",
       "massive voted UNVOTE in post <a href=\"https://forum.mafiascum.net/viewtopic.php?f=53&amp;t=69502&amp;start=1650\">1664</a> <br />\n",
       "Flubbernugget voted Kairal in post <a href=\"https://forum.mafiascum.net/viewtopic.php?f=53&amp;t=69502&amp;start=1625\">1625</a> <br />\n",
       "Aj The Epic voted Kairal in post <a href=\"https://forum.mafiascum.net/viewtopic.php?f=53&amp;t=69502&amp;start=1475\">1492</a> <br />\n",
       "Kairal voted Flubbernugget in post <a href=\"https://forum.mafiascum.net/viewtopic.php?f=53&amp;t=69502&amp;start=1450\">1474</a> <br />\n",
       "Kairal voted Naomi-Tan ShadowStep in post <a href=\"https://forum.mafiascum.net/viewtopic.php?f=53&amp;t=69502&amp;start=1450\">1467</a> <br />\n",
       "Kairal voted UNVOTE in post <a href=\"https://forum.mafiascum.net/viewtopic.php?f=53&amp;t=69502&amp;start=1425\">1449</a> <br />\n",
       "I Am Innocent voted culted in post <a href=\"https://forum.mafiascum.net/viewtopic.php?f=53&amp;t=69502&amp;start=1400\">1423</a> <br />\n",
       "Dierfire voted UNVOTE in post <a href=\"https://forum.mafiascum.net/viewtopic.php?f=53&amp;t=69502&amp;start=1400\">1409</a> <br />\n",
       "Dierfire voted Naomi-Tan ShadowStep in post <a href=\"https://forum.mafiascum.net/viewtopic.php?f=53&amp;t=69502&amp;start=1400\">1406</a> <br />\n",
       "Dierfire voted UNVOTE in post <a href=\"https://forum.mafiascum.net/viewtopic.php?f=53&amp;t=69502&amp;start=1375\">1380</a> <br />\n",
       "Aj The Epic voted Flubbernugget in post <a href=\"https://forum.mafiascum.net/viewtopic.php?f=53&amp;t=69502&amp;start=1350\">1353</a> <br />\n",
       "Kairal voted Flubbernugget in post <a href=\"https://forum.mafiascum.net/viewtopic.php?f=53&amp;t=69502&amp;start=1350\">1351</a> <br />\n",
       "Kairal voted culted in post <a href=\"https://forum.mafiascum.net/viewtopic.php?f=53&amp;t=69502&amp;start=1325\">1342</a> <br />\n",
       "Flubbernugget voted UNVOTE in post <a href=\"https://forum.mafiascum.net/viewtopic.php?f=53&amp;t=69502&amp;start=1300\">1316</a> <br />\n",
       "culted voted Kairal in post <a href=\"https://forum.mafiascum.net/viewtopic.php?f=53&amp;t=69502&amp;start=1250\">1257</a> <br />\n",
       "Kairal voted Flubbernugget in post <a href=\"https://forum.mafiascum.net/viewtopic.php?f=53&amp;t=69502&amp;start=1100\">1119</a> <br />\n",
       "massive voted Kairal in post <a href=\"https://forum.mafiascum.net/viewtopic.php?f=53&amp;t=69502&amp;start=1075\">1089</a> <br />\n",
       "Kairal voted culted in post <a href=\"https://forum.mafiascum.net/viewtopic.php?f=53&amp;t=69502&amp;start=1075\">1083</a> <br />\n",
       "Flubbernugget voted massive in post <a href=\"https://forum.mafiascum.net/viewtopic.php?f=53&amp;t=69502&amp;start=1050\">1059</a> <br />\n",
       "culted voted Naomi-Tan ShadowStep in post <a href=\"https://forum.mafiascum.net/viewtopic.php?f=53&amp;t=69502&amp;start=1025\">1036</a> <br />\n",
       "massive voted Flubbernugget in post <a href=\"https://forum.mafiascum.net/viewtopic.php?f=53&amp;t=69502&amp;start=1025\">1025</a> <br />\n",
       "Aj The Epic voted Naomi-Tan ShadowStep in post <a href=\"https://forum.mafiascum.net/viewtopic.php?f=53&amp;t=69502&amp;start=1000\">1014</a> <br />\n",
       "Flubbernugget voted MiniDeathStar in post <a href=\"https://forum.mafiascum.net/viewtopic.php?f=53&amp;t=69502&amp;start=975\">985</a></p>\n"
      ],
      "text/plain": [
       "<IPython.core.display.HTML object>"
      ]
     },
     "metadata": {},
     "output_type": "display_data"
    }
   ],
   "source": [
    "# parameters\n",
    "game_index = 266\n",
    "postnumber = 0\n",
    "day = 3\n",
    "postnumber = str(postnumber)\n",
    "\n",
    "# open game archive, separate by game\n",
    "with open(archive, encoding='utf-8') as f:\n",
    "    games = f.read().split('\\n\\n\\n')  \n",
    "\n",
    "# generate votecounter w/ specified players\n",
    "game = games[game_index]\n",
    "slots, players, fates, lynched, number, game_transitions, moderators = _relevantGameInfo(game)\n",
    "\n",
    "# temporary DAY 2fix for until i run every day at once\n",
    "if vote_results[number][0]:\n",
    "    vote_results[number] = [None, None, vote_results[number][0]]\n",
    "    transition_results[number] = [None, None, transition_results[number][0]]\n",
    "\n",
    "correct = lynched[day] if day in lynched else None\n",
    "start_point = 0 if day == 1 else int(game_transitions[day-2])\n",
    "if not int(postnumber):\n",
    "    postnumber = game_transitions[day-1]\n",
    "    \n",
    "html('# {}'.format(number))\n",
    "print(games[game_index])\n",
    "print()\n",
    "print('Vote Choice:', vote_results[number][day-1].choice)\n",
    "print('Vote Correct:', vote_results[number][day-1].meta['correct'])\n",
    "\n",
    "# relevant information and votecounter generation\n",
    "relevant_slots = [slot for slot_index, slot in enumerate(slots) if fates[slot_index] >= day]\n",
    "relevant_players = []\n",
    "for slot in relevant_slots:\n",
    "    relevant_players += slot\n",
    "votecount = VoteCount(relevant_slots, meta={'correct': correct})\n",
    "votecounter = VoteCounter.VoteExtracter(players=relevant_players)\n",
    "\n",
    "# collect gameposts associated with game number\n",
    "with open('../data/posts/{}.jsonl'.format(number)) as f:\n",
    "    gameposts = [json.loads(l) for l in f]\n",
    "    \n",
    "# find and display selected post along with votecounter output for it\n",
    "html('# Post {}'.format(postnumber))\n",
    "post = next(item for item in gameposts if item[\"number\"] == postnumber)\n",
    "print('Extracted Votes:', list(votecounter.fromPost(post)))\n",
    "print()\n",
    "print(post)\n",
    "print()\n",
    "display(HTML(post['content']))\n",
    "    \n",
    "# display extracted and true phase transitions\n",
    "html('# Phase Transitions')\n",
    "print('True Transitions:', game_transitions)\n",
    "print(transition_results[number][day-1])\n",
    "html('[{}]({})'.format(*transition_results[number][day-1]))\n",
    "transition_start, transition_end, transition_match, final_vote = None, None, False, None\n",
    "for post in gameposts[start_point:int(postnumber)]:\n",
    "\n",
    "    # consider no more votes if voters have made a choice already\n",
    "    if not votecount.choice:\n",
    "\n",
    "        # ignore posts not made by players\n",
    "        if relevant_players.count(post['user']) == 0:\n",
    "            continue\n",
    "\n",
    "        # update votecount for each vote found by votecounter\n",
    "        # stop considering votes in post if votecount.choice\n",
    "        for voted in votecounter.fromPost(post):\n",
    "            votecount.update(post['user'], voted, post['number'])\n",
    "            if votecount.choice:\n",
    "                print('Final Vote Post#', post['number'])\n",
    "                break\n",
    "\n",
    "    # keep scanning to find newest post by game mod after detectedhammer\n",
    "    elif not transition_start:\n",
    "        if moderators.count(post['user']) > 0:\n",
    "            transition_start = int(post['number'])\n",
    "            print('Transition Start:', transition_start)\n",
    "\n",
    "    # keep scanning to find last successive post by mod after they end Day\n",
    "    elif not transition_end:\n",
    "        if moderators.count(post['user']) == 0:\n",
    "            transition_end = int(post['number'])\n",
    "            print('Transition End:', transition_start)\n",
    "\n",
    "            # track match between inferred and transcribed transition post#\n",
    "            transition_match = int(game_transitions[0]) in list(range(transition_start, transition_end))\n",
    "            print('Transition Match:', transition_match)\n",
    "\n",
    "    # finish if votecount.choice, transition_start, and transition_end all populated\n",
    "    else:\n",
    "        break\n",
    "        \n",
    "# display votecount up to indicated post number\n",
    "html('# Current Votecount (Up to {})'.format(postnumber))\n",
    "current_votecount = votecount.todict()\n",
    "for each in current_votecount:\n",
    "    if current_votecount[each]:\n",
    "        print(each, '-', len(current_votecount[each]))\n",
    "        for voter in current_votecount[each]:\n",
    "            print(voter)\n",
    "        print()\n",
    "\n",
    "# display final votecount\n",
    "html('# Final Votecount')\n",
    "final_votecount = vote_results[number][day-1].todict()\n",
    "for each in final_votecount:\n",
    "    if final_votecount[each]:\n",
    "        print(each, '-', len(final_votecount[each]))\n",
    "        for voter in final_votecount[each]:\n",
    "            print(voter)\n",
    "        print()\n",
    "        \n",
    "# display final votelog\n",
    "html('# Vote Log')\n",
    "votelog = vote_results[number][day-1].votelog.copy()\n",
    "for index, each in enumerate(votelog):\n",
    "    each = each.split()\n",
    "    each[-1] = '[{}]({})'.format(each[-1], next(item for item in gameposts if item[\"number\"] == each[-1])['pagelink'])\n",
    "    votelog[index] = ' '.join(each)\n",
    "html('  \\n'.join(reversed(votelog)))"
   ]
  },
  {
   "cell_type": "code",
   "execution_count": 43,
   "metadata": {},
   "outputs": [
    {
     "data": {
      "text/html": [
       "<span style=\"color:darkred; font-size:smaller\" title=\"This text is being given out-of-character.\">JKLM and Marquis have been prodded.</span>"
      ],
      "text/plain": [
       "<IPython.core.display.HTML object>"
      ]
     },
     "metadata": {},
     "output_type": "display_data"
    }
   ],
   "source": [
    "\n",
    "display(HTML(gameposts[1089]['content']))"
   ]
  }
 ],
 "metadata": {
  "kernelspec": {
   "display_name": "Python 3",
   "language": "python",
   "name": "python3"
  },
  "language_info": {
   "codemirror_mode": {
    "name": "ipython",
    "version": 3
   },
   "file_extension": ".py",
   "mimetype": "text/x-python",
   "name": "python",
   "nbconvert_exporter": "python",
   "pygments_lexer": "ipython3",
   "version": "3.7.4-final"
  },
  "pycharm": {
   "stem_cell": {
    "cell_type": "raw",
    "metadata": {
     "collapsed": false
    },
    "source": []
   }
  }
 },
 "nbformat": 4,
 "nbformat_minor": 4
}