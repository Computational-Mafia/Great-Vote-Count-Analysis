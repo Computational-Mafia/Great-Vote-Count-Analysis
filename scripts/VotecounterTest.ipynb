{
 "cells": [
  {
   "cell_type": "markdown",
   "metadata": {},
   "source": [
    "# VotecounterTest\n",
    "A script for setting up and executing performance tests on votecounters."
   ]
  },
  {
   "cell_type": "markdown",
   "metadata": {},
   "source": [
    "## Dependencies"
   ]
  },
  {
   "cell_type": "code",
   "execution_count": 1,
   "metadata": {},
   "outputs": [],
   "source": [
    "import json\n",
    "import time\n",
    "from VoteCount import VoteCount\n",
    "import VoteCounter\n",
    "from tqdm import tqdm\n",
    "import string\n",
    "\n",
    "# to help generate formatted output rnepresentations\n",
    "from IPython.core.display import display, HTML\n",
    "import markdown2 as md\n",
    "\n",
    "def html(markdown_string):\n",
    "    display(HTML(md.markdown(markdown_string)))\n",
    "    \n",
    "# for simplifying text to just numbers\n",
    "no_punctuation = str.maketrans(string.punctuation+string.ascii_letters, ' '*len(string.punctuation+string.ascii_letters))\n",
    "    \n",
    "# identify game archive and votecounter of interest\n",
    "archive = '../data/archive.txt'\n",
    "votecounter = VoteCounter"
   ]
  },
  {
   "cell_type": "markdown",
   "metadata": {},
   "source": [
    "## Helper Function(s)"
   ]
  },
  {
   "cell_type": "code",
   "execution_count": 2,
   "metadata": {},
   "outputs": [],
   "source": [
    "def _relevantGameInfo(game):\n",
    "    \n",
    "    # link\n",
    "    link = game[:game.find('\\n')]\n",
    "    \n",
    "    # thread number\n",
    "    number = (link[link.find('&t=')+3:] if link.count('&')==1 \n",
    "                      else link[link.find('&t=')+3:link.rfind('&')])\n",
    "\n",
    "    # special events\n",
    "    events, notes = {}, game[:game.find('\\n\\n')].split('\\n')[-1][len(\"Notes: \"):]\n",
    "    for note in notes.split('; '):\n",
    "        note = note.replace(' in post ', ' on post ')\n",
    "        if ' on post ' in note:\n",
    "            postnumber = note.split(' on post ')[1]\n",
    "            postnumber = postnumber[:postnumber.find(' but')] if 'but' in postnumber else postnumber\n",
    "            if postnumber in events:\n",
    "                events[postnumber].append(note.split(' on post ')[0])\n",
    "            else:\n",
    "                events[postnumber] = [note.split(' on post ')[0]]\n",
    "    \n",
    "    # game title and number\n",
    "    title = game.split('\\n')[1]\n",
    "    title_number = [i for i in title.translate(no_punctuation).split() if i.isdigit()][0]\n",
    "    \n",
    "    # moderator(s)\n",
    "    moderators = game.split('\\n')[2][len('Moderator: '):].split(', ')\n",
    "    \n",
    "    # living slots/players for each Day\n",
    "    slots, players, fates, lynched = [], [], [], {}\n",
    "    for line in game[game.find('\\nPlayers\\n')+9:].split('\\n'):\n",
    "        line = line.split(', ')\n",
    "        \n",
    "        # build list of players and slots\n",
    "        players += line[0].split(' replaced ')\n",
    "        slots.append(line[0].split(' replaced ')) \n",
    "        \n",
    "        # extract last phase slot's vote helped decide Day\n",
    "        # it's the phase they died, minus one if they were day-killed (not lynched)\n",
    "        if 'survived' in line[-1].lower() or 'endgamed' in line[-1].lower():\n",
    "            fates.append(float('inf'))\n",
    "        else:\n",
    "            phase = int(line[-1][line[-1].rfind(' ')+1:])\n",
    "            #fate_modifier = 'killed day' in line[-1][:line[-1].rfind(' ')].lower() \n",
    "            fates.append(max(0, phase))\n",
    "        \n",
    "        # sort any detected lynches into `lynched` array\n",
    "        if 'lynched' in line[-1].lower():\n",
    "            lynched[phase] = slots[-1]\n",
    "\n",
    "    return slots, players, fates, lynched, number, transitions[title_number], moderators, events"
   ]
  },
  {
   "cell_type": "markdown",
   "metadata": {},
   "source": [
    "## VotecounterTest"
   ]
  },
  {
   "cell_type": "code",
   "execution_count": 18,
   "metadata": {},
   "outputs": [
    {
     "name": "stdout",
     "output_type": "stream",
     "text": [
      "1\n",
      "https://forum.mafiascum.net/viewtopic.php?f=53&t=60920\n",
      "Mini 1651: One Flew Over The Monkey's Nest\n",
      "Moderator: MonkeyMan576\n",
      "Current Update: Mafia Win\n",
      "Notes: D1; D1 no majority; oddmusic killed on post 501; Taly killed on post 864\n",
      "\n",
      "Players\n",
      "Boonskiies replaced Aeronaut, Vanilla Townie, endgamed day 3\n",
      "Bellaphant replaced InsidiousLemons, Vanilla Townie, lynched day 3\n",
      "eektor, Vanilla Townie, endgamed day 3\n",
      "TheDudeAbides, Mafia Goon, survived\n",
      "Elyse, Mafia Godfather, survived\n",
      "toolenduso, Mafia Goon, survived\n",
      "Metalcyanide, Vanilla Townie, endgamed day 3\n",
      "Aquanim, Vanilla Townie, endgamed day 3\n",
      "oddmusic, Vanilla Townie, killed day 1\n",
      "RadiantCowbells, Town Cop, killed night 1\n",
      "mykonian, Vanilla Townie, lynched day 2\n",
      "pisskop, Town One-Shot Day Vigilante, killed night 2\n",
      "Taly, Town Roleblocker, modkilled day 1\n",
      "177 60920 1 0 1 True False 0.9314992427825928\n",
      "\n",
      "---\n",
      "\n",
      "1\n",
      "https://forum.mafiascum.net/viewtopic.php?f=53&t=65286\n",
      "Mini 1762\n",
      "Moderator: TheCow, Metrion\n",
      "Current Update: Town Win\n",
      "Notes: D1 no majority\n",
      "\n",
      "Players\n",
      "Golden Robster replaced TaishoGal replaced ShortcutButton, Mafia Goon, lynched day 3\n",
      "Killthestory, Town 3shot Jailkeeper, killed night 1\n",
      "RadiantCowbells, Town Gunsmith, killed night 3\n",
      "Titus replaced Virtue replaced GuyInFreezer replaced ink, Vanilla Townie, survived\n",
      "Raskolnikov, Vanilla Townie, survived\n",
      "Dierfire replaced BlueBloodedToffee, Vanilla Townie, killed night 1\n",
      "beeboy replaced tojam2, Vanilla Townie, lynched day 2\n",
      "MagnaofIllusion replaced Rubixxx, Vanilla Townie, survived\n",
      "Syndesis, Mafia Goon, lynched day 5\n",
      "kirroha, Vanilla Townie, lynched day 4\n",
      "implosion, Mafia Traitor, endgamed day 5\n",
      "I Am Innocent, Vanilla Townie, killed night 2\n",
      "Dwlee99 replaced NinoMasaki, 1shot Vigilante, killed night 4\n",
      "226 65286 2 0 2 True False 0.4145028591156006\n",
      "\n",
      "---\n",
      "\n",
      "1\n",
      "https://forum.mafiascum.net/viewtopic.php?f=53&t=65851\n",
      "Mini 1779 - Werewolves of Wildwood Grove\n",
      "Moderator: SnarkySnowman\n",
      "Current Update: Town Win\n",
      "Notes: D1 No Majority\n",
      "\n",
      "Players\n",
      "I Am Innocent, Town Citizen, survived\n",
      "emogirl123, Town Citizen, survived\n",
      "Edward Elric, Town Citizen, survived\n",
      "Dierfire, Town Seer, survived\n",
      "kelbris replaced Golden Robster replaced golden009, Town Citizen, survived\n",
      "Masquerade, Werewolf Goon, lynched Day 1\n",
      "PantherPunt replaced choof, Town Jailkeeper, killed Night 1\n",
      "yessiree, Town Citizen, killed Night 1\n",
      "UpTooLate, Werewolf Jack-of-all-Trades, killed Night 1\n",
      "Rhaegar, Town Miller, lynched Day 2\n",
      "RadiantCowbells, Town 1-shot Vigilante, killed Night 2\n",
      "Killthestory, Serial Killer 1-shot Bulletproof, lynched Day 3\n",
      "232 65851 3 0 3 True False 0.400479793548584\n",
      "\n",
      "---\n",
      "\n",
      "1\n",
      "https://forum.mafiascum.net/viewtopic.php?f=53&t=68519\n",
      "Mini 1836: Space Mafia\n",
      "Moderator: Something_Smart, Aristophanes\n",
      "Current Update: Town Win\n",
      "Notes: D1 no majority; D2 no majority\n",
      "\n",
      "Players\n",
      "Toto, Vanilla Townie, survived\n",
      "PantherPunt replaced A Simple Plan, Vanilla Townie, killed night 4\n",
      "TwoFace, Town 1-shot Bulletproof Archaeologist, survived\n",
      "itlepip, Town Tracker, killed night 1\n",
      "Naomi-Tan, Town Bodyguard, killed night 2\n",
      "grapes, Town 2-shot Vigilante, killed night 5\n",
      "MariaR, Vanilla Townie, killed night 1\n",
      "Xkfyu, Vanilla Townie, lynched day 5\n",
      "massive, Vanilla Townie, lynched day 4\n",
      "gerryoat, Town Weak Bodyguard, killed night 2\n",
      "Dunnstral, Mafia Jailkeeper, killed night 2\n",
      "Nosferatu, Mafia Goon, lynched day 3\n",
      "Zachstralkita, Mafia Goon, lynched day 6\n",
      "254 68519 4 0 4 True False 0.5519812107086182\n",
      "\n",
      "---\n",
      "\n",
      "1.0 0.0 4 3.2775087356567383\n"
     ]
    }
   ],
   "source": [
    "#parameters\n",
    "start_index = 0\n",
    "end_index = 0\n",
    "\n",
    "# open game archive, separate by game\n",
    "with open(archive, encoding='utf-8') as f:\n",
    "    games = f.read().split('\\n\\n\\n')  \n",
    "\n",
    "# open transitions archive, convert into dictionary of lists\n",
    "with open('../data/transitions.tsv') as f:\n",
    "    transitions = f.read()\n",
    "transitions = transitions.split('\\n')[3:]\n",
    "transitions = {line.split('\\t')[0]:line.strip().split('\\t')[1:] for line in transitions if len(line.strip().split('\\t')[1:]) > 0}\n",
    "\n",
    "# process votes in each game's posts until a lynch found\n",
    "# then store information about votecounter's performance\n",
    "vote_results, vote_success, transition_results, transition_success, t0, total = {}, 0, {}, 0, time.time(), 0\n",
    "end_index = end_index if end_index else len(games)  \n",
    "for game_index, game in enumerate(games[start_index:end_index]):\n",
    "    \n",
    "    # temporarily only consider games where... (MODIFIABLE)\n",
    "    if 'd1 no majority' not in game.lower():\n",
    "        continue\n",
    "    \n",
    "    # extract relevant information about this game\n",
    "    slots, players, fates, lynched, number, game_transitions, moderators, events = _relevantGameInfo(game)\n",
    "    with open('../data/posts/{}.jsonl'.format(number)) as f:\n",
    "        gameposts =  [json.loads(l) for l in f]\n",
    "        \n",
    "    # prepare to collect data for this game\n",
    "    transition_results[number] = []\n",
    "    vote_results[number] = []\n",
    "    \n",
    "    #for day in range(1, len(game_transitions)):\n",
    "    for day in [1]:\n",
    "        \n",
    "        # we'll remove this later; don't scan games that don't have this many games\n",
    "        if len(game_transitions) < day+1:\n",
    "            continue\n",
    "    \n",
    "        # identify day-specific information and set up voteextractor and votecount for them\n",
    "        if f'd{day} no majority' in game[:game.find('\\n\\n')].split('\\n')[-1][len(\"Notes: \"):].lower():\n",
    "            correct = None\n",
    "        else:\n",
    "            correct = lynched[day] if day in lynched else None\n",
    "        start_point = 0 if day == 1 else int(game_transitions[day-2])\n",
    "        end_point = int(game_transitions[day-1])\n",
    "        relevant_slots = [slot for slot_index, slot in enumerate(slots) if fates[slot_index] >= day]\n",
    "        relevant_players = []\n",
    "        for slot in relevant_slots:\n",
    "            relevant_players += slot\n",
    "        votecount = VoteCount(relevant_slots, meta={'correct': correct})\n",
    "        votecounter = VoteCounter.VoteExtracter(players=relevant_players)\n",
    "\n",
    "        tphase, transition_start, transition_end, transition_match, transition_url = time.time(), None, None, False, None\n",
    "        for post in gameposts[start_point:end_point+1]:\n",
    "            \n",
    "            # prioritize any events associated with post\n",
    "            if post['number'] in events:\n",
    "                post_events = events[post['number']]\n",
    "                for event in post_events:\n",
    "\n",
    "                    # if event is a daykill, remove the player from votecount and voteextractor\n",
    "                    if 'killed' == event.split(' ')[1]:\n",
    "                        \n",
    "                        # update relevant slots and players and make new votecounter\n",
    "                        killed_player = event.split(' ')[0]\n",
    "                        killed_slot = next(s for s in relevant_slots if s.count(killed_player) > 0)\n",
    "                        del relevant_slots[relevant_slots.index(killed_slot)]\n",
    "                        relevant_players = []\n",
    "                        for slot in relevant_slots:\n",
    "                            relevant_players += slot\n",
    "                        votecounter = VoteCounter.VoteExtracter(players=relevant_players)\n",
    "                        votecount.killplayer(killed_player, post['number'])\n",
    "                        \n",
    "                    # if event is a vote reset, set relevant player(s) to not voting\n",
    "                    elif 'reset' == event.split(' ')[1]:\n",
    "                        reset_players = ([s[0] for s in relevant_slots] \n",
    "                                        if event.split(' ')[0].lower() == 'votecount'\n",
    "                                         else [event.split(' ')[0]])\n",
    "                        for reset_player in reset_players:\n",
    "                            votecount.update(reset_player, 'UNVOTE', post['number'])\n",
    "                            \n",
    "                    # if event is a vote specification, set relevant player(s) to vote\n",
    "                    elif ' voted ' in event:\n",
    "                        votecount.update(event.split(' voted ')[0], event.split(' voted ')[1], post['number'])\n",
    "\n",
    "            # consider no more votes if voters have made a choice already\n",
    "            elif not votecount.choice:\n",
    "\n",
    "                # ignore posts not made by players\n",
    "                if relevant_players.count(post['user']) == 0:\n",
    "                    continue\n",
    "\n",
    "                # update votecount for each vote found by votecounter\n",
    "                # stop considering votes in post if votecount.choice\n",
    "                for voted in votecounter.fromPost(post):\n",
    "                    votecount.update(post['user'], voted, post['number'])\n",
    "                    if votecount.choice:\n",
    "                        break\n",
    "\n",
    "            # keep scanning to find newest post by game mod after detectedhammer\n",
    "            elif not transition_start:\n",
    "                if moderators.count(post['user']) > 0:\n",
    "                    transition_start = int(post['number'])\n",
    "                    transition_url = post['pagelink']\n",
    "\n",
    "            # keep scanning to find last successive post by mod after they end Day\n",
    "            elif not transition_end:\n",
    "                if moderators.count(post['user']) == 0:\n",
    "                    transition_end = int(post['number'])\n",
    "\n",
    "                    # track match between inferred and transcribed transition post#\n",
    "                    transition_match = int(game_transitions[day-1]) in list(range(transition_start, transition_end))\n",
    "\n",
    "            # finish if votecount.choice, transition_start, and transition_end all populated\n",
    "            else:\n",
    "                break\n",
    "\n",
    "        vote_success += votecount.choice == correct\n",
    "        transition_success += transition_match\n",
    "        transition_results[number].append([list(range(transition_start, transition_end)), transition_url] if transition_start and transition_end else \"None\")\n",
    "        vote_results[number].append(votecount)\n",
    "        total += 1\n",
    "        #if not (votecount.choice == correct and transition_match):\n",
    "        print(day)\n",
    "        print(game)\n",
    "        #print(game.split('\\n\\n')[0])\n",
    "        print(f'{game_index + start_index} {number} {vote_success} {transition_success} {total} {votecount.choice == correct} {transition_match} {time.time()-tphase}')\n",
    "        print('\\n---\\n')\n",
    "\n",
    "print(f'{vote_success/total} {transition_success/total} {total} {time.time()-t0}')"
   ]
  },
  {
   "cell_type": "code",
   "execution_count": 5,
   "metadata": {
    "collapsed": true,
    "jupyter": {
     "outputs_hidden": true
    }
   },
   "outputs": [
    {
     "name": "stdout",
     "output_type": "stream",
     "text": [
      "217\n",
      "https://forum.mafiascum.net/viewtopic.php?f=53&t=64070\n",
      "Mini 1735: Radjarok 2\n",
      "Moderator: Radja\n",
      "Current Update: Mafia Win\n",
      "Notes: D1; pisskop voted Blockyman in post 129 but my votecounter detects \"vote rikky6\" as a vote for pisskop; toolfail\n",
      "\n",
      "Players\n",
      "BlockyMan, Mafia Rolecop, lynched day 1\n",
      "KarmicGuide, Town Roleblocker, lynched day 3\n",
      "RadiantCowbells, Vanilla Townie, endgamed day 5\n",
      "Klingoncelt, Vanilla Townie, killed night 1\n",
      "pignash, Mafia Goon, survived\n",
      "Dierfire replaced Smudger, Vanilla Townie, killed night 4\n",
      "Ricastle, Town One-Shot Gunsmith, lynched day 4\n",
      "Frozen Angel, Vanilla Townie, killed night 2\n",
      "EspeciallyTheLies replaced ceasor, Town Tracker, killed night 3\n",
      "TheCow, Vanilla Townie, lynched day 2\n",
      "pisskop, Vanilla Townie, lynched day 5\n"
     ]
    }
   ],
   "source": [
    "print(game_index+start_index)\n",
    "print(game)"
   ]
  },
  {
   "cell_type": "markdown",
   "metadata": {},
   "source": [
    "## Analyze Results\n",
    "Will have to revise this to adapt to new variable names/codeflow."
   ]
  },
  {
   "cell_type": "code",
   "execution_count": 16,
   "metadata": {},
   "outputs": [
    {
     "name": "stdout",
     "output_type": "stream",
     "text": [
      "{}\n"
     ]
    },
    {
     "data": {
      "text/html": [
       "<h1>65851</h1>\n"
      ],
      "text/plain": [
       "<IPython.core.display.HTML object>"
      ]
     },
     "metadata": {},
     "output_type": "display_data"
    },
    {
     "name": "stdout",
     "output_type": "stream",
     "text": [
      "https://forum.mafiascum.net/viewtopic.php?f=53&t=65851\n",
      "Mini 1779 - Werewolves of Wildwood Grove\n",
      "Moderator: SnarkySnowman\n",
      "Current Update: Town Win\n",
      "Notes: D1 No Majority\n",
      "\n",
      "Players\n",
      "I Am Innocent, Town Citizen, survived\n",
      "emogirl123, Town Citizen, survived\n",
      "Edward Elric, Town Citizen, survived\n",
      "Dierfire, Town Seer, survived\n",
      "kelbris replaced Golden Robster replaced golden009, Town Citizen, survived\n",
      "Masquerade, Werewolf Goon, lynched Day 1\n",
      "PantherPunt replaced choof, Town Jailkeeper, killed Night 1\n",
      "yessiree, Town Citizen, killed Night 1\n",
      "UpTooLate, Werewolf Jack-of-all-Trades, killed Night 1\n",
      "Rhaegar, Town Miller, lynched Day 2\n",
      "RadiantCowbells, Town 1-shot Vigilante, killed Night 2\n",
      "Killthestory, Serial Killer 1-shot Bulletproof, lynched Day 3\n",
      "\n",
      "Vote Choice: None\n",
      "Vote Correct: ['Masquerade']\n"
     ]
    },
    {
     "data": {
      "text/html": [
       "<h1>Post 987</h1>\n"
      ],
      "text/plain": [
       "<IPython.core.display.HTML object>"
      ]
     },
     "metadata": {},
     "output_type": "display_data"
    },
    {
     "name": "stdout",
     "output_type": "stream",
     "text": [
      "Extracted Votes: []\n",
      "\n",
      "{'forum': '53', 'thread': '65851', 'pagelink': 'https://forum.mafiascum.net/viewtopic.php?f=53&t=65851&start=975', 'number': '987', 'timestamp': 'Fri Apr 08, 2016 10:00 pm', 'user': 'SnarkySnowman', 'content': '<span style=\"color: #0080FF\"><span class=\"nocolorsig\"><span class=\"noboldsig\">My fellows, it is now the night of the full moon.  As chancellor, I have tallied the votes, and because the moon is upon us, we must come to a decision.</span><br><br><span style=\"font-style: italic\">The sun set through the trees, and the full moon began to rise.  The town gathered in the center of the grove, and by torchlight, looked solemnly upon their friend Masquerade.  Masquerade backed up a few steps, and bumped into Killthestory, who grabbed them by the shoulders, pushing them into the crowd.  As the noose went around Masquerade\\'s neck, some obscured faces looked away.  In the torchlight, Masquerade writhed and became still, their eyes fading.  As the moon began to rise, their skin became furred, and it was apparent.</span></span></span><br><br><span class=\"noboldsig\">Masquerade</span>, a <span class=\"noboldsig\"><span style=\"color: purple\"><span class=\"nocolorsig\">Werewolf</span></span></span>, was lynched Day 1.<br><br><span style=\"color: #0080FF\"><span class=\"nocolorsig\"><span class=\"noboldsig\">Alright everyone, back to your dwellings, for the night of the full moon is upon us!  Keep safe, and I shall hope to see you all alive and well in the morning, when we reconvene.</span><br><br>It is now Night 1.  Please send all actions in by Sunday, April 10th at 11pm EST.</span></span>'}\n",
      "\n"
     ]
    },
    {
     "data": {
      "text/html": [
       "<span style=\"color: #0080FF\"><span class=\"nocolorsig\"><span class=\"noboldsig\">My fellows, it is now the night of the full moon.  As chancellor, I have tallied the votes, and because the moon is upon us, we must come to a decision.</span><br><br><span style=\"font-style: italic\">The sun set through the trees, and the full moon began to rise.  The town gathered in the center of the grove, and by torchlight, looked solemnly upon their friend Masquerade.  Masquerade backed up a few steps, and bumped into Killthestory, who grabbed them by the shoulders, pushing them into the crowd.  As the noose went around Masquerade's neck, some obscured faces looked away.  In the torchlight, Masquerade writhed and became still, their eyes fading.  As the moon began to rise, their skin became furred, and it was apparent.</span></span></span><br><br><span class=\"noboldsig\">Masquerade</span>, a <span class=\"noboldsig\"><span style=\"color: purple\"><span class=\"nocolorsig\">Werewolf</span></span></span>, was lynched Day 1.<br><br><span style=\"color: #0080FF\"><span class=\"nocolorsig\"><span class=\"noboldsig\">Alright everyone, back to your dwellings, for the night of the full moon is upon us!  Keep safe, and I shall hope to see you all alive and well in the morning, when we reconvene.</span><br><br>It is now Night 1.  Please send all actions in by Sunday, April 10th at 11pm EST.</span></span>"
      ],
      "text/plain": [
       "<IPython.core.display.HTML object>"
      ]
     },
     "metadata": {},
     "output_type": "display_data"
    },
    {
     "data": {
      "text/html": [
       "<h1>Phase Transitions</h1>\n"
      ],
      "text/plain": [
       "<IPython.core.display.HTML object>"
      ]
     },
     "metadata": {},
     "output_type": "display_data"
    },
    {
     "name": "stdout",
     "output_type": "stream",
     "text": [
      "True Transitions: ['987', '1086', '1149', '-']\n",
      "None\n"
     ]
    },
    {
     "data": {
      "text/html": [
       "<p><a href=\"o\">N</a></p>\n"
      ],
      "text/plain": [
       "<IPython.core.display.HTML object>"
      ]
     },
     "metadata": {},
     "output_type": "display_data"
    },
    {
     "data": {
      "text/html": [
       "<h1>Current Votecount (Up to 987)</h1>\n"
      ],
      "text/plain": [
       "<IPython.core.display.HTML object>"
      ]
     },
     "metadata": {},
     "output_type": "display_data"
    },
    {
     "name": "stdout",
     "output_type": "stream",
     "text": [
      "['I Am Innocent'] - 1\n",
      "['kelbris', 'Golden Robster', 'golden009']\n",
      "\n",
      "['Masquerade'] - 6\n",
      "['Edward Elric']\n",
      "['I Am Innocent']\n",
      "['RadiantCowbells']\n",
      "['PantherPunt', 'choof']\n",
      "['UpTooLate']\n",
      "['Killthestory']\n",
      "\n",
      "['PantherPunt', 'choof'] - 3\n",
      "['emogirl123']\n",
      "['Masquerade']\n",
      "['Rhaegar']\n",
      "\n",
      "['Killthestory'] - 2\n",
      "['Dierfire']\n",
      "['yessiree']\n",
      "\n"
     ]
    },
    {
     "data": {
      "text/html": [
       "<h1>Final Votecount</h1>\n"
      ],
      "text/plain": [
       "<IPython.core.display.HTML object>"
      ]
     },
     "metadata": {},
     "output_type": "display_data"
    },
    {
     "name": "stdout",
     "output_type": "stream",
     "text": [
      "['I Am Innocent'] - 1\n",
      "['kelbris', 'Golden Robster', 'golden009']\n",
      "\n",
      "['Masquerade'] - 6\n",
      "['Edward Elric']\n",
      "['I Am Innocent']\n",
      "['RadiantCowbells']\n",
      "['PantherPunt', 'choof']\n",
      "['UpTooLate']\n",
      "['Killthestory']\n",
      "\n",
      "['PantherPunt', 'choof'] - 3\n",
      "['emogirl123']\n",
      "['Masquerade']\n",
      "['Rhaegar']\n",
      "\n",
      "['Killthestory'] - 2\n",
      "['Dierfire']\n",
      "['yessiree']\n",
      "\n"
     ]
    },
    {
     "data": {
      "text/html": [
       "<h1>Vote Log</h1>\n"
      ],
      "text/plain": [
       "<IPython.core.display.HTML object>"
      ]
     },
     "metadata": {},
     "output_type": "display_data"
    },
    {
     "data": {
      "text/html": [
       "<p>Killthestory voted Masquerade in post <a href=\"https://forum.mafiascum.net/viewtopic.php?f=53&amp;t=65851&amp;start=975\">985</a> <br />\n",
       "UpTooLate voted Masquerade in post <a href=\"https://forum.mafiascum.net/viewtopic.php?f=53&amp;t=65851&amp;start=975\">984</a> <br />\n",
       "PantherPunt voted Masquerade in post <a href=\"https://forum.mafiascum.net/viewtopic.php?f=53&amp;t=65851&amp;start=975\">983</a> <br />\n",
       "yessiree voted Killthestory in post <a href=\"https://forum.mafiascum.net/viewtopic.php?f=53&amp;t=65851&amp;start=950\">967</a> <br />\n",
       "PantherPunt voted Killthestory in post <a href=\"https://forum.mafiascum.net/viewtopic.php?f=53&amp;t=65851&amp;start=925\">945</a> <br />\n",
       "Dierfire voted Killthestory in post <a href=\"https://forum.mafiascum.net/viewtopic.php?f=53&amp;t=65851&amp;start=925\">943</a> <br />\n",
       "Dierfire voted UNVOTE in post <a href=\"https://forum.mafiascum.net/viewtopic.php?f=53&amp;t=65851&amp;start=925\">943</a> <br />\n",
       "Dierfire voted Masquerade in post <a href=\"https://forum.mafiascum.net/viewtopic.php?f=53&amp;t=65851&amp;start=875\">882</a> <br />\n",
       "Dierfire voted UNVOTE in post <a href=\"https://forum.mafiascum.net/viewtopic.php?f=53&amp;t=65851&amp;start=875\">882</a> <br />\n",
       "PantherPunt voted Masquerade in post <a href=\"https://forum.mafiascum.net/viewtopic.php?f=53&amp;t=65851&amp;start=850\">870</a> <br />\n",
       "RadiantCowbells voted Masquerade in post <a href=\"https://forum.mafiascum.net/viewtopic.php?f=53&amp;t=65851&amp;start=850\">859</a> <br />\n",
       "PantherPunt voted Killthestory in post <a href=\"https://forum.mafiascum.net/viewtopic.php?f=53&amp;t=65851&amp;start=825\">831</a> <br />\n",
       "Killthestory voted PantherPunt in post <a href=\"https://forum.mafiascum.net/viewtopic.php?f=53&amp;t=65851&amp;start=775\">793</a> <br />\n",
       "Dierfire voted UpTooLate in post <a href=\"https://forum.mafiascum.net/viewtopic.php?f=53&amp;t=65851&amp;start=750\">765</a> <br />\n",
       "RadiantCowbells voted Dierfire in post <a href=\"https://forum.mafiascum.net/viewtopic.php?f=53&amp;t=65851&amp;start=750\">752</a> <br />\n",
       "Dierfire voted UNVOTE in post <a href=\"https://forum.mafiascum.net/viewtopic.php?f=53&amp;t=65851&amp;start=725\">748</a> <br />\n",
       "PantherPunt voted UpTooLate in post <a href=\"https://forum.mafiascum.net/viewtopic.php?f=53&amp;t=65851&amp;start=725\">726</a> <br />\n",
       "Rhaegar voted PantherPunt in post <a href=\"https://forum.mafiascum.net/viewtopic.php?f=53&amp;t=65851&amp;start=700\">706</a> <br />\n",
       "PantherPunt voted Masquerade in post <a href=\"https://forum.mafiascum.net/viewtopic.php?f=53&amp;t=65851&amp;start=675\">696</a> <br />\n",
       "Killthestory voted Masquerade in post <a href=\"https://forum.mafiascum.net/viewtopic.php?f=53&amp;t=65851&amp;start=650\">652</a> <br />\n",
       "RadiantCowbells voted Masquerade in post <a href=\"https://forum.mafiascum.net/viewtopic.php?f=53&amp;t=65851&amp;start=625\">647</a> <br />\n",
       "PantherPunt voted yessiree in post <a href=\"https://forum.mafiascum.net/viewtopic.php?f=53&amp;t=65851&amp;start=625\">644</a> <br />\n",
       "PantherPunt voted Golden Robster in post <a href=\"https://forum.mafiascum.net/viewtopic.php?f=53&amp;t=65851&amp;start=625\">643</a> <br />\n",
       "Golden Robster voted I Am Innocent in post <a href=\"https://forum.mafiascum.net/viewtopic.php?f=53&amp;t=65851&amp;start=625\">636</a> <br />\n",
       "I Am Innocent voted Masquerade in post <a href=\"https://forum.mafiascum.net/viewtopic.php?f=53&amp;t=65851&amp;start=625\">635</a> <br />\n",
       "I Am Innocent voted UNVOTE in post <a href=\"https://forum.mafiascum.net/viewtopic.php?f=53&amp;t=65851&amp;start=625\">635</a> <br />\n",
       "Edward Elric voted Masquerade in post <a href=\"https://forum.mafiascum.net/viewtopic.php?f=53&amp;t=65851&amp;start=625\">629</a> <br />\n",
       "Killthestory voted RadiantCowbells in post <a href=\"https://forum.mafiascum.net/viewtopic.php?f=53&amp;t=65851&amp;start=600\">616</a> <br />\n",
       "RadiantCowbells voted Edward Elric in post <a href=\"https://forum.mafiascum.net/viewtopic.php?f=53&amp;t=65851&amp;start=600\">604</a> <br />\n",
       "UpTooLate voted Edward Elric in post <a href=\"https://forum.mafiascum.net/viewtopic.php?f=53&amp;t=65851&amp;start=525\">540</a> <br />\n",
       "RadiantCowbells voted Masquerade in post <a href=\"https://forum.mafiascum.net/viewtopic.php?f=53&amp;t=65851&amp;start=525\">539</a> <br />\n",
       "Edward Elric voted Killthestory in post <a href=\"https://forum.mafiascum.net/viewtopic.php?f=53&amp;t=65851&amp;start=500\">510</a> <br />\n",
       "PantherPunt voted UNVOTE in post <a href=\"https://forum.mafiascum.net/viewtopic.php?f=53&amp;t=65851&amp;start=500\">506</a> <br />\n",
       "yessiree voted PantherPunt in post <a href=\"https://forum.mafiascum.net/viewtopic.php?f=53&amp;t=65851&amp;start=500\">500</a> <br />\n",
       "Edward Elric voted Golden Robster in post <a href=\"https://forum.mafiascum.net/viewtopic.php?f=53&amp;t=65851&amp;start=475\">496</a> <br />\n",
       "Killthestory voted Rhaegar in post <a href=\"https://forum.mafiascum.net/viewtopic.php?f=53&amp;t=65851&amp;start=475\">483</a> <br />\n",
       "Golden Robster voted I Am Innocent in post <a href=\"https://forum.mafiascum.net/viewtopic.php?f=53&amp;t=65851&amp;start=450\">468</a> <br />\n",
       "Masquerade voted PantherPunt in post <a href=\"https://forum.mafiascum.net/viewtopic.php?f=53&amp;t=65851&amp;start=450\">464</a> <br />\n",
       "RadiantCowbells voted Golden Robster in post <a href=\"https://forum.mafiascum.net/viewtopic.php?f=53&amp;t=65851&amp;start=425\">440</a> <br />\n",
       "Golden Robster voted Killthestory in post <a href=\"https://forum.mafiascum.net/viewtopic.php?f=53&amp;t=65851&amp;start=425\">437</a> <br />\n",
       "Golden Robster voted UpTooLate in post <a href=\"https://forum.mafiascum.net/viewtopic.php?f=53&amp;t=65851&amp;start=425\">435</a> <br />\n",
       "Killthestory voted RadiantCowbells in post <a href=\"https://forum.mafiascum.net/viewtopic.php?f=53&amp;t=65851&amp;start=375\">382</a> <br />\n",
       "Golden Robster voted Killthestory in post <a href=\"https://forum.mafiascum.net/viewtopic.php?f=53&amp;t=65851&amp;start=350\">373</a> <br />\n",
       "Golden Robster voted Dierfire in post <a href=\"https://forum.mafiascum.net/viewtopic.php?f=53&amp;t=65851&amp;start=350\">360</a> <br />\n",
       "yessiree voted Edward Elric in post <a href=\"https://forum.mafiascum.net/viewtopic.php?f=53&amp;t=65851&amp;start=325\">325</a> <br />\n",
       "Rhaegar voted Edward Elric in post <a href=\"https://forum.mafiascum.net/viewtopic.php?f=53&amp;t=65851&amp;start=300\">322</a> <br />\n",
       "Masquerade voted UNVOTE in post <a href=\"https://forum.mafiascum.net/viewtopic.php?f=53&amp;t=65851&amp;start=300\">310</a> <br />\n",
       "Edward Elric voted Masquerade in post <a href=\"https://forum.mafiascum.net/viewtopic.php?f=53&amp;t=65851&amp;start=300\">300</a> <br />\n",
       "emogirl123 voted choof in post <a href=\"https://forum.mafiascum.net/viewtopic.php?f=53&amp;t=65851&amp;start=275\">275</a> <br />\n",
       "I Am Innocent voted Golden Robster in post <a href=\"https://forum.mafiascum.net/viewtopic.php?f=53&amp;t=65851&amp;start=250\">251</a> <br />\n",
       "I Am Innocent voted UNVOTE in post <a href=\"https://forum.mafiascum.net/viewtopic.php?f=53&amp;t=65851&amp;start=250\">251</a> <br />\n",
       "emogirl123 voted emogirl123 in post <a href=\"https://forum.mafiascum.net/viewtopic.php?f=53&amp;t=65851&amp;start=225\">233</a> <br />\n",
       "RadiantCowbells voted Golden Robster in post <a href=\"https://forum.mafiascum.net/viewtopic.php?f=53&amp;t=65851&amp;start=175\">198</a> <br />\n",
       "emogirl123 voted RadiantCowbells in post <a href=\"https://forum.mafiascum.net/viewtopic.php?f=53&amp;t=65851&amp;start=175\">189</a> <br />\n",
       "Golden Robster voted RadiantCowbells in post <a href=\"https://forum.mafiascum.net/viewtopic.php?f=53&amp;t=65851&amp;start=175\">186</a> <br />\n",
       "Rhaegar voted RadiantCowbells in post <a href=\"https://forum.mafiascum.net/viewtopic.php?f=53&amp;t=65851&amp;start=175\">179</a> <br />\n",
       "Edward Elric voted yessiree in post <a href=\"https://forum.mafiascum.net/viewtopic.php?f=53&amp;t=65851&amp;start=150\">172</a> <br />\n",
       "choof voted RadiantCowbells in post <a href=\"https://forum.mafiascum.net/viewtopic.php?f=53&amp;t=65851&amp;start=150\">156</a> <br />\n",
       "yessiree voted Killthestory in post <a href=\"https://forum.mafiascum.net/viewtopic.php?f=53&amp;t=65851&amp;start=125\">141</a> <br />\n",
       "Killthestory voted yessiree in post <a href=\"https://forum.mafiascum.net/viewtopic.php?f=53&amp;t=65851&amp;start=125\">128</a> <br />\n",
       "UpTooLate voted emogirl123 in post <a href=\"https://forum.mafiascum.net/viewtopic.php?f=53&amp;t=65851&amp;start=100\">119</a> <br />\n",
       "Killthestory voted emogirl123 in post <a href=\"https://forum.mafiascum.net/viewtopic.php?f=53&amp;t=65851&amp;start=100\">110</a> <br />\n",
       "Killthestory voted Masquerade in post <a href=\"https://forum.mafiascum.net/viewtopic.php?f=53&amp;t=65851&amp;start=75\">84</a> <br />\n",
       "I Am Innocent voted Dierfire in post <a href=\"https://forum.mafiascum.net/viewtopic.php?f=53&amp;t=65851&amp;start=75\">80</a> <br />\n",
       "Rhaegar voted Edward Elric in post <a href=\"https://forum.mafiascum.net/viewtopic.php?f=53&amp;t=65851&amp;start=50\">55</a> <br />\n",
       "yessiree voted choof in post <a href=\"https://forum.mafiascum.net/viewtopic.php?f=53&amp;t=65851&amp;start=25\">47</a> <br />\n",
       "Dierfire voted Edward Elric in post <a href=\"https://forum.mafiascum.net/viewtopic.php?f=53&amp;t=65851&amp;start=25\">45</a> <br />\n",
       "Masquerade voted Killthestory in post <a href=\"https://forum.mafiascum.net/viewtopic.php?f=53&amp;t=65851&amp;start=25\">40</a> <br />\n",
       "Killthestory voted RadiantCowbells in post <a href=\"https://forum.mafiascum.net/viewtopic.php?f=53&amp;t=65851&amp;start=0\">20</a> <br />\n",
       "RadiantCowbells voted yessiree in post <a href=\"https://forum.mafiascum.net/viewtopic.php?f=53&amp;t=65851&amp;start=0\">19</a> <br />\n",
       "yessiree voted RadiantCowbells in post <a href=\"https://forum.mafiascum.net/viewtopic.php?f=53&amp;t=65851&amp;start=0\">18</a> <br />\n",
       "Killthestory voted Edward Elric in post <a href=\"https://forum.mafiascum.net/viewtopic.php?f=53&amp;t=65851&amp;start=0\">16</a> <br />\n",
       "emogirl123 voted Edward Elric in post <a href=\"https://forum.mafiascum.net/viewtopic.php?f=53&amp;t=65851&amp;start=0\">15</a> <br />\n",
       "Killthestory voted yessiree in post <a href=\"https://forum.mafiascum.net/viewtopic.php?f=53&amp;t=65851&amp;start=0\">5</a> <br />\n",
       "RadiantCowbells voted UpTooLate in post <a href=\"https://forum.mafiascum.net/viewtopic.php?f=53&amp;t=65851&amp;start=0\">4</a> <br />\n",
       "UpTooLate voted RadiantCowbells in post <a href=\"https://forum.mafiascum.net/viewtopic.php?f=53&amp;t=65851&amp;start=0\">3</a></p>\n"
      ],
      "text/plain": [
       "<IPython.core.display.HTML object>"
      ]
     },
     "metadata": {},
     "output_type": "display_data"
    }
   ],
   "source": [
    "# parameters\n",
    "game_index = 232\n",
    "postnumber = 0\n",
    "day = 1\n",
    "postnumber = str(postnumber)\n",
    "\n",
    "# open game archive, separate by game\n",
    "with open(archive, encoding='utf-8') as f:\n",
    "    games = f.read().split('\\n\\n\\n')  \n",
    "\n",
    "# generate votecounter w/ specified players\n",
    "game = games[game_index]\n",
    "slots, players, fates, lynched, number, game_transitions, moderators, events = _relevantGameInfo(game)\n",
    "print(events)\n",
    "\n",
    "# temporary DAY 2fix for until i run every day at once\n",
    "#if vote_results[number][0]:\n",
    "#    vote_results[number] = [None, None, vote_results[number][0]]\n",
    "#    transition_results[number] = [None, None, transition_results[number][0]]\n",
    "\n",
    "if f'd{day} no majority' in game[:game.find('\\n\\n')].split('\\n')[-1][len(\"Notes: \"):].lower():\n",
    "    correct = None\n",
    "else:\n",
    "    correct = lynched[day] if day in lynched else None\n",
    "start_point = 0 if day == 1 else int(game_transitions[day-2])\n",
    "end_point = int(game_transitions[day-1])\n",
    "if not int(postnumber):\n",
    "    postnumber = game_transitions[day-1]\n",
    "    \n",
    "html('# {}'.format(number))\n",
    "print(games[game_index])\n",
    "print()\n",
    "print('Vote Choice:', vote_results[number][day-1].choice)\n",
    "print('Vote Correct:', vote_results[number][day-1].meta['correct'])\n",
    "\n",
    "# relevant information and votecounter generation\n",
    "relevant_slots = [slot for slot_index, slot in enumerate(slots) if fates[slot_index] >= day]\n",
    "relevant_players = []\n",
    "for slot in relevant_slots:\n",
    "    relevant_players += slot\n",
    "votecount = VoteCount(relevant_slots, meta={'correct': correct})\n",
    "votecounter = VoteCounter.VoteExtracter(players=relevant_players)\n",
    "\n",
    "# collect gameposts associated with game number\n",
    "with open('../data/posts/{}.jsonl'.format(number)) as f:\n",
    "    gameposts = [json.loads(l) for l in f]\n",
    "    \n",
    "# find and display selected post along with votecounter output for it\n",
    "html('# Post {}'.format(postnumber))\n",
    "post = next(item for item in gameposts if item[\"number\"] == postnumber)\n",
    "print('Extracted Votes:', list(votecounter.fromPost(post)))\n",
    "print()\n",
    "print(post)\n",
    "print()\n",
    "display(HTML(post['content']))\n",
    "    \n",
    "# display extracted and true phase transitions\n",
    "html('# Phase Transitions')\n",
    "print('True Transitions:', game_transitions)\n",
    "print(transition_results[number][day-1])\n",
    "html('[{}]({})'.format(*transition_results[number][day-1]))\n",
    "transition_start, transition_end, transition_match, final_vote = None, None, False, None\n",
    "for post in gameposts[start_point:int(postnumber)]:\n",
    "    \n",
    "    # prioritize any events associated with post\n",
    "    if post['number'] in events:\n",
    "        post_events = events[post['number']]\n",
    "        for event in post_events:\n",
    "            \n",
    "            # if event is a daykill, remove the player from votecount and voteextractor\n",
    "            if 'killed' == event.split(' ')[1]:\n",
    "\n",
    "                # update relevant slots and players and make new votecounter\n",
    "                killed_player = event.split(' ')[0]\n",
    "                killed_slot = next(s for s in relevant_slots if s.count(killed_player) > 0)\n",
    "                del relevant_slots[relevant_slots.index(killed_slot)]\n",
    "                relevant_players = []\n",
    "                for slot in relevant_slots:\n",
    "                    relevant_players += slot\n",
    "                votecounter = VoteCounter.VoteExtracter(players=relevant_players)\n",
    "                votecount.killplayer(killed_player, post['number'])\n",
    "                \n",
    "            # if event is a vote reset, set relevant player(s) to not voting\n",
    "            elif 'reset' == event.split(' ')[1]:\n",
    "                reset_players = ([s[0] for s in relevant_slots] \n",
    "                                if event.split(' ')[0].lower() == 'votecount'\n",
    "                                 else [event.split(' ')[0]])\n",
    "                for reset_player in reset_players:\n",
    "                    votecount.update(reset_player, 'UNVOTE', post['number'])\n",
    "                    \n",
    "            # if event is a vote specification, set relevant player(s) to vote\n",
    "            elif ' voted ' in event:\n",
    "                votecount.update(event.split(' voted ')[0], event.split(' voted ')[1], post['number'])\n",
    "                        \n",
    "    # consider no more votes if voters have made a choice already\n",
    "    elif not votecount.choice:\n",
    "\n",
    "        # ignore posts not made by players\n",
    "        if relevant_players.count(post['user']) == 0:\n",
    "            continue\n",
    "\n",
    "        # update votecount for each vote found by votecounter\n",
    "        # stop considering votes in post if votecount.choice\n",
    "        for voted in votecounter.fromPost(post):\n",
    "            votecount.update(post['user'], voted, post['number'])\n",
    "            if votecount.choice:\n",
    "                print('Final Vote Post#', post['number'])\n",
    "                break\n",
    "\n",
    "    # keep scanning to find newest post by game mod after detectedhammer\n",
    "    elif not transition_start:\n",
    "        if moderators.count(post['user']) > 0:\n",
    "            transition_start = int(post['number'])\n",
    "            print('Transition Start:', transition_start)\n",
    "\n",
    "    # keep scanning to find last successive post by mod after they end Day\n",
    "    elif not transition_end:\n",
    "        if moderators.count(post['user']) == 0:\n",
    "            transition_end = int(post['number'])\n",
    "            print('Transition End:', transition_start)\n",
    "\n",
    "            # track match between inferred and transcribed transition post#\n",
    "            transition_match = int(game_transitions[0]) in list(range(transition_start, transition_end))\n",
    "            print('Transition Match:', transition_match)\n",
    "\n",
    "    # finish if votecount.choice, transition_start, and transition_end all populated\n",
    "    else:\n",
    "        break\n",
    "        \n",
    "# display votecount up to indicated post number\n",
    "html('# Current Votecount (Up to {})'.format(postnumber))\n",
    "current_votecount = votecount.todict()\n",
    "for each in current_votecount:\n",
    "    if current_votecount[each]:\n",
    "        print(each, '-', len(current_votecount[each]))\n",
    "        for voter in current_votecount[each]:\n",
    "            print(voter)\n",
    "        print()\n",
    "\n",
    "# display final votecount\n",
    "html('# Final Votecount')\n",
    "final_votecount = vote_results[number][day-1].todict()\n",
    "for each in final_votecount:\n",
    "    if final_votecount[each]:\n",
    "        print(each, '-', len(final_votecount[each]))\n",
    "        for voter in final_votecount[each]:\n",
    "            print(voter)\n",
    "        print()\n",
    "        \n",
    "# display final votelog\n",
    "html('# Vote Log')\n",
    "votelog = vote_results[number][day-1].votelog.copy()\n",
    "for index, each in enumerate(votelog):\n",
    "    each = each.split()\n",
    "    each[-1] = '[{}]({})'.format(each[-1], next(item for item in gameposts if item[\"number\"] == each[-1])['pagelink'])\n",
    "    votelog[index] = ' '.join(each)\n",
    "html('  \\n'.join(reversed(votelog)))"
   ]
  },
  {
   "cell_type": "code",
   "execution_count": 42,
   "metadata": {},
   "outputs": [
    {
     "data": {
      "text/plain": [
       "{'597': ['LittleGrey voted jilynne1991'],\n",
       " '586 as mod rejected \"[b] vote elusive[\\\\b]\"': ['Slaxx did not actually vote E_Lou_Sive']}"
      ]
     },
     "execution_count": 42,
     "metadata": {},
     "output_type": "execute_result"
    }
   ],
   "source": [
    "events"
   ]
  },
  {
   "cell_type": "code",
   "execution_count": 24,
   "metadata": {},
   "outputs": [
    {
     "data": {
      "text/plain": [
       "'158'"
      ]
     },
     "execution_count": 24,
     "metadata": {},
     "output_type": "execute_result"
    }
   ],
   "source": [
    "post['number']"
   ]
  },
  {
   "cell_type": "code",
   "execution_count": 39,
   "metadata": {},
   "outputs": [
    {
     "data": {
      "text/html": [
       "<h1>Current Votecount (Up to 1268)</h1>\n"
      ],
      "text/plain": [
       "<IPython.core.display.HTML object>"
      ]
     },
     "metadata": {},
     "output_type": "display_data"
    },
    {
     "name": "stdout",
     "output_type": "stream",
     "text": [
      "['Boonskiies', 'Aeronaut'] - 1\n",
      "['Aquanim']\n",
      "\n",
      "['oddmusic'] - 4\n",
      "['eektor']\n",
      "['pisskop']\n",
      "['Boonskiies', 'Aeronaut']\n",
      "['RadiantCowbells']\n",
      "\n",
      "['RadiantCowbells'] - 2\n",
      "['oddmusic']\n",
      "['Metalcyanide']\n",
      "\n",
      "['mykonian'] - 1\n",
      "['Taly']\n",
      "\n",
      "['Taly'] - 3\n",
      "['Elyse']\n",
      "['mykonian']\n",
      "['Bellaphant', 'InsidiousLemons']\n",
      "\n",
      "Not Voting - 2\n",
      "['TheDudeAbides']\n",
      "['toolenduso']\n",
      "\n"
     ]
    }
   ],
   "source": [
    "html('# Current Votecount (Up to {})'.format(postnumber))\n",
    "current_votecount = votecount.todict()\n",
    "for each in current_votecount:\n",
    "    if current_votecount[each]:\n",
    "        print(each, '-', len(current_votecount[each]))\n",
    "        for voter in current_votecount[each]:\n",
    "            print(voter)\n",
    "        print()"
   ]
  },
  {
   "cell_type": "code",
   "execution_count": null,
   "metadata": {},
   "outputs": [],
   "source": []
  }
 ],
 "metadata": {
  "kernelspec": {
   "display_name": "Python 3",
   "language": "python",
   "name": "python3"
  },
  "language_info": {
   "codemirror_mode": {
    "name": "ipython",
    "version": 3
   },
   "file_extension": ".py",
   "mimetype": "text/x-python",
   "name": "python",
   "nbconvert_exporter": "python",
   "pygments_lexer": "ipython3",
   "version": "3.7.4"
  },
  "pycharm": {
   "stem_cell": {
    "cell_type": "raw",
    "metadata": {
     "collapsed": false
    },
    "source": []
   }
  }
 },
 "nbformat": 4,
 "nbformat_minor": 4
}
